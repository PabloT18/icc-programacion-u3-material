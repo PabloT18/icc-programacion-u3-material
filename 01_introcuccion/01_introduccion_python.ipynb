{
    "cells": [
        {
            "cell_type": "markdown",
            "id": "8195f945",
            "metadata": {},
            "source": [
                "# Lenguanje de Programación\n",
                "### Universidad Politecnica Salesiana\n",
                "### Ingeniería en Ciencias de la Computación\n",
                "### Programación\n",
                "\n",
                "<img src=\"../assets/ups-icc.png\" alt=\"Logo Carrera\" style=\"height:75px;\"/>\n"
            ]
        },
        {
            "cell_type": "markdown",
            "metadata": {},
            "source": [
                "---"
            ]
        },
        {
            "cell_type": "markdown",
            "metadata": {},
            "source": [
                "## Autores del Material\n",
                "- **Instructor**: Ing. Pablo Torres\n",
                "- **Contacto**: ptorresp@ups.edu.ec"
            ]
        },
        {
            "cell_type": "markdown",
            "metadata": {},
            "source": [
                "---"
            ]
        },
        {
            "cell_type": "markdown",
            "metadata": {},
            "source": [
                "## Introducción a Python\n",
                "\n",
                "### Descripción General\n",
                "En este tema, exploraremos los fundamentos de Python, su historia, características y ventajas. Aprenderemos a configurar el entorno de desarrollo y a escribir nuestro primer programa en Python.\n",
                "\n",
                "### Objetivos de Aprendizaje\n",
                "- Comprender qué es Python y sus aplicaciones.\n",
                "- Conocer la historia y evolución de Python.\n",
                "- Identificar las características y ventajas de Python.\n",
                "- Configurar el entorno de desarrollo para programar en Python.\n",
                "- Escribir y ejecutar un programa básico en Python."
            ]
        },
        {
            "cell_type": "markdown",
            "metadata": {},
            "source": [
                "---"
            ]
        },
        {
            "cell_type": "markdown",
            "metadata": {},
            "source": [
                "### 1. ¿Qué es Python?\n",
                "\n",
                "#### Definición y Propósito\n",
                "Python es un lenguaje de programación de alto nivel, interpretado y de propósito general, conocido por su sintaxis clara y legible. Fue diseñado para facilitar la escritura de código comprensible y mantenible.\n",
                "\n",
                "#### Ejemplo Básico en Python\n",
                "```python\n",
                "# Programa simple en Python\n",
                "print(\"¡Hola, Mundo!\")\n",
                "```"
            ]
        },
        {
            "cell_type": "markdown",
            "metadata": {},
            "source": [
                "---"
            ]
        },
        {
            "cell_type": "markdown",
            "metadata": {},
            "source": [
                "### 2. Historia de Python\n",
                "\n",
                "#### Orígenes y Evolución\n",
                "Python fue creado por Guido van Rossum y su primera versión fue lanzada en 1991. Van Rossum desarrolló Python como un sucesor del lenguaje ABC, buscando un lenguaje que fuera fácil de leer y usar.\n",
                "\n",
                "#####  Versiones\n",
                "- **Python 1.0** (1994): Introducción de módulos y excepciones.\n",
                "- **Python 2.0** (2000): Añadido soporte para programación orientada a objetos, recolector de basura, y otras mejoras significativas. Soporte finalizó en enero de 2020.\n",
                "- **Python 3.0** (2008): Introducción de cambios incompatibles con versiones anteriores para mejorar la consistencia y eliminar redundancias.\n",
                "- **Actualizaciones Recientes**: Continuas mejoras en rendimiento, sintaxis y nuevas librerías, manteniendo a Python relevante en la industria.\n",
                "\n",
                "\n",
                "##### Diferencias entre Python 2 y Python 3\n",
                "```python\n",
                "# Python 2\n",
                "print \"¡Hola, Mundo!\"\n",
                "\n",
                "# Python 3\n",
                "print(\"¡Hola, Mundo!\")\n",
                "```"
            ]
        },
        {
            "cell_type": "markdown",
            "metadata": {},
            "source": [
                "---"
            ]
        },
        {
            "cell_type": "markdown",
            "metadata": {},
            "source": [
                "### 3. Características de Python\n",
                "\n",
                "#### Sintaxis Sencilla y Legible\n",
                "Python utiliza una sintaxis que enfatiza la legibilidad del código, permitiendo a los desarrolladores expresar conceptos en menos líneas de código que otros lenguajes.\n",
                "\n",
                "#### Lenguaje Interpretado\n",
                "Python se ejecuta línea por línea mediante un intérprete, lo que facilita la depuración y la ejecución interactiva.\n",
                "\n",
                "#### Soporte para Múltiples Paradigmas\n",
                "- **Procedimental**: Permite escribir programas estructurados con funciones y procedimientos.\n",
                "- **Orientado a Objetos**: Soporta la creación y manipulación de objetos y clases.\n",
                "- **Funcional**: Permite el uso de funciones de primera clase, lambdas, y otras características de la programación funcional.\n",
                " \n",
                "#### Extensa Biblioteca Estándar\n",
                "Python viene con una vasta biblioteca estándar que incluye módulos para manejo de archivos, internet, protocolos, y más.\n",
                "\n",
                "#### Ejemplo de Uso de una Librería Estándar\n",
                "```python\n",
                "import math\n",
                "\n",
                "radio = 5\n",
                "area = math.pi * (radio ** 2)\n",
                "print(f\"El área del círculo es: {area}\")\n",
                "```"
            ]
        },
        {
            "cell_type": "markdown",
            "metadata": {},
            "source": [
                "---"
            ]
        },
        {
            "cell_type": "markdown",
            "metadata": {},
            "source": [
                "### 4. Ventajas de Usar Python\n",
                "\n",
                "#### Facilidad de Aprendizaje y Uso\n",
                "La sintaxis clara y concisa de Python facilita que los principiantes aprendan a programar rápidamente.\n",
                "\n",
                "#### Amplia Comunidad y Soporte\n",
                "Python cuenta con una comunidad global que contribuye con documentación, tutoriales, foros y eventos.\n",
                "\n",
                "#### Gran Cantidad de Librerías y Frameworks\n",
                "- **Desarrollo Web**: Django, Flask\n",
                "- **Ciencia de Datos**: Pandas, NumPy\n",
                "- **Inteligencia Artificial**: TensorFlow, PyTorch\n",
                "\n",
                "#### Aplicaciones en Diversos Campos\n",
                "- **Desarrollo Web**\n",
                "- **Ciencia de Datos**\n",
                "- **Inteligencia Artificial**\n",
                "- **Automatización**\n",
                "\n",
                "---"
            ]
        },
        {
            "cell_type": "markdown",
            "metadata": {},
            "source": [
                "## Recursos Adicionales\n",
                "\n",
                "- [Documentación Oficial de Python](https://docs.python.org/3/)\n",
                "- [Curso de Python en Coursera](https://www.coursera.org/specializations/python)\n",
                "- [Tutoriales de Python en Real Python](https://realpython.com/)\n",
                "- [Stack Overflow - Python](https://stackoverflow.com/questions/tagged/python)"
            ]
        },
        {
            "cell_type": "markdown",
            "metadata": {},
            "source": [
                "---"
            ]
        },
        {
            "cell_type": "markdown",
            "metadata": {},
            "source": [
                "## Referencias\n",
                "\n",
                "1. Van Rossum, G. (1991). *Python Tutorial*. Python Software Foundation.\n",
                "2. Lutz, M. (2013). *Learning Python*. O'Reilly Media.\n",
                "3. Sweigart, A. (2015). *Automate the Boring Stuff with Python*. No Starch Press.\n",
                "\n",
                "---"
            ]
        }
    ],
    "metadata": {
        "kernelspec": {
            "display_name": "myenv",
            "language": "python",
            "name": "python3"
        },
        "language_info": {
            "codemirror_mode": {
                "name": "ipython",
                "version": 3
            },
            "file_extension": ".py",
            "mimetype": "text/x-python",
            "name": "python",
            "nbconvert_exporter": "python",
            "pygments_lexer": "ipython3",
            "version": "3.12.4"
        }
    },
    "nbformat": 4,
    "nbformat_minor": 5
}
