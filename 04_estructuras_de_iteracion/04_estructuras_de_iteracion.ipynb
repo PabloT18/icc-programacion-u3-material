{
    "cells": [
        {
            "cell_type": "markdown",
            "id": "10386c75",
            "metadata": {},
            "source": [
                "# Lenguanje de Programación\n",
                "### Universidad Politecnica Salesiana\n",
                "### Ingeniería en Ciencias de la Computación\n",
                "### Programación\n",
                "\n",
                "<img src=\"../assets/ups-icc.png\" alt=\"Logo Carrera\" style=\"height:75px;\"/>\n"
            ]
        },
        {
            "cell_type": "markdown",
            "id": "539c7cf2",
            "metadata": {},
            "source": [
                "---"
            ]
        },
        {
            "cell_type": "markdown",
            "id": "17834042",
            "metadata": {},
            "source": [
                "## Autores del Material\n",
                "- **Instructor**: Ing. Pablo Torres\n",
                "- **Contacto**: ptorresp@ups.edu.ec"
            ]
        },
        {
            "cell_type": "markdown",
            "id": "8f182f75",
            "metadata": {},
            "source": [
                "---"
            ]
        },
        {
            "cell_type": "markdown",
            "id": "301fb1fb",
            "metadata": {},
            "source": [
                "##  Temas \n",
                "Estructuras de Iteración en Python E\n",
                "\n",
                "- While\n",
                "- For\n",
                "\n",
                "\n",
                "\n",
                "### Descripción General\n",
                "En este tema, exploraremos las estructuras de iteración en Python, que nos permiten ejecutar bloques de código de manera repetitiva. Analizaremos las estructuras `while` y `for`, comprendiendo su sintaxis y aplicabilidad mediante ejemplos prácticos. Además, veremos cómo combinar estructuras de iteración con estructuras de decisión para resolver problemas más complejos.\n",
                "\n",
                "\n",
                "### Objetivos de Aprendizaje\n",
                "- Comprender el uso de la estructura while en Python.\n",
                "- Implementar estructuras for para iterar sobre secuencias.\n",
                "- Combinar estructuras de iteración con estructuras de decisión.\n",
                "- Aplicar las estructuras de iteración en la resolución de problemas\n",
                "\n",
                "\n",
                "\n"
            ]
        },
        {
            "cell_type": "markdown",
            "id": "eefcdb43",
            "metadata": {},
            "source": [
                "---"
            ]
        },
        {
            "cell_type": "markdown",
            "id": "d4748d13",
            "metadata": {},
            "source": [
                "## A. Estructuras de Iteración en Python\n",
                "\n",
                "Las estructuras de iteración permiten que el programa ejecute repetidamente un bloque de código mientras se cumpla una condición o recorra una secuencia de elementos.\n",
                "\n"
            ]
        },
        {
            "cell_type": "markdown",
            "id": "91e23f3b",
            "metadata": {},
            "source": [
                "### 1.1. La Estructura `while`\n",
                "\n",
                "#### Definición y Propósito\n",
                "- **Definición**: Definición: La estructura `while` se utiliza para ejecutar un bloque de código mientras una condición específica se evalúa como verdadera.\n",
                "- **Propósito**: Permite realizar repeticiones indefinidas hasta que una condición deje de cumplirse."
            ]
        },
        {
            "cell_type": "markdown",
            "id": "640e4380",
            "metadata": {},
            "source": [
                "#### Sintaxis\n",
                "```python\n",
                "while condición:\n",
                "    # Bloque de código a ejecutar mientras la condición sea verdadera\n",
                "```"
            ]
        },
        {
            "cell_type": "markdown",
            "id": "823f8a5f",
            "metadata": {},
            "source": [
                "#### Ejemplo de Uso\n",
                "```python\n",
                "# Ejemplo de estructura while\n",
                "contador = 1\n",
                "\n",
                "while contador <= 5:\n",
                "    print(f\"Contador: {contador}\")\n",
                "    contador += 1\n",
                "```\n",
                "*En este ejemplo, el mensaje se imprimirá cinco veces, incrementando el valor de `contador` en cada iteración.*"
            ]
        },
        {
            "cell_type": "code",
            "execution_count": 14,
            "id": "23c48b71",
            "metadata": {},
            "outputs": [
                {
                    "name": "stdout",
                    "output_type": "stream",
                    "text": [
                        "Contador: 1\n",
                        "Contador: 2\n",
                        "Contador: 3\n",
                        "Contador: 4\n",
                        "Contador: 5\n",
                        "Contador: 6\n",
                        "Contador: 7\n"
                    ]
                }
            ],
            "source": [
                "contador = 1\n",
                "\n",
                "while contador <= 5 or contador == 6:\n",
                "    print(f\"Contador: {contador}\")\n",
                "    contador = contador + 1\n",
                "print(f\"Contador: {contador}\")\n"
            ]
        },
        {
            "cell_type": "markdown",
            "id": "25cfd6d8",
            "metadata": {},
            "source": [
                "---"
            ]
        },
        {
            "cell_type": "markdown",
            "id": "fc2e657f",
            "metadata": {},
            "source": [
                "### 1.2. La Estructura `for`\n",
                "\n",
                "#### Definición y Propósito\n",
                "- **Definición**: La estructura `for` se utiliza para iterar sobre los elementos de una secuencia (como listas, tuplas, cadenas, etc.) y ejecutar un bloque de código para cada elemento.\n",
                "- **Propósito**: Facilita la iteración sobre colecciones de datos de manera eficiente y legible.### 1.2. La Estructura `for`\n",
                "\n",
                "#### Definición y Propósito\n",
                "- **Definición**: La estructura `for` se utiliza para iterar sobre los elementos de una secuencia (como listas, tuplas, cadenas, etc.) y ejecutar un bloque de código para cada elemento.\n",
                "- **Propósito**: Facilita la iteración sobre colecciones de datos de manera eficiente y legible."
            ]
        },
        {
            "cell_type": "markdown",
            "id": "b9a3a624",
            "metadata": {},
            "source": [
                "#### Ejemplo de Uso\n",
                "```python\n",
                "# Ejemplo de estructura for\n",
                "frutas = [\"manzana\", \"banana\", \"cereza\"]\n",
                "\n",
                "for fruta in frutas:\n",
                "    print(f\"Fruta: {fruta}\")\n",
                "```\n",
                "*En este ejemplo, el mensaje se imprimirá una vez por cada elemento en la lista `frutas`.*"
            ]
        },
        {
            "cell_type": "markdown",
            "id": "c63517e0",
            "metadata": {},
            "source": [
                "#### Sintaxis\n",
                "```python\n",
                "for elemento in secuencia:\n",
                "    # Bloque de código a ejecutar para cada elemento\n",
                "```"
            ]
        },
        {
            "cell_type": "markdown",
            "id": "ccf5f735",
            "metadata": {},
            "source": [
                "---"
            ]
        },
        {
            "cell_type": "markdown",
            "id": "0cc4106c",
            "metadata": {},
            "source": [
                "### 1.3. Combinación de Iteración y Decisión\n",
                "\n",
                "#### Definición y Propósito\n",
                "- **Definición**: Combinar estructuras de iteración (`while`, `for`) con estructuras de decisión (`if`, `elif`, `else`) para manejar condiciones dentro de ciclos.\n",
                "- **Propósito**: Permite controlar el flujo de ejecución dentro de bucles basándose en condiciones dinámicas."
            ]
        },
        {
            "cell_type": "markdown",
            "id": "0c92a5be",
            "metadata": {},
            "source": [
                "#### Ejemplo de Uso\n",
                "```python\n",
                "# Ejemplo de combinación de for y if..elif..else\n",
                "numeros = [1, 2, 3, 4, 5, 6]\n",
                "\n",
                "for numero in numeros:\n",
                "    if numero % 2 == 0:\n",
                "        print(f\"{numero} es par.\")\n",
                "    else:\n",
                "        print(f\"{numero} es impar.\")\n",
                "```\n",
                "*En este ejemplo, se iteran los números de la lista y se determina si cada número es par o impar.*"
            ]
        },
        {
            "cell_type": "markdown",
            "id": "dca3477e",
            "metadata": {},
            "source": [
                "##  B. Ejercicios Prácticos"
            ]
        },
        {
            "cell_type": "markdown",
            "id": "9f4ef012",
            "metadata": {},
            "source": [
                "### Ejercicio 1: Tabla de Multiplicar\n",
                "\n",
                "**Descripción**: Crea un programa que solicite al usuario que ingrese un número entero y \n",
                "\n",
                "luego muestre su tabla de multiplicar hasta el 10.\n",
                "\n",
                "**Instrucciones**:\n",
                "1. Utiliza la función `input()` para solicitar al usuario que ingrese un número entero.\n",
                "2. Convierte la entrada a tipo `int` usando la función `int()`.\n",
                "3. Utiliza un ciclo `for` para iterar del 1 al 10.\n",
                "4. En cada iteración, calcula el producto del número ingresado por el iterador.\n",
                "5. Imprime el resultado utilizando `print()` con una f-string.\n",
                "\n",
                "```python\n",
                "\n",
                "```"
            ]
        },
        {
            "cell_type": "code",
            "execution_count": 30,
            "id": "a4c30f47",
            "metadata": {},
            "outputs": [
                {
                    "name": "stdout",
                    "output_type": "stream",
                    "text": [
                        "5 x 1 = 5\n",
                        "5 x 2 = 10\n",
                        "5 x 3 = 15\n",
                        "5 x 4 = 20\n",
                        "5 x 5 = 25\n",
                        "5 x 6 = 30\n",
                        "5 x 7 = 35\n",
                        "5 x 8 = 40\n",
                        "5 x 9 = 45\n",
                        "5 x 10 = 50\n"
                    ]
                }
            ],
            "source": [
                "numero_ingresado = int(input(\"Ingrese un numero: \"))\n",
                "for numero_rango in range(1,11):\n",
                "    resultado = numero_ingresado * numero_rango\n",
                "    print(f\"{numero_ingresado} x {numero_rango} = {resultado}\")"
            ]
        },
        {
            "cell_type": "markdown",
            "id": "f9f9edd1",
            "metadata": {},
            "source": [
                "\n",
                "\n",
                "\n",
                "\n",
                "\n",
                "\n",
                "\n",
                "\n",
                "\n"
            ]
        },
        {
            "cell_type": "code",
            "execution_count": 16,
            "id": "5e044cc9",
            "metadata": {},
            "outputs": [
                {
                    "name": "stdout",
                    "output_type": "stream",
                    "text": [
                        "Tabla de multiplicar del 10:\n",
                        "0 \n",
                        "1 \n",
                        "2 \n",
                        "3 \n",
                        "4 \n",
                        "5 \n",
                        "6 \n",
                        "7 \n",
                        "8 \n",
                        "9 \n"
                    ]
                }
            ],
            "source": [
                "# Solicitar al usuario que ingrese un número entero\n",
                "numero_str = input(\"Ingresa un número entero para ver su tabla de multiplicar: \")\n",
                "numero = int(numero_str)\n",
                "\n",
                "# Mostrar la tabla de multiplicar\n",
                "print(f\"Tabla de multiplicar del {numero}:\")\n",
                "for i in range(10):\n",
                "   \n",
                "    print(f\"{i} \")"
            ]
        },
        {
            "cell_type": "markdown",
            "id": "8f169b8a",
            "metadata": {},
            "source": [
                "### Ejercicio 2: Suma de Números Pares\n",
                "\n",
                "**Descripción**: Crea un programa que calcule la suma de todos los números pares entre 1 y un número ingresado por el usuario.\n",
                "\n",
                "**Instrucciones**:\n",
                "1. Utiliza la función `input()` para solicitar al usuario que ingrese un número entero.\n",
                "2. Convierte la entrada a tipo `int` usando la función `int()`.\n",
                "3. Inicializa una variable para la suma.\n",
                "4. Utiliza un ciclo `for` para iterar desde 1 hasta el número ingresado.\n",
                "5. En cada iteración, verifica si el número es par.\n",
                "6. Si es par, suma el número a la variable de suma.\n",
                "7. Imprime el resultado utilizando `print()` con una f-string.\n",
                "\n",
                "```python\n",
                "# Solicitar al usuario que ingrese un número entero\n",
                "limite_str = input(\"Ingresa un número entero para sumar los números pares hasta él: \")\n",
                "limite = int(limite_str)\n",
                "\n",
                "# Inicializar la suma\n",
                "suma_pares = 0\n",
                "\n",
                "# Iterar desde 1 hasta el límite\n",
                "for numero in range(1, limite + 1):\n",
                "    if numero % 2 == 0:\n",
                "        suma_pares += numero\n",
                "\n",
                "# Mostrar el resultado\n",
                "print(f\"La suma de los números pares hasta {limite} es: {suma_pares}\")\n",
                "```"
            ]
        },
        {
            "cell_type": "code",
            "execution_count": null,
            "id": "25a98f19",
            "metadata": {},
            "outputs": [],
            "source": [
                "numero_str = input(\"Ingresa un número entero para ver su tabla de multiplicar: \")\n",
                "numero= int(numero_str)\n",
                "resultado = 0\n",
                "for num in range(0,numero_str+1,2):\n",
                "    resultado = resultado + num\n",
                "print(f\"La suma de los números pares es: {resultado}\")"
            ]
        },
        {
            "cell_type": "code",
            "execution_count": 3,
            "id": "6bd0b546",
            "metadata": {},
            "outputs": [
                {
                    "name": "stdout",
                    "output_type": "stream",
                    "text": [
                        "La suma de los números pares hasta 32 es: 272\n"
                    ]
                }
            ],
            "source": [
                "# Solicitar al usuario que ingrese un número entero\n",
                "limite_str = input(\"Ingresa un número entero para sumar los números pares hasta él: \")\n",
                "limite = int(limite_str)\n",
                "\n",
                "# Inicializar la suma\n",
                "suma_pares = 0\n",
                "\n",
                "# Iterar desde 1 hasta el límite\n",
                "for numero in range(1, limite + 1):\n",
                "    if numero % 2 == 0:\n",
                "        suma_pares += numero\n",
                "\n",
                "# Mostrar el resultado\n",
                "print(f\"La suma de los números pares hasta {limite} es: {suma_pares}\")"
            ]
        },
        {
            "cell_type": "markdown",
            "id": "d60ddab8",
            "metadata": {},
            "source": [
                "### Ejercicio 4: Factorial de un Número\n",
                "\n",
                "**Descripción**: Crea un programa que calcule el factorial de un número ingresado por el usuario utilizando un ciclo `while`.\n",
                "\n",
                "**Instrucciones**:\n",
                "1. Utiliza la función `input()` para solicitar al usuario que ingrese un número entero positivo.\n",
                "2. Convierte la entrada a tipo `int` usando la función `int()`.\n",
                "3. Inicializa una variable para el factorial con el valor 1.\n",
                "4. Utiliza un ciclo `while` para multiplicar la variable factorial por cada número desde 1 hasta el número ingresado.\n",
                "5. Imprime el resultado utilizando `print()` con una f-string.\n",
                "\n",
                "```python\n",
                "# Solicitar al usuario que ingrese un número entero positivo\n",
                "numero_str = input(\"Ingresa un número entero positivo para calcular su factorial: \")\n",
                "numero = int(numero_str)\n",
                "\n",
                "# Inicializar el factorial\n",
                "factorial = 1\n",
                "contador = 1\n",
                "\n",
                "# Calcular el factorial usando while\n",
                "while contador <= numero:\n",
                "    factorial *= contador\n",
                "    contador += 1\n",
                "\n",
                "# Mostrar el resultado\n",
                "print(f\"El factorial de {numero} es: {factorial}\")\n",
                "```"
            ]
        },
        {
            "cell_type": "code",
            "execution_count": 4,
            "id": "7a9f1002",
            "metadata": {},
            "outputs": [
                {
                    "name": "stdout",
                    "output_type": "stream",
                    "text": [
                        "El factorial de 34 es: 295232799039604140847618609643520000000\n"
                    ]
                }
            ],
            "source": [
                "# Solicitar al usuario que ingrese un número entero positivo\n",
                "numero_str = input(\"Ingresa un número entero positivo para calcular su factorial: \")\n",
                "numero = int(numero_str)\n",
                "\n",
                "# Inicializar el factorial\n",
                "factorial = 1\n",
                "contador = 1\n",
                "\n",
                "# Calcular el factorial usando while\n",
                "while contador <= numero:\n",
                "    factorial *= contador\n",
                "    contador += 1\n",
                "\n",
                "# Mostrar el resultado\n",
                "print(f\"El factorial de {numero} es: {factorial}\")"
            ]
        },
        {
            "cell_type": "markdown",
            "id": "5c4feace",
            "metadata": {},
            "source": [
                "\n",
                "### Ejercicio 4: Contador de Vocales\n",
                "\n",
                "**Descripción**: Crea un programa que solicite al usuario que ingrese una cadena de texto y cuente el número de vocales presentes en la cadena.\n",
                "\n",
                "**Instrucciones**:\n",
                "1. Utiliza la función `input()` para solicitar al usuario que ingrese una cadena de texto.\n",
                "2. Inicializa un contador para las vocales.\n",
                "3. Utiliza un ciclo `for` para iterar sobre cada carácter de la cadena.\n",
                "4. Utiliza una estructura `if` para verificar si el carácter es una vocal.\n",
                "5. Incrementa el contador cada vez que se encuentre una vocal.\n",
                "6. Imprime el número total de vocales utilizando `print()` con una f-string.\n",
                "\n",
                "```python\n",
                "# Solicitar al usuario que ingrese una cadena de texto\n",
                "texto = input(\"Ingresa una cadena de texto: \")\n",
                "\n",
                "# Inicializar el contador de vocales\n",
                "contador_vocales = 0\n",
                "\n",
                "# Definir las vocales\n",
                "vocales = \"aeiouAEIOU\"\n",
                "\n",
                "# Iterar sobre cada carácter en la cadena\n",
                "for caracter in texto:\n",
                "    if caracter in vocales:\n",
                "        contador_vocales += 1\n",
                "\n",
                "# Mostrar el resultado\n",
                "print(f\"El número total de vocales en la cadena es: {contador_vocales}\")\n",
                "```"
            ]
        },
        {
            "cell_type": "code",
            "execution_count": 1,
            "id": "81df9ccd",
            "metadata": {},
            "outputs": [
                {
                    "name": "stdout",
                    "output_type": "stream",
                    "text": [
                        "El número total de vocales en la cadena es: 2\n"
                    ]
                }
            ],
            "source": [
                "# Solicitar al usuario que ingrese una cadena de texto\n",
                "texto = input(\"Ingresa una cadena de texto: \")\n",
                "\n",
                "# Inicializar el contador de vocales\n",
                "contador_vocales = 0\n",
                "\n",
                "# Definir las vocales\n",
                "vocales = \"aeiouAEIOU\"\n",
                "\n",
                "# Iterar sobre cada carácter en la cadena\n",
                "for caracter in texto:\n",
                "    if caracter in vocales:\n",
                "        contador_vocales += 1\n",
                "\n",
                "# Mostrar el resultado\n",
                "print(f\"El número total de vocales en la cadena es: {contador_vocales}\")"
            ]
        },
        {
            "cell_type": "markdown",
            "id": "e1d3c91a",
            "metadata": {},
            "source": [
                "## C. Resumen de Conceptos Clave\n",
                "\n",
                "1. **Estructuras de Iteración**: Permiten ejecutar bloques de código de manera repetitiva, ya sea mientras se cumpla una condición (`while`) o iterando sobre una secuencia (`for`).\n",
                "2. **Estructura `while`**: Ejecuta un bloque de código mientras una condición específica sea verdadera.\n",
                "3. **Estructura `for`**: Itera sobre los elementos de una secuencia (como listas, tuplas, cadenas) y ejecuta un bloque de código para cada elemento.\n",
                "4. **Combinación de Iteración y Decisión**: Permite controlar el flujo de ejecución dentro de bucles basándose en condiciones dinámicas utilizando estructuras de decisión como `if`, `elif`, y `else`.\n",
                "5. **`range()`**: Función utilizada comúnmente con ciclos `for` para generar una secuencia de números.\n",
                "6. **f-strings**: Facilitan el formateo de cadenas de texto, permitiendo incorporar variables y expresiones dentro de las cadenas de manera legible y eficiente.\n",
                "7. **Conversión de Tipos**:\n",
                "   - `int()`: Convierte una cadena de texto a un entero.\n",
                "   - `float()`: Convierte una cadena de texto a un número de punto flotante.\n",
                "   - `str()`: Convierte un valor a una cadena de texto."
            ]
        },
        {
            "cell_type": "markdown",
            "id": "cc94709d",
            "metadata": {},
            "source": []
        },
        {
            "cell_type": "markdown",
            "id": "bc7812ea",
            "metadata": {},
            "source": [
                "## D. Recursos Adicionales\n",
                "\n",
                "- [Documentación Oficial de Python - Estructuras de Decisión](https://docs.python.org/3/tutorial/controlflow.html#conditional-statements)\n",
                "- [Tutorial de Estructuras de Decisión en Real Python](https://realpython.com/python-conditional-statements/)\n",
                "- [Ejemplos de Estructuras de Decisión en W3Schools](https://www.w3schools.com/python/python_conditions.asp)\n",
                "- [Curso de Python en Coursera](https://www.coursera.org/specializations/python)"
            ]
        },
        {
            "cell_type": "markdown",
            "id": "cfced48b",
            "metadata": {},
            "source": [
                "---\n",
                "\n",
                "## E. Referencias\n",
                "\n",
                "1. Van Rossum, G. (1991). *Python Tutorial*. Python Software Foundation.\n",
                "2. Lutz, M. (2013). *Learning Python*. O'Reilly Media.\n",
                "3. Sweigart, A. (2015). *Automate the Boring Stuff with Python*. No Starch Press.\n",
                "\n",
                "---"
            ]
        }
    ],
    "metadata": {
        "kernelspec": {
            "display_name": "myenv",
            "language": "python",
            "name": "python3"
        },
        "language_info": {
            "codemirror_mode": {
                "name": "ipython",
                "version": 3
            },
            "file_extension": ".py",
            "mimetype": "text/x-python",
            "name": "python",
            "nbconvert_exporter": "python",
            "pygments_lexer": "ipython3",
            "version": "3.12.4"
        }
    },
    "nbformat": 4,
    "nbformat_minor": 5
}
