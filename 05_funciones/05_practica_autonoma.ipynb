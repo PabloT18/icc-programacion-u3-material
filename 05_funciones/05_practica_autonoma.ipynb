{
 "cells": [
  {
   "cell_type": "markdown",
   "metadata": {},
   "source": [
    "# Lenguanjes de Programación\n",
    "### Universidad Politecnica Salesiana\n",
    "### Ingeniería en Ciencias de la Computación\n",
    "### Programación\n",
    "\n",
    "<img src=\"../assets/ups-icc.png\" alt=\"Logo Carrera\" style=\"height:75px;\"/>\n"
   ]
  },
  {
   "cell_type": "markdown",
   "metadata": {},
   "source": [
    "---"
   ]
  },
  {
   "cell_type": "markdown",
   "metadata": {},
   "source": [
    "## Autores de la practica\n",
    "- **Estudiante**: \n",
    "- **Correo**: "
   ]
  },
  {
   "cell_type": "markdown",
   "metadata": {},
   "source": [
    "---"
   ]
  },
  {
   "cell_type": "markdown",
   "metadata": {},
   "source": [
    "##  Practica Autónoma  \n",
    "**Funciones en Python**\n",
    "\n",
    "### Descripción General\n",
    "Requisitos del Sistema\n",
    "\n",
    "El sistema simula una aplicación de perfil ambiental en la que los usuarios ingresan datos sobre sus hábitos para obtener un \"perfil ecológico.\" Según la frecuencia de ciertas actividades y prácticas, los usuarios recibirán recomendaciones personalizadas para mejorar su impacto ambiental. Los usuarios ingresarán su nombre, edad, ciudad, y luego se les pedirá información adicional basada en su categoría de hábitos ecológicos. Esta categoría se define en función de tres datos de entrada clave:\n",
    "\n",
    "Frecuencia de reciclaje (reciclaje_frecuencia): un número entero que representa la frecuencia en días en la que reciclan.\n",
    "Tipo de transporte habitual (tipo_transporte): una cadena de texto que especifica su medio de transporte principal, como \"publico\", \"auto\", o \"bici\".\n",
    "Tipo de dieta (tipo_dieta): una cadena de texto que describe su dieta (por ejemplo, \"carnivora\", \"vegetariana\", o \"vegana\").\n",
    "\n",
    "\n",
    "### Objetivos de Aprendizaje\n",
    "- Crear funciones en Python que permitan categorizar a una persona en función de sus respuestas sobre prácticas ecológicas y generar un perfil con recomendaciones personalizadas. El perfil se muestra al final de la interacción."
   ]
  },
  {
   "cell_type": "markdown",
   "metadata": {},
   "source": [
    "### Indicaciones para cada función\n",
    "\n",
    "1. **Función `get_categoria_habitos`**: \n",
    "   - Recibe como parámetros:\n",
    "     - `reciclaje_frecuencia` (número entero que representa la frecuencia en días en que recicla),\n",
    "     - `tipo_transporte` (cadena que describe su medio de transporte habitual: \"publico\", \"auto\", o \"bici\"),\n",
    "     - `tipo_dieta` (cadena que describe su dieta: \"carnivora\", \"vegetariana\", o \"vegana\").\n",
    "   - Determina la categoría ambiental del usuario con las siguientes reglas:\n",
    "     - \"Eco-Consciente\" si recicla al menos una vez a la semana, usa transporte público o bicicleta, y sigue una dieta vegetariana o vegana.\n",
    "     - \"Moderado\" si recicla al menos una vez al mes y no usa automóvil como transporte principal.\n",
    "     - \"Mejorable\" si recicla menos de una vez al mes o utiliza el automóvil frecuentemente y sigue una dieta carnívora.\n",
    "   - Devuelve la categoría resultante.\n",
    "\n",
    "2. **Función `input_int`**: \n",
    "   - Solicita un número entero al usuario con un mensaje específico.\n",
    "   - Devuelve el número ingresado.\n",
    "\n",
    "3. **Función `input_str`**: \n",
    "   - Solicita una cadena de texto al usuario con un mensaje específico.\n",
    "   - Devuelve la cadena ingresada.\n",
    "\n",
    "4. **Función `get_info_adicional`**:\n",
    "   - Recibe como parámetro la categoría (Eco-Consciente, Moderado, Mejorable).\n",
    "   - Basado en la categoría, solicita información adicional:\n",
    "     - **Eco-Consciente**: pregunta si el usuario ha plantado árboles en el último año.\n",
    "     - **Moderado**: pregunta si utiliza productos de bajo consumo energético (responde con \"S\" para sí o \"N\" para no).\n",
    "     - **Mejorable**: pregunta si el usuario está interesado en recibir recomendaciones para mejorar su impacto ambiental.\n",
    "   - Devuelve la respuesta adicional.\n",
    "\n",
    "5. **Función `show_perfil`**:\n",
    "   - Muestra el perfil completo en una sola línea, con un formato personalizado:\n",
    "     - Ejemplos:\n",
    "       - `\"Juan de 25 años vive en Quito, es Eco-Consciente y ha plantado árboles en el último año.\"`\n",
    "       - `\"Maria de 40 años vive en Guayaquil, es Moderada y usa productos de bajo consumo energético.\"`\n",
    "       - `\"Carlos de 35 años vive en Cuenca, tiene un perfil Mejorable y está interesado en recibir recomendaciones.\"`"
   ]
  },
  {
   "cell_type": "markdown",
   "metadata": {},
   "source": [
    "### Explicación del Flujo\n",
    "\n",
    "1. **Ingreso de datos básicos**: Se solicita al usuario su edad, nombre y ciudad.\n",
    "2. **Ingreso de datos de hábitos**: Se pregunta la frecuencia de reciclaje, el tipo de transporte habitual y el tipo de dieta.\n",
    "3. **Determinación de categoría**: La función `get_categoria_habitos` clasifica al usuario según sus respuestas en una de las categorías ambientales.\n",
    "4. **Obtención de información adicional**: Basada en la categoría, se solicita información adicional específica.\n",
    "5. **Mostrar perfil completo**: `show_perfil` muestra todos los datos del usuario de forma estructurada.\n"
   ]
  },
  {
   "cell_type": "markdown",
   "metadata": {},
   "source": [
    "---"
   ]
  },
  {
   "cell_type": "code",
   "execution_count": null,
   "metadata": {},
   "outputs": [],
   "source": [
    "def show_perfil(nombre, edad, ciudad, categoria, adicional):\n",
    "    print(nombre, \"tiene\", edad, ........)"
   ]
  },
  {
   "cell_type": "code",
   "execution_count": null,
   "metadata": {},
   "outputs": [],
   "source": [
    "nombre = input_str(\"Ingrese Nomrbre\")\n",
    "edad = input_int(\"Ingrese edad\")\n",
    "ciudad = input_str(\"Ingrese Ciudad\")\n",
    "reciclaje_frecuencia = input_int(\"Ingrese reciclaje_frecuencia\")\n",
    "tipo_transporte = input_str(\"Ingrese tipo trasnport \")\n",
    "tipo_dieta = input_str(\"Ingrese tipo dieta\")\n",
    "\n",
    "categoria = get_categoria_habitos(reciclaje_frecuencia,\n",
    "                                tipo_transporte,\n",
    "                                tipo_dieta)\n",
    "info_adicional = get_info_adicional(categoria)\n",
    "show_perfil(nombre, edad, ciudad, \n",
    "            categoria, info_adicional)"
   ]
  },
  {
   "cell_type": "code",
   "execution_count": null,
   "metadata": {},
   "outputs": [],
   "source": [
    "def get_categoria_habitos(fre, trans, diet):\n",
    "    if (...):\n",
    "        return \"Eco\"\n",
    "    elif (...):\n",
    "        return \"Moderado\"\n",
    "    else:\n",
    "        return \"Mejorable\"\n",
    "\n"
   ]
  }
 ],
 "metadata": {
  "kernelspec": {
   "display_name": "myenv",
   "language": "python",
   "name": "python3"
  },
  "language_info": {
   "name": "python",
   "version": "3.12.4"
  }
 },
 "nbformat": 4,
 "nbformat_minor": 2
}
