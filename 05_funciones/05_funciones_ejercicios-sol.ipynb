{
    "cells": [
        {
            "cell_type": "markdown",
            "id": "4f95afd9",
            "metadata": {},
            "source": [
                "## 2. Ejercicios Prácticos de Funciones "
            ]
        },
        {
            "cell_type": "markdown",
            "metadata": {},
            "source": [
                "### Ejercicio 1: Función para Verificar si un Número es Primo\n",
                "\n",
                "**Descripción**: Crea una función que determine si un número entero es primo. Un número primo es aquel que solo es divisible por 1 y por sí mismo.\n",
                "\n",
                "**Instrucciones**:\n",
                "1. Define una función llamada `es_primo` que reciba un número entero como parámetro.\n",
                "2. Implementa la lógica para verificar si el número es primo.\n",
                "3. La función debe devolver `True` si el número es primo y `False` en caso contrario.\n",
                "4. Llama a la función con diferentes números y muestra los resultados.\n"
            ]
        },
        {
            "cell_type": "code",
            "execution_count": null,
            "metadata": {},
            "outputs": [],
            "source": [
                "def es_primo(n):\n",
                "    \"\"\"\n",
                "    Verifica si un número entero es primo.\n",
                "    \"\"\"\n",
                "    if n <= 1:\n",
                "        return False\n",
                "    for i in range(2, int(n**0.5) + 1):\n",
                "        if n % i == 0:\n",
                "            return False\n",
                "    return True\n",
                "\n",
                "# Ejemplos de uso\n",
                "numeros = [2, 3, 4, 5, 16, 17]\n",
                "for num in numeros:\n",
                "    print(f\"{num} es primo? {es_primo(num)}\")"
            ]
        },
        {
            "cell_type": "markdown",
            "metadata": {},
            "source": [
                "**Output**:\n",
                "```\n",
                "2 es primo? True\n",
                "3 es primo? True\n",
                "4 es primo? False\n",
                "5 es primo? True\n",
                "16 es primo? False\n",
                "17 es primo? True\n",
                "```"
            ]
        },
        {
            "cell_type": "markdown",
            "metadata": {},
            "source": [
                "---"
            ]
        },
        {
            "cell_type": "markdown",
            "metadata": {},
            "source": [
                "### Ejercicio 2: Función para Calcular el MCD (Máximo Común Divisor)\n",
                "\n",
                "**Descripción**: Crea una función que calcule el Máximo Común Divisor (MCD) de dos números enteros utilizando el algoritmo de Euclides.\n",
                "\n",
                "**Instrucciones**:\n",
                "1. Define una función llamada `mcd` que reciba dos números enteros como parámetros.\n",
                "2. Implementa el algoritmo de Euclides para encontrar el MCD.\n",
                "3. La función debe devolver el MCD de los dos números.\n",
                "4. Llama a la función con diferentes pares de números y muestra los resultados.\n"
            ]
        },
        {
            "cell_type": "markdown",
            "id": "149b7edc",
            "metadata": {},
            "source": []
        },
        {
            "cell_type": "code",
            "execution_count": null,
            "metadata": {},
            "outputs": [],
            "source": [
                "def mcd(a, b):\n",
                "    \"\"\"\n",
                "    Calcula el Máximo Común Divisor (MCD) de dos números usando el algoritmo de Euclides.\n",
                "    \"\"\"\n",
                "    while b != 0:\n",
                "        a, b = b, a % b\n",
                "    return a\n",
                "\n",
                "# Ejemplos de uso\n",
                "pares = [(48, 18), (54, 24), (101, 10), (17, 13)]\n",
                "for a, b in pares:\n",
                "    print(f\"El MCD de {a} y {b} es: {mcd(a, b)}\")"
            ]
        },
        {
            "cell_type": "markdown",
            "metadata": {},
            "source": [
                "**Output**:\n",
                "```\n",
                "El MCD de 48 y 18 es: 6\n",
                "El MCD de 54 y 24 es: 6\n",
                "El MCD de 101 y 10 es: 1\n",
                "El MCD de 17 y 13 es: 1\n",
                "```"
            ]
        },
        {
            "cell_type": "markdown",
            "metadata": {},
            "source": [
                "---"
            ]
        },
        {
            "cell_type": "markdown",
            "metadata": {},
            "source": [
                "### Ejercicio 3: Función para Verificar si una Cadena es un Palíndromo\n",
                "\n",
                "**Descripción**: Crea una función que determine si una cadena de texto es un palíndromo. Un palíndromo es una palabra o frase que se lee igual hacia adelante y hacia atrás.\n",
                "\n",
                "**Instrucciones**:\n",
                "1. Define una función llamada `es_palindromo` que reciba una cadena de texto como parámetro.\n",
                "2. Implementa la lógica para verificar si la cadena es un palíndromo (ignora mayúsculas, minúsculas y espacios).\n",
                "3. La función debe devolver `True` si la cadena es un palíndromo y `False` en caso contrario.\n",
                "4. Llama a la función con diferentes cadenas y muestra los resultados.\n"
            ]
        },
        {
            "cell_type": "markdown",
            "id": "b9eedbba",
            "metadata": {},
            "source": []
        },
        {
            "cell_type": "code",
            "execution_count": null,
            "metadata": {},
            "outputs": [],
            "source": [
                "def es_palindromo(cadena):\n",
                "    \"\"\"\n",
                "    Verifica si una cadena de texto es un palíndromo.\n",
                "    \"\"\"\n",
                "    cadena = cadena.replace(\" \", \"\").lower()\n",
                "    return cadena == cadena[::-1]\n",
                "\n",
                "# Ejemplos de uso\n",
                "frases = [\"Reconocer\", \"Ana\", \"Hola Mundo\", \"A man a plan a canal Panama\"]\n",
                "for frase in frases:\n",
                "    print(f\"¿Es '{frase}' un palíndromo? {es_palindromo(frase)}\")"
            ]
        },
        {
            "cell_type": "markdown",
            "metadata": {},
            "source": [
                "**Output**:\n",
                "```\n",
                "¿Es 'Reconocer' un palíndromo? True\n",
                "¿Es 'Ana' un palíndromo? True\n",
                "¿Es 'Hola Mundo' un palíndromo? False\n",
                "¿Es 'A man a plan a canal Panama' un palíndromo? True\n",
                "```"
            ]
        },
        {
            "cell_type": "markdown",
            "metadata": {},
            "source": [
                "---"
            ]
        },
        {
            "cell_type": "markdown",
            "metadata": {},
            "source": [
                "### Ejercicio 4: Función Recursiva para Calcular el Factorial\n",
                "\n",
                "**Descripción**: Crea una función recursiva que calcule el factorial de un número entero positivo.\n",
                "\n",
                "**Instrucciones**:\n",
                "1. Define una función llamada `factorial_recursivo` que reciba un número entero como parámetro.\n",
                "2. Implementa la función de manera recursiva para calcular el factorial.\n",
                "3. La función debe devolver el factorial del número.\n",
                "4. Llama a la función con diferentes números y muestra los resultados.\n"
            ]
        },
        {
            "cell_type": "code",
            "execution_count": null,
            "metadata": {},
            "outputs": [],
            "source": [
                "def factorial_recursivo(n):\n",
                "    \"\"\"\n",
                "    Calcula el factorial de un número de manera recursiva.\n",
                "    \"\"\"\n",
                "    if n == 0 or n == 1:\n",
                "        return 1\n",
                "    else:\n",
                "        return n * factorial_recursivo(n - 1)\n",
                "\n",
                "# Ejemplos de uso\n",
                "numeros = [0, 1, 5, 7]\n",
                "for num in numeros:\n",
                "    print(f\"El factorial de {num} es: {factorial_recursivo(num)}\")"
            ]
        },
        {
            "cell_type": "markdown",
            "metadata": {},
            "source": [
                "**Output**:\n",
                "```\n",
                "El factorial de 0 es: 1\n",
                "El factorial de 1 es: 1\n",
                "El factorial de 5 es: 120\n",
                "El factorial de 7 es: 5040\n",
                "```"
            ]
        },
        {
            "cell_type": "markdown",
            "metadata": {},
            "source": [
                "---"
            ]
        },
        {
            "cell_type": "markdown",
            "metadata": {},
            "source": [
                "### Ejercicio 5: Función para Ordenar una Lista de Números Usando Bubble Sort\n",
                "\n",
                "**Descripción**: Crea una función que ordene una lista de números enteros utilizando el algoritmo de ordenamiento Bubble Sort.\n",
                "\n",
                "**Instrucciones**:\n",
                "1. Define una función llamada `bubble_sort` que reciba una lista de números como parámetro.\n",
                "2. Implementa el algoritmo Bubble Sort para ordenar la lista en orden ascendente.\n",
                "3. La función debe devolver la lista ordenada.\n",
                "4. Llama a la función con diferentes listas y muestra los resultados.\n"
            ]
        },
        {
            "cell_type": "code",
            "execution_count": null,
            "metadata": {},
            "outputs": [],
            "source": [
                "def bubble_sort(lista):\n",
                "    \"\"\"\n",
                "    Ordena una lista de números usando el algoritmo Bubble Sort.\n",
                "    \"\"\"\n",
                "    n = len(lista)\n",
                "    for i in range(n):\n",
                "        for j in range(0, n - i - 1):\n",
                "            if lista[j] > lista[j + 1]:\n",
                "                # Intercambiar elementos\n",
                "                lista[j], lista[j + 1] = lista[j + 1], lista[j]\n",
                "    return lista\n",
                "\n",
                "# Ejemplos de uso\n",
                "listas = [\n",
                "    [64, 34, 25, 12, 22, 11, 90],\n",
                "    [5, 1, 4, 2, 8],\n",
                "    [3, 0, -1, 10, 2]\n",
                "]\n",
                "\n",
                "for lista in listas:\n",
                "    sorted_list = bubble_sort(lista.copy())\n",
                "    print(f\"Lista original: {lista}\")\n",
                "    print(f\"Lista ordenada: {sorted_list}\\n\")"
            ]
        },
        {
            "cell_type": "markdown",
            "metadata": {},
            "source": [
                "**Output**:\n",
                "```\n",
                "Lista original: [64, 34, 25, 12, 22, 11, 90]\n",
                "Lista ordenada: [11, 12, 22, 25, 34, 64, 90]\n",
                "\n",
                "Lista original: [5, 1, 4, 2, 8]\n",
                "Lista ordenada: [1, 2, 4, 5, 8]\n",
                "\n",
                "Lista original: [3, 0, -1, 10, 2]\n",
                "Lista ordenada: [-1, 0, 2, 3, 10]\n",
                "```"
            ]
        }
    ],
    "metadata": {
        "kernelspec": {
            "display_name": "Python 3",
            "language": "python",
            "name": "python3"
        },
        "language_info": {
            "codemirror_mode": {
                "name": "ipython",
                "version": 3
            },
            "file_extension": ".py",
            "mimetype": "text/x-python",
            "name": "python",
            "nbconvert_exporter": "python",
            "pygments_lexer": "ipython3",
            "version": "3.8.5"
        }
    },
    "nbformat": 4,
    "nbformat_minor": 5
}
