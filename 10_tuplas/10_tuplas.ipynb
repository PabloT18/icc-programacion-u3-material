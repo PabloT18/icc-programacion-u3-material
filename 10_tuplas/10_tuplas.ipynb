{
 "cells": [
  {
   "cell_type": "markdown",
   "metadata": {},
   "source": [
    "# Lenguanjes de Programación\n",
    "\n",
    "\n",
    " ### Universidad Politécnica Salesiana\n",
    "\n",
    " ### Ingeniería en Ciencias de la Computación\n",
    "\n",
    " ### Programación\n",
    "\n",
    "\n",
    "\n",
    " <img src=\"../assets/ups-icc.png\" alt=\"Logo Carrera\" style=\"height:75px;\"/>"
   ]
  },
  {
   "cell_type": "markdown",
   "metadata": {},
   "source": [
    " ---\n",
    "\n",
    "\n",
    "\n",
    " ## Autores del Material\n",
    "\n",
    " - **Instructor**: Ing. Pablo Torres\n",
    "\n",
    " - **Contacto**: ptorresp@ups.edu.ec\n",
    "\n",
    "\n",
    "\n",
    " ---\n",
    "\n",
    "\n",
    "\n",
    " ## A. Tema: Tuplas \n",
    "\n",
    "\n",
    "\n",
    " ### Descripción General\n",
    "\n",
    " En este tema, exploraremos las **tuplas** en Python, sus características, usos y diferencias con las listas"
   ]
  },
  {
   "cell_type": "markdown",
   "metadata": {},
   "source": [
    " ### Objetivos de Aprendizaje\n",
    "\n",
    " - Comprender qué son las tuplas en Python y sus diferencias con las listas.\n",
    "\n",
    " - Aprender a crear, acceder y manipular tuplas.\n",
    "\n",
    " - Conocer las operaciones básicas y métodos disponibles para tuplas.\n",
    "\n",
    " - Aplicar buenas prácticas en el manejo de tuplas "
   ]
  },
  {
   "cell_type": "markdown",
   "metadata": {},
   "source": [
    " ---\n",
    "\n",
    "\n",
    "\n",
    " ### 1. Introducción a las Tuplas\n"
   ]
  },
  {
   "cell_type": "code",
   "execution_count": 2,
   "metadata": {},
   "outputs": [
    {
     "name": "stdout",
     "output_type": "stream",
     "text": [
      "()\n",
      "<class 'tuple'>\n",
      "(1, 2, 3, 4, 5)\n",
      "[1, 2, 3, 4, 5]\n",
      "[1, 2, 3, 8, 5]\n"
     ]
    }
   ],
   "source": [
    "tupla= ()\n",
    "print(tupla)\n",
    "print(type(tupla))\n",
    "\n",
    "\n",
    "numeros_tupla = (1,2,3,4,5)\n",
    "print(numeros_tupla)\n",
    "numeros_lista = [1,2,3,4,5]\n",
    "print(numeros_lista)\n",
    "numeros_lista[3]=8\n",
    "print(numeros_lista)\n",
    "\n",
    "\n"
   ]
  },
  {
   "cell_type": "code",
   "execution_count": 3,
   "metadata": {},
   "outputs": [
    {
     "ename": "TypeError",
     "evalue": "'tuple' object does not support item assignment",
     "output_type": "error",
     "traceback": [
      "\u001b[0;31m---------------------------------------------------------------------------\u001b[0m",
      "\u001b[0;31mTypeError\u001b[0m                                 Traceback (most recent call last)",
      "Cell \u001b[0;32mIn[3], line 1\u001b[0m\n\u001b[0;32m----> 1\u001b[0m \u001b[43mnumeros_tupla\u001b[49m\u001b[43m[\u001b[49m\u001b[38;5;241;43m3\u001b[39;49m\u001b[43m]\u001b[49m\u001b[38;5;241m=\u001b[39m\u001b[38;5;241m8\u001b[39m\n\u001b[1;32m      2\u001b[0m \u001b[38;5;28mprint\u001b[39m(numeros_tupla)\n\u001b[1;32m      4\u001b[0m \u001b[38;5;66;03m## GENERA ERROR\u001b[39;00m\n",
      "\u001b[0;31mTypeError\u001b[0m: 'tuple' object does not support item assignment"
     ]
    }
   ],
   "source": [
    "numeros_tupla[3]=8\n",
    "print(numeros_tupla)\n",
    "\n",
    "## GENERA ERROR"
   ]
  },
  {
   "cell_type": "markdown",
   "metadata": {},
   "source": [
    "\n",
    "\n",
    "\n",
    " #### 1.1. ¿Qué es una Tupla?\n",
    "\n",
    "\n",
    "\n",
    " Una **tupla** es una colección ordenada e inmutable de elementos. A diferencia de las listas, las tuplas no pueden ser modificadas una vez creadas. Son ideales para almacenar datos que no deben cambiar a lo largo de la ejecución del programa.\n",
    "\n",
    "\n",
    "\n",
    " #### 1.2. Creación de Tuplas\n",
    "\n",
    "\n",
    "\n",
    " Puedes crear tuplas utilizando paréntesis `()` o simplemente separando los elementos por comas.\n",
    "\n",
    "\n",
    "\n",
    " ```python\n",
    "\n",
    " # Tupla vacía\n",
    "\n",
    " tupla_vacia = ()\n",
    "\n",
    "\n",
    "\n",
    " # Tupla de números\n",
    "\n",
    " numeros = (1, 2, 3, 4, 5)\n",
    "\n",
    "\n",
    "\n",
    " # Tupla de cadenas de texto\n",
    "\n",
    " frutas = (\"Manzana\", \"Banana\", \"Cereza\")\n",
    "\n",
    "\n",
    "\n",
    " # Tupla mixta\n",
    "\n",
    " mixta = (1, \"Hola\", 3.14, True)\n",
    "\n",
    "\n",
    "\n",
    " # Tupla sin paréntesis (también es válida)\n",
    "\n",
    " tupla_sin_parentesis = 1, 2, 3\n",
    "\n",
    " ```\n",
    "\n",
    "\n",
    "\n",
    " #### 1.3. Acceso a Elementos en una Tupla\n",
    "\n",
    "\n",
    "\n",
    " Al igual que las listas, los elementos en una tupla se acceden mediante índices, comenzando desde `0`.\n",
    "\n",
    "\n",
    "\n",
    " ```python\n",
    "\n",
    " frutas = (\"Manzana\", \"Banana\", \"Cereza\", \"Dátil\")\n",
    "\n",
    "\n",
    "\n",
    " # Primer elemento\n",
    "\n",
    " print(frutas[0])  # Output: Manzana\n",
    "\n",
    "\n",
    "\n",
    " # Último elemento\n",
    "\n",
    " print(frutas[-1])  # Output: Dátil\n",
    "\n",
    " ```"
   ]
  },
  {
   "cell_type": "code",
   "execution_count": null,
   "metadata": {},
   "outputs": [],
   "source": [
    "tupla_ejemplo = (1, False, 3)\n",
    "print(tupla_ejemplo)\n"
   ]
  },
  {
   "cell_type": "markdown",
   "metadata": {},
   "source": [
    " #### 1.4. Inmutabilidad de las Tuplas\n",
    "\n",
    "\n",
    "\n",
    " Una vez creada una tupla, no puedes modificar sus elementos. Intentar hacerlo generará un error.\n",
    "\n",
    "\n",
    "\n",
    " ```python\n",
    "\n",
    " frutas = (\"Manzana\", \"Banana\", \"Cereza\")\n",
    "\n",
    " frutas[1] = \"Mango\"  # Esto generará un TypeError\n",
    "\n",
    " ```\n",
    "\n",
    "\n",
    "\n",
    " **Salida:**\n",
    "\n",
    " ```\n",
    "\n",
    " TypeError: 'tuple' object does not support item assignment\n",
    "\n",
    " ```"
   ]
  },
  {
   "cell_type": "markdown",
   "metadata": {},
   "source": [
    " ---\n",
    "\n",
    "\n",
    "\n",
    " #### 2. Operaciones Básicas con Tuplas\n",
    "\n",
    "\n",
    "\n",
    " #### 2.1. Concatenación de Tuplas\n",
    "\n",
    "\n",
    "\n",
    " Puedes unir dos o más tuplas utilizando el operador `+`.\n",
    "\n",
    "\n",
    "\n",
    " ```python\n",
    "\n",
    " tupla1 = (1, 2, 3)\n",
    "\n",
    " tupla2 = (4, 5, 6)\n",
    "\n",
    " concatenada = tupla1 + tupla2\n",
    "\n",
    " print(concatenada)  # Output: (1, 2, 3, 4, 5, 6)\n",
    "\n",
    " ```"
   ]
  },
  {
   "cell_type": "code",
   "execution_count": 6,
   "metadata": {},
   "outputs": [
    {
     "name": "stdout",
     "output_type": "stream",
     "text": [
      "(1, 2, 3, 4, 5, 6)\n"
     ]
    }
   ],
   "source": [
    "tupla1 = (1, 2, 3)\n",
    "tupla2 = (4, 5, 6)\n",
    "concatenada = tupla1 + tupla2\n",
    "print(concatenada)\n"
   ]
  },
  {
   "cell_type": "markdown",
   "metadata": {},
   "source": [
    " ### 2.2. Repetición de Tuplas\n",
    "\n",
    "\n",
    "\n",
    " Puedes repetir una tupla utilizando el operador `*`.\n",
    "\n",
    "\n",
    "\n",
    " ```python\n",
    "\n",
    " tupla = (\"Hola\",)\n",
    "\n",
    " repetida = tupla * 3\n",
    "\n",
    " print(repetida)  # Output: ('Hola', 'Hola', 'Hola')\n",
    "\n",
    " ```"
   ]
  },
  {
   "cell_type": "code",
   "execution_count": 7,
   "metadata": {},
   "outputs": [
    {
     "name": "stdout",
     "output_type": "stream",
     "text": [
      "('Hola', 'Hola', 'Hola')\n"
     ]
    }
   ],
   "source": [
    "tupla = (\"Hola\",)\n",
    "repetida = tupla * 3\n",
    "print(repetida)\n"
   ]
  },
  {
   "cell_type": "markdown",
   "metadata": {},
   "source": [
    " #### 2.3. Slicing (Corte) de Tuplas\n",
    "\n",
    "\n",
    "\n",
    " Puedes obtener una porción de una tupla utilizando slicing.\n",
    "\n",
    "\n",
    "\n",
    " ```python\n",
    "\n",
    " numeros = (0, 1, 2, 3, 4, 5, 6, 7, 8, 9)\n",
    "\n",
    "\n",
    "\n",
    " # Desde el índice 2 hasta el 5 (excluyendo el 5)\n",
    "\n",
    " subtupla = numeros[2:5]\n",
    "\n",
    " print(subtupla)  # Output: (2, 3, 4)\n",
    "\n",
    "\n",
    "\n",
    " # Desde el inicio hasta el índice 4 (excluyendo el 4)\n",
    "\n",
    " subtupla = numeros[:4]\n",
    "\n",
    " print(subtupla)  # Output: (0, 1, 2, 3)\n",
    "\n",
    "\n",
    "\n",
    " # Desde el índice 6 hasta el final\n",
    "\n",
    " subtupla = numeros[6:]\n",
    "\n",
    " print(subtupla)  # Output: (6, 7, 8, 9)\n",
    "\n",
    "\n",
    "\n",
    " # Cada segundo elemento\n",
    "\n",
    " subtupla = numeros[::2]\n",
    "\n",
    " print(subtupla)  # Output: (0, 2, 4, 6, 8)\n",
    "\n",
    " ```"
   ]
  },
  {
   "cell_type": "code",
   "execution_count": null,
   "metadata": {},
   "outputs": [],
   "source": [
    "numeros = (0, 1, 2, 3, 4, 5, 6, 7, 8, 9)\n",
    "\n",
    "# Desde el índice 2 hasta el 5 (excluyendo el 5)\n",
    "subtupla = numeros[2:5]\n",
    "print(subtupla)  # Output: (2, 3, 4)\n",
    "\n",
    "# Desde el inicio hasta el índice 4 (excluyendo el 4)\n",
    "subtupla = numeros[:4]\n",
    "print(subtupla)  # Output: (0, 1, 2, 3)\n",
    "\n",
    "# Desde el índice 6 hasta el final\n",
    "subtupla = numeros[6:]\n",
    "print(subtupla)  # Output: (6, 7, 8, 9)\n",
    "\n",
    "# Cada segundo elemento\n",
    "subtupla = numeros[::2]\n",
    "print(subtupla)  # Output: (0, 2, 4, 6, 8)\n"
   ]
  },
  {
   "cell_type": "markdown",
   "metadata": {},
   "source": [
    " ---\n",
    "\n",
    "\n",
    "\n",
    " ### 3. Métodos Comunes de Tuplas\n",
    "\n",
    "\n",
    "\n",
    " Las tuplas tienen menos métodos que las listas debido a su inmutabilidad. Los métodos más comunes son:\n",
    "\n",
    "\n",
    "\n",
    " - `count()`: Cuenta cuántas veces aparece un elemento en la tupla.\n",
    "\n",
    " - `index()`: Retorna el índice de la primera aparición de un elemento.\n",
    "\n",
    "\n",
    "\n",
    " #### 3.1. `count()`\n",
    "\n",
    "\n",
    "\n",
    " ```python\n",
    "\n",
    " frutas = (\"Manzana\", \"Banana\", \"Cereza\", \"Banana\")\n",
    "\n",
    " conteo = frutas.count(\"Banana\")\n",
    "\n",
    " print(conteo)  # Output: 2\n",
    "\n",
    " ```"
   ]
  },
  {
   "cell_type": "code",
   "execution_count": 8,
   "metadata": {},
   "outputs": [
    {
     "name": "stdout",
     "output_type": "stream",
     "text": [
      "2\n"
     ]
    }
   ],
   "source": [
    "frutas = (\"Manzana\", \"Banana\", \"Cereza\", \"Banana\")\n",
    "conteo = frutas.count(\"Banana\")\n",
    "print(conteo)  # Output: 2\n"
   ]
  },
  {
   "cell_type": "markdown",
   "metadata": {},
   "source": [
    " #### 3.2. `index()`\n",
    "\n",
    "\n",
    "\n",
    " ```python\n",
    "\n",
    " frutas = (\"Manzana\", \"Banana\", \"Cereza\", \"Dátil\")\n",
    "\n",
    " indice = frutas.index(\"Cereza\")\n",
    "\n",
    " print(indice)  # Output: 2\n",
    "\n",
    " ```"
   ]
  },
  {
   "cell_type": "code",
   "execution_count": 9,
   "metadata": {},
   "outputs": [
    {
     "name": "stdout",
     "output_type": "stream",
     "text": [
      "2\n"
     ]
    }
   ],
   "source": [
    "frutas = (\"Manzana\", \"Banana\", \"Cereza\", \"Dátil\")\n",
    "indice = frutas.index(\"Cereza\")\n",
    "print(indice)  # Output: 2\n"
   ]
  },
  {
   "cell_type": "markdown",
   "metadata": {},
   "source": [
    " ### 4. Comparación entre Listas y Tuplas\n",
    " \n",
    " | Característica          | Lista                      | Tupla                      |\n",
    " |-------------------------|----------------------------|----------------------------|\n",
    " | **Sintaxis**            | `[]`                       | `()` o solo comas          |\n",
    " | **Mutabilidad**         | Mutable                    | Inmutable                  |\n",
    " | **Métodos Disponibles** | Muchos (`append`, `remove`, etc.) | Pocos (`count`, `index`) |\n",
    " | **Uso Común**           | Cuando necesitas modificar la colección | Cuando necesitas asegurar la inmutabilidad |\n",
    " \n",
    " ---"
   ]
  },
  {
   "cell_type": "markdown",
   "metadata": {},
   "source": [
    " ## B. Ejemplos Prácticos\n",
    "\n",
    "\n",
    "\n",
    " ### 1. Crear una Tupla de Coordenadas\n",
    "\n",
    "\n",
    "\n",
    " ```python\n",
    "\n",
    " # Tupla que representa una coordenada en 2D\n",
    "\n",
    " coordenada = (10, 20)\n",
    "\n",
    " print(coordenada)  # Output: (10, 20)\n",
    "\n",
    " ```"
   ]
  },
  {
   "cell_type": "code",
   "execution_count": 10,
   "metadata": {},
   "outputs": [
    {
     "name": "stdout",
     "output_type": "stream",
     "text": [
      "(10, 20)\n"
     ]
    }
   ],
   "source": [
    "# Tupla que representa una coordenada en 2D\n",
    "coordenada = (10, 20)\n",
    "print(coordenada)  # Output: (10, 20)\n"
   ]
  },
  {
   "cell_type": "markdown",
   "metadata": {},
   "source": [
    " ## 5.2. Desempaquetar una Tupla\n",
    "\n",
    "\n",
    "\n",
    " ```python\n",
    "\n",
    " coordenada = (10, 20)\n",
    "\n",
    " x, y = coordenada\n",
    "\n",
    " print(f\"X: {x}, Y: {y}\")  # Output: X: 10, Y: 20\n",
    "\n",
    " ```"
   ]
  },
  {
   "cell_type": "code",
   "execution_count": 11,
   "metadata": {},
   "outputs": [
    {
     "name": "stdout",
     "output_type": "stream",
     "text": [
      "X: 10, Y: 20\n"
     ]
    }
   ],
   "source": [
    "coordenada = (10, 20)\n",
    "x, y = coordenada\n",
    "print(f\"X: {x}, Y: {y}\")  # Output: X: 10, Y: 20\n"
   ]
  },
  {
   "cell_type": "code",
   "execution_count": 16,
   "metadata": {},
   "outputs": [
    {
     "name": "stdout",
     "output_type": "stream",
     "text": [
      "(25, 20)\n",
      "Perimetro 25  --  Area 20\n",
      "25\n",
      "20\n"
     ]
    }
   ],
   "source": [
    "def calcular_area_perimetro_cuadrado(lado):\n",
    "    perimetro = lado *4\n",
    "    area = lado ** 2\n",
    "    return (area,perimetro)\n",
    "\n",
    "resultados = calcular_area_perimetro_cuadrado(5)\n",
    "print(resultados)\n",
    "perimetro, area = resultados\n",
    "print(f\"Perimetro {perimetro }  --  Area {area}\")\n",
    "\n",
    "x, y = calcular_area_perimetro_cuadrado(5)\n",
    "print(x)\n",
    "print(y)\n"
   ]
  },
  {
   "cell_type": "code",
   "execution_count": 17,
   "metadata": {},
   "outputs": [
    {
     "name": "stdout",
     "output_type": "stream",
     "text": [
      "Área del rectángulo: 50\n",
      "Perímetro del rectángulo: 30\n",
      "Volumen del cilindro: 197.92033717615698\n",
      "Área superficial del cilindro: 188.49555921538757\n"
     ]
    }
   ],
   "source": []
  },
  {
   "cell_type": "markdown",
   "metadata": {},
   "source": [
    "### 1. Suma de enteros\n",
    "Crea una función llamada sumar_tupla que reciba una tupla de números y retorne la suma de todos sus elementos."
   ]
  },
  {
   "cell_type": "code",
   "execution_count": null,
   "metadata": {},
   "outputs": [],
   "source": [
    "def sumar_tupla(tupla):\n",
    "    # Tu código aquí\n",
    "    pass\n",
    "numeros = (1, 2, 3, 4, 5)\n",
    "resultado = sumar_tupla(numeros)\n",
    "print(resultado)  # Output: 15"
   ]
  },
  {
   "cell_type": "markdown",
   "metadata": {},
   "source": [
    "### Ejercicio 2: Encontrar el Elemento Más Grande y Más Pequeño\n",
    " Función llamada encontrar_extremos que reciba una tupla de números y retorne una nueva tupla que contenga el número más grande y el número más pequeño de la tupla original. Pueden usar la funcion max() y min()\n",
    "\n",
    " ```python\n",
    " def encontrar_extremos(tupla):\n",
    "    # Tu código aquí\n",
    "    pass\n",
    "\n",
    "numeros = (23, 1, 45, 78, 12, 5)\n",
    "# Output: \n",
    "# Maximo  = 78\n",
    "# Minimo = 1\n",
    "```"
   ]
  },
  {
   "cell_type": "code",
   "execution_count": 18,
   "metadata": {},
   "outputs": [
    {
     "name": "stdout",
     "output_type": "stream",
     "text": [
      "maximo  78\n",
      "minimo  1\n"
     ]
    }
   ],
   "source": [
    "def encontrar_extremos(tupla):\n",
    "    maximo = max(tupla)\n",
    "    minimo= min(tupla)\n",
    "    return maximo, minimo\n",
    "\n",
    "numeros = (23, 1, 45, 78, 12, 5)\n",
    "max, min = encontrar_extremos(numeros)\n",
    "print (\"maximo \", max)\n",
    "print (\"minimo \", min)\n"
   ]
  },
  {
   "cell_type": "markdown",
   "metadata": {},
   "source": [
    "### 3. Separa pares impares\n",
    "\n",
    "De una lista de tuplas de numeros crea un metodo llamado clasificador que me devuelva una tupla con una lista de pares y una lista de impares.\n",
    " ```python\n",
    "\n",
    "numeros = [\n",
    "    (1,2,3,4),\n",
    "    (10,11,-5,0),\n",
    "    (6,7)\n",
    "]\n",
    "\n",
    "#Output\n",
    "# Pares = [2,4,10,0,6]\n",
    "# Impares = [1,3,11,-5,7]\n",
    " ```\n"
   ]
  },
  {
   "cell_type": "markdown",
   "metadata": {},
   "source": [
    " ---\n",
    "\n",
    "\n",
    "\n",
    " ## C. Resumen de Conceptos Clave\n",
    "\n",
    "\n",
    "\n",
    " 1. **Tuplas en Python**:\n",
    "\n",
    "    - **Inmutables**: No pueden ser modificadas una vez creadas.\n",
    "\n",
    "    - **Ordenadas**: Mantienen el orden de los elementos.\n",
    "\n",
    "    - **Heterogéneas**: Pueden contener elementos de diferentes tipos de datos.\n",
    "\n",
    "\n",
    "\n",
    " 2. **Métodos Comunes de Tuplas**:\n",
    "\n",
    "    - `count(elemento)`: Cuenta cuántas veces aparece un elemento en la tupla.\n",
    "\n",
    "    - `index(elemento)`: Retorna el índice de la primera aparición de un elemento.\n",
    "\n",
    "\n",
    "\n",
    " 3. **Operaciones Comunes con Tuplas**:\n",
    "\n",
    "    - **Concatenación**: Unir dos o más tuplas usando el operador `+`.\n",
    "\n",
    "    - **Repetición**: Repetir una tupla usando el operador `*`.\n",
    "\n",
    "    - **Slicing**: Obtener una porción de la tupla usando índices.\n",
    "\n",
    "\n",
    "\n",
    "\n",
    " 5. **Buenas Prácticas**:\n",
    "\n",
    "    - **Usar Tuplas para Datos Inmutables**: Ideal para representar datos que no deben cambiar.\n",
    "\n",
    "    - **Documentar el Código**: Añadir comentarios claros y descriptivos.\n",
    "\n",
    "    - **Nombres Descriptivos**: Utilizar nombres de variables que reflejen su propósito.\n",
    "\n",
    "    - **Evitar Duplicación**: Crear funciones reutilizables para tareas comunes.\n",
    "\n",
    "    - **Validación de Datos**: Verificar la integridad y el tipo de los datos ingresados."
   ]
  },
  {
   "cell_type": "markdown",
   "metadata": {},
   "source": [
    "### Conclusión\n",
    "\n",
    "\n",
    "\n",
    " Las **tuplas** son una herramienta poderosa en Python que permiten almacenar colecciones de elementos de manera eficiente y segura, garantizando que los datos no sean modificados accidentalmente. Además, el manejo de **JSON** es esencial para trabajar con datos estructurados en aplicaciones modernas, especialmente aquellas que interactúan con servicios web y APIs. Comprender cómo trabajar con tuplas y JSON te permitirá desarrollar programas más robustos y eficientes.\n",
    "\n",
    "\n",
    "\n",
    " **¡Continúa practicando y fortaleciendo tus habilidades en Python!** Las tuplas y el manejo de JSON, junto con otras estructuras de datos como listas, diccionarios y sets, forman la base para manejar y manipular datos de manera efectiva en tus proyectos de programación."
   ]
  },
  {
   "cell_type": "markdown",
   "metadata": {},
   "source": [
    "\n",
    " ### Recomendaciones para los Estudiantes\n",
    "\n",
    " - **Practicar Regularmente**: La práctica constante es clave para dominar el manejo de tuplas y JSON. Realiza los ejercicios propuestos y crea tus propios ejemplos.\n",
    "\n",
    "\n",
    "\n",
    " - **Documentar tu Código**: Utiliza comentarios para explicar la lógica detrás de tus funciones y operaciones. Esto te ayudará a ti y a otros a entender mejor tu código.\n",
    "\n",
    "\n",
    "\n",
    " - **Explorar Métodos Adicionales**: Aunque las tuplas tienen menos métodos que las listas, es útil conocer todas las funcionalidades disponibles.\n",
    "\n",
    "\n",
    "\n",
    " - **Comparar Listas y Tuplas**: Entiende cuándo es más apropiado usar una tupla en lugar de una lista y viceversa para optimizar el rendimiento y la seguridad de tus datos.\n",
    "\n"
   ]
  },
  {
   "cell_type": "markdown",
   "metadata": {},
   "source": [
    "---"
   ]
  },
  {
   "cell_type": "markdown",
   "metadata": {},
   "source": [
    "## D. Recursos Adicionales\n",
    "\n",
    "- [Documentación Oficial de Python - Estructuras de Decisión](https://docs.python.org/3/tutorial/controlflow.html#conditional-statements)\n",
    "- [Tutorial de Estructuras de Decisión en Real Python](https://realpython.com/python-conditional-statements/)\n",
    "- [Ejemplos de Estructuras de Decisión en W3Schools](https://www.w3schools.com/python/python_conditions.asp)\n"
   ]
  },
  {
   "cell_type": "markdown",
   "metadata": {},
   "source": [
    "\n",
    "\n",
    "## E. Referencias\n",
    "\n",
    "1. Van Rossum, G. (1991). *Python Tutorial*. Python Software Foundation.\n",
    "2. Lutz, M. (2013). *Learning Python*. O'Reilly Media.\n",
    "3. Sweigart, A. (2015). *Automate the Boring Stuff with Python*. No Starch Press.\n",
    "\n",
    "---"
   ]
  }
 ],
 "metadata": {
  "kernelspec": {
   "display_name": "env-pro-py",
   "language": "python",
   "name": "python3"
  },
  "language_info": {
   "codemirror_mode": {
    "name": "ipython",
    "version": 3
   },
   "file_extension": ".py",
   "mimetype": "text/x-python",
   "name": "python",
   "nbconvert_exporter": "python",
   "pygments_lexer": "ipython3",
   "version": "3.12.4"
  }
 },
 "nbformat": 4,
 "nbformat_minor": 2
}
