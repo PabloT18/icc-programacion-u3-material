{
    "cells": [
        {
            "cell_type": "markdown",
            "metadata": {},
            "source": [
                "## 2. Ejercicios Prácticos Funciones"
            ]
        },
        {
            "cell_type": "markdown",
            "metadata": {},
            "source": [
                "### Ejercicio 1: Función para Determinar la Categoría de Edad\n",
                "\n",
                "**Descripción**: Crea una función que determine la categoría de edad de una persona basada en su edad.\n",
                "\n",
                "**Instrucciones**:\n",
                "1. Define una función llamada `categoria_edad` que reciba un número entero `edad` como parámetro.\n",
                "2. Utiliza condiciones para determinar la categoría de edad:\n",
                "   - Menor de 13 años: \"Niño\"\n",
                "   - Entre 13 y 19 años: \"Adolescente\"\n",
                "   - Entre 20 y 64 años: \"Adulto\"\n",
                "   - 65 años o más: \"Senior\"\n",
                "3. La función debe devolver la categoría correspondiente.\n",
                "4. Llama a la función con diferentes edades y muestra los resultados.\n"
            ]
        },
        {
            "cell_type": "markdown",
            "metadata": {},
            "source": [
                "**Salidas Esperadas**:\n",
                "```\n",
                "Edad: 10 - Categoría: Niño\n",
                "Edad: 15 - Categoría: Adolescente\n",
                "Edad: 30 - Categoría: Adulto\n",
                "Edad: 70 - Categoría: Senior\n",
                "```"
            ]
        },
        {
            "cell_type": "markdown",
            "metadata": {},
            "source": [
                "---"
            ]
        },
        {
            "cell_type": "markdown",
            "metadata": {},
            "source": [
                "### Ejercicio 2: Función para Calcular la Tarifa de Taxi\n",
                "\n",
                "**Descripción**: Crea una función que calcule la tarifa de un viaje en taxi basado en la distancia recorrida.\n",
                "\n",
                "**Instrucciones**:\n",
                "1. Define una función llamada `calcular_tarifa_taxi` que reciba un número flotante `distancia_km` como parámetro.\n",
                "2. La tarifa se calcula de la siguiente manera:\n",
                "   - Tarifa base: 3.00€\n",
                "   - Costo por kilómetro: 2.00€ por km\n",
                "   - Si la distancia es mayor a 10 km, se aplica un descuento del 10% sobre el total.\n",
                "3. La función debe devolver el costo total del viaje.\n",
                "4. Llama a la función con diferentes distancias y muestra los resultados.\n"
            ]
        },
        {
            "cell_type": "markdown",
            "metadata": {},
            "source": [
                "**Salidas Esperadas**:\n",
                "```\n",
                "Distancia: 5 km - Tarifa: 13.00€\n",
                "Distancia: 12 km - Tarifa: 27.00€\n",
                "Distancia: 8 km - Tarifa: 19.00€\n",
                "Distancia: 15 km - Tarifa: 31.50€\n",
                "```"
            ]
        },
        {
            "cell_type": "markdown",
            "metadata": {},
            "source": [
                "---"
            ]
        },
        {
            "cell_type": "markdown",
            "metadata": {},
            "source": [
                "### Ejercicio 3: Función para Calcular el Descuento en una Compra\n",
                "\n",
                "**Descripción**: Crea una función que calcule el descuento aplicado a una compra basada en el total de la misma.\n",
                "\n",
                "**Instrucciones**:\n",
                "1. Define una función llamada `calcular_descuento` que reciba un número flotante `total_compra` como parámetro.\n",
                "2. Aplica las siguientes reglas de descuento:\n",
                "   - Si el total de la compra es mayor o igual a 100€, se aplica un descuento del 10%.\n",
                "   - Si el total de la compra es mayor o igual a 50€ pero menor a 100€, se aplica un descuento del 5%.\n",
                "   - Si el total de la compra es menor a 50€, no se aplica descuento.\n",
                "3. La función debe devolver el total después de aplicar el descuento.\n",
                "4. Llama a la función con diferentes totales de compra y muestra los resultados.\n"
            ]
        },
        {
            "cell_type": "markdown",
            "metadata": {},
            "source": [
                "**Salidas Esperadas**:\n",
                "\n",
                "```\n",
                "Total compra: 30€ - Total con descuento: 30.00€\n",
                "Total compra: 75€ - Total con descuento: 71.25€\n",
                "Total compra: 150€ - Total con descuento: 135.00€\n",
                "```"
            ]
        },
        {
            "cell_type": "markdown",
            "metadata": {},
            "source": [
                "---"
            ]
        },
        {
            "cell_type": "markdown",
            "metadata": {},
            "source": [
                "### Ejercicio 4: Función para Determinar si un Año es Bisiesto\n",
                "\n",
                "**Descripción**: Crea una función que determine si un año dado es bisiesto. Un año bisiesto es divisible por 4 pero no por 100, a menos que también sea divisible por 400.\n",
                "\n",
                "**Instrucciones**:\n",
                "1. Define una función llamada `es_bisiesto` que reciba un número entero `año` como parámetro.\n",
                "2. Implementa la lógica para determinar si el año es bisiesto según las reglas mencionadas.\n",
                "3. La función debe devolver `True` si el año es bisiesto y `False` en caso contrario.\n",
                "4. Llama a la función con diferentes años y muestra los resultados.\n"
            ]
        },
        {
            "cell_type": "markdown",
            "metadata": {},
            "source": [
                "**Salidas Esperadas**:\n",
                "\n",
                "```\n",
                "¿Es 1900 un año bisiesto? False\n",
                "¿Es 2000 un año bisiesto? True\n",
                "¿Es 2004 un año bisiesto? True\n",
                "¿Es 2019 un año bisiesto? False\n",
                "¿Es 2020 un año bisiesto? True\n",
                "```"
            ]
        },
        {
            "cell_type": "markdown",
            "metadata": {},
            "source": [
                "---"
            ]
        },
        {
            "cell_type": "markdown",
            "metadata": {},
            "source": [
                "### Ejercicio 5: Función para Calcular el Precio de un Boleto de Avión\n",
                "\n",
                "**Descripción**: Crea una función que calcule el precio de un boleto de avión basado en la edad del pasajero y la clase seleccionada.\n",
                "\n",
                "**Instrucciones**:\n",
                "1. Define una función llamada `calcular_precio_boleto` que reciba dos parámetros: `edad` (entero) y `clase` (cadena de texto, puede ser \"economy\", \"business\", o \"first\").\n",
                "2. Define las tarifas base para cada clase:\n",
                "   - Economy: $100\n",
                "   - Business: $200\n",
                "   - First: $300\n",
                "3. Aplica descuentos basados en la edad:\n",
                "   - Menores de 18 años: 20% de descuento\n",
                "   - 65 años o más: 30% de descuento\n",
                "   - Entre 18 y 64 años: sin descuento\n",
                "4. La función debe devolver el precio final del boleto.\n",
                "5. Llama a la función con diferentes combinaciones de edades y clases, y muestra los resultados.\n"
            ]
        },
        {
            "cell_type": "markdown",
            "metadata": {},
            "source": [
                "**Salidas Esperadas**:\n",
                "\n",
                "```\n",
                "Edad: 16 - Clase: Economy - Precio del boleto: 80.00€\n",
                "Edad: 30 - Clase: Business - Precio del boleto: 200.00€\n",
                "Edad: 70 - Clase: First - Precio del boleto: 210.00€\n",
                "Edad: 25 - Clase: Economy - Precio del boleto: 100.00€\n",
                "Edad: 65 - Clase: Business - Precio del boleto: 140.00€\n",
                "```"
            ]
        }
    ],
    "metadata": {
        "kernelspec": {
            "display_name": "Python 3",
            "language": "python",
            "name": "python3"
        },
        "language_info": {
            "codemirror_mode": {
                "name": "ipython",
                "version": 3
            },
            "file_extension": ".py",
            "mimetype": "text/x-python",
            "name": "python",
            "nbconvert_exporter": "python",
            "pygments_lexer": "ipython3",
            "version": "3.8.5"
        }
    },
    "nbformat": 4,
    "nbformat_minor": 5
}
