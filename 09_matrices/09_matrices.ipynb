{
 "cells": [
  {
   "cell_type": "markdown",
   "metadata": {},
   "source": [
    "# Lenguanjes de Programación\n",
    "### Universidad Politecnica Salesiana\n",
    "### Ingeniería en Ciencias de la Computación\n",
    "### Programación\n",
    "\n",
    "<img src=\"../assets/ups-icc.png\" alt=\"Logo Carrera\" style=\"height:75px;\"/>\n"
   ]
  },
  {
   "cell_type": "markdown",
   "metadata": {},
   "source": [
    "---"
   ]
  },
  {
   "cell_type": "markdown",
   "metadata": {},
   "source": [
    "## Autores del Material\n",
    "- **Instructor**: Ing. Pablo Torres\n",
    "- **Contacto**: ptorresp@ups.edu.ec"
   ]
  },
  {
   "cell_type": "markdown",
   "metadata": {},
   "source": [
    "---"
   ]
  },
  {
   "cell_type": "markdown",
   "metadata": {},
   "source": [
    "## A. Tema: Matrices en Python\n",
    "\n",
    "### Descripción General\n",
    "En este tema, aprenderemos sobre las **matrices** en Python, que son estructuras de datos bidimensionales utilizadas para almacenar y manipular datos de manera organizada. Exploraremos cómo crear matrices utilizando listas de listas y la biblioteca **NumPy**, acceder y modificar sus elementos, realizar operaciones básicas como suma y multiplicación, y aplicar métodos avanzados para análisis de datos."
   ]
  },
  {
   "cell_type": "markdown",
   "metadata": {},
   "source": [
    "### Objetivos de Aprendizaje\n",
    "- Comprender qué son las matrices en Python y sus aplicaciones.\n",
    "- Aprender a crear y asignar matrices utilizando listas de listas y NumPy.\n",
    "- Acceder y modificar elementos de una matriz utilizando índices.\n",
    "- Realizar operaciones básicas con matrices, como suma, multiplicación y transposición.\n",
    "- Utilizar métodos incorporados y funciones de NumPy para manipular y analizar matrices.\n",
    "- Iterar sobre los elementos de una matriz utilizando bucles.\n",
    "- Aplicar buenas prácticas en el manejo de matrices para escribir código eficiente y legible."
   ]
  },
  {
   "cell_type": "markdown",
   "metadata": {},
   "source": [
    "---"
   ]
  },
  {
   "cell_type": "markdown",
   "metadata": {},
   "source": [
    "### 1. Introducción a las Matrices\n",
    "\n",
    "Las **matrices** en Python son estructuras de datos bidimensionales que permiten almacenar colecciones de elementos organizados en filas y columnas. Se pueden representar utilizando listas de listas o, de manera más eficiente, mediante la biblioteca **NumPy**."
   ]
  },
  {
   "cell_type": "markdown",
   "metadata": {},
   "source": [
    "#### 1.1. Creación de Matrices con Listas de Listas\n",
    "\n",
    "Puedes crear matrices utilizando listas anidadas (listas dentro de listas):\n",
    "\n",
    "```python\n",
    "# Matriz 2x3 (2 filas, 3 columnas)\n",
    "matriz = [\n",
    "    [1, 2, 3],\n",
    "    [4, 5, 6]\n",
    "]\n",
    "\n",
    "print(matriz)\n",
    "# Output: [[1, 2, 3], [4, 5, 6]]\n",
    "```"
   ]
  },
  {
   "cell_type": "code",
   "execution_count": 3,
   "metadata": {},
   "outputs": [
    {
     "name": "stdout",
     "output_type": "stream",
     "text": [
      "[[1, False, 3], [4, 5, True]]\n"
     ]
    }
   ],
   "source": [
    "matriz = [[1,False,3],[4,5,True]]\n",
    "print(matriz)"
   ]
  },
  {
   "cell_type": "markdown",
   "metadata": {},
   "source": [
    "#### 1.2. Creación de Matrices con NumPy\n",
    "\n",
    "**NumPy** es una biblioteca poderosa para el manejo de arreglos multidimensionales en Python. Es altamente recomendada para trabajar con matrices debido a su eficiencia y funcionalidad.\n",
    "\n",
    "Primero, asegúrate de tener NumPy instalado. Si no lo tienes, puedes instalarlo usando `pip`:\n",
    "\n",
    "```bash\n",
    "pip install numpy\n",
    "```\n",
    "\n",
    "Luego, puedes crear matrices de la siguiente manera:\n",
    "\n",
    "```python\n",
    "import numpy as np\n",
    "\n",
    "# Matriz 2x3 utilizando NumPy\n",
    "matriz_np = np.array([\n",
    "    [1, 2, 3],\n",
    "    [4, 5, 6]\n",
    "])\n",
    "\n",
    "print(matriz_np)\n",
    "# Output:\n",
    "# [[1 2 3]\n",
    "#  [4 5 6]]\n",
    "```"
   ]
  },
  {
   "cell_type": "markdown",
   "metadata": {},
   "source": [
    "---"
   ]
  },
  {
   "cell_type": "code",
   "execution_count": 3,
   "metadata": {},
   "outputs": [
    {
     "name": "stdout",
     "output_type": "stream",
     "text": [
      "2.2.2\n",
      "[[1 2 3]\n",
      " [4 5 6]]\n"
     ]
    }
   ],
   "source": [
    "import numpy as np\n",
    "print(np.__version__)\n",
    "\n",
    "matriz_np = np.array([\n",
    "    [1,2,3],\n",
    "    [4,5,6]\n",
    "    ])\n",
    "print(matriz_np)"
   ]
  },
  {
   "cell_type": "code",
   "execution_count": 13,
   "metadata": {},
   "outputs": [
    {
     "name": "stdout",
     "output_type": "stream",
     "text": [
      "[[1, False, 3], [[8, 9, 7], 5, True]]\n",
      "9\n"
     ]
    }
   ],
   "source": [
    "matriz=[[1, False, 3], [[8, 9, 7], 5, True]]\n",
    "print(matriz)\n",
    "print(matriz[1][0][1])\n"
   ]
  },
  {
   "cell_type": "markdown",
   "metadata": {},
   "source": [
    "### 2. Acceso y Modificación de Elementos en una Matriz\n",
    "\n",
    "#### 2.1. Acceder a Elementos\n",
    "\n",
    "Cada elemento en una matriz puede ser accedido mediante su índice de fila y columna. En Python, los índices comienzan en `0`.\n",
    "\n",
    "##### Con Listas de Listas\n",
    "\n",
    "```python\n",
    "matriz = [\n",
    "    [1, 2, 3],\n",
    "    [4, 5, 6]\n",
    "]\n",
    "\n",
    "# Acceder al elemento en la primera fila, segunda columna\n",
    "elemento = matriz[0][1]\n",
    "print(elemento)  # Output: 2\n",
    "```"
   ]
  },
  {
   "cell_type": "markdown",
   "metadata": {},
   "source": [
    "#### Con NumPy\n",
    "\n",
    "```python\n",
    "import numpy as np\n",
    "\n",
    "matriz_np = np.array([\n",
    "    [1, 2, 3],\n",
    "    [4, 5, 6]\n",
    "])\n",
    "\n",
    "# Acceder al elemento en la primera fila, segunda columna\n",
    "elemento = matriz_np[0, 1]\n",
    "print(elemento)  # Output: 2\n",
    "\n",
    "```"
   ]
  },
  {
   "cell_type": "markdown",
   "metadata": {},
   "source": []
  },
  {
   "cell_type": "markdown",
   "metadata": {},
   "source": [
    "#### 2.2. Modificar Elementos\n",
    "\n",
    "##### Con Listas de Listas\n",
    "\n",
    "```python\n",
    "matriz = [\n",
    "    [1, 2, 3],\n",
    "    [4, 5, 6],\n",
    "    [7, 8, 9]\n",
    "]\n",
    "# Modificar el elemento en la segunda fila, tercera columna\n",
    "print(matriz)\n",
    "# Output: [[1, 2, 3],[4, 5, 9],[7, 8, 10]]\n",
    "\n",
    "```"
   ]
  },
  {
   "cell_type": "markdown",
   "metadata": {},
   "source": [
    "#### Con NumPy\n",
    "\n",
    "```python\n",
    "import numpy as np\n",
    "\n",
    "matriz_np = np.array([\n",
    "    [1, 2, 3],\n",
    "    [4, 5, 6]\n",
    "])\n",
    "\n",
    "# Modificar el elemento en la segunda fila, tercera columna\n",
    "matriz_np[1, 2] = 10\n",
    "print(matriz_np)\n",
    "# Output:\n",
    "# [[ 1  2  3]\n",
    "#  [ 4  5 10]]\n",
    "\n",
    "\n",
    "```"
   ]
  },
  {
   "cell_type": "markdown",
   "metadata": {},
   "source": [
    "---"
   ]
  },
  {
   "cell_type": "markdown",
   "metadata": {},
   "source": [
    "## 3. Operaciones Básicas con Matrices\n",
    "\n",
    "#### 3.1. Suma de Matrices\n",
    "\n",
    "##### Con Listas de Listas\n",
    "\n",
    "\n",
    "```python\n",
    "matriz1 = [\n",
    "    [1, 2],\n",
    "    [3, 4]\n",
    "]\n",
    "\n",
    "matriz2 = [\n",
    "    [5, 6],\n",
    "    [7, 8]\n",
    "]\n",
    "\n",
    "# Suma de matrices\n",
    "suma = []\n",
    "for i in range(len(matriz1)):\n",
    "    fila = []\n",
    "    for j in range(len(matriz1[0])):\n",
    "        fila.append(matriz1[i][j] + matriz2[i][j])\n",
    "    suma.append(fila)\n",
    "\n",
    "print(suma)\n",
    "```\n",
    "```\n",
    "Output: [[6, 8], [10, 12]]\n",
    "```\n"
   ]
  },
  {
   "cell_type": "code",
   "execution_count": 25,
   "metadata": {},
   "outputs": [
    {
     "name": "stdout",
     "output_type": "stream",
     "text": [
      "[[6, 8], [10, 12]]\n"
     ]
    }
   ],
   "source": [
    "matriz1 = [\n",
    "    [1, 2],\n",
    "    [3, 4]\n",
    "]\n",
    "\n",
    "matriz2 = [\n",
    "    [5, 6],\n",
    "    [7, 8]\n",
    "]\n",
    "\n",
    "# Suma de matrices\n",
    "suma = []\n",
    "for i in range(len(matriz1)):\n",
    "    fila = []\n",
    "    for j in range(len(matriz1[0])):\n",
    "        fila.append(matriz1[i][j] + matriz2[i][j])\n",
    "    suma.append(fila)\n",
    "\n",
    "print(suma)\n"
   ]
  },
  {
   "cell_type": "markdown",
   "metadata": {},
   "source": [
    "#### Con NumPy\n",
    "\n",
    "```python\n",
    "import numpy as np\n",
    "\n",
    "matriz1 = np.array([\n",
    "    [1, 2],\n",
    "    [3, 4]\n",
    "])\n",
    "\n",
    "matriz2 = np.array([\n",
    "    [5, 6],\n",
    "    [7, 8]\n",
    "])\n",
    "\n",
    "suma = matriz1 + matriz2\n",
    "print(suma)\n",
    "# Output:\n",
    "# [[ 6  8]\n",
    "#  [10 12]]\n",
    "\n",
    "```"
   ]
  },
  {
   "cell_type": "markdown",
   "metadata": {},
   "source": [
    "#### 3.2. Multiplicación de Matrices\n",
    "\n",
    "##### Producto Elemento a Elemento\n",
    "\n",
    "##### Con Listas de Listas\n",
    "\n",
    "```python\n",
    "matriz1 = [\n",
    "    [1, 2],\n",
    "    [3, 4]\n",
    "]\n",
    "\n",
    "matriz2 = [\n",
    "    [5, 6],\n",
    "    [7, 8]\n",
    "]\n",
    "\n",
    "# Multiplicación elemento a elemento\n",
    "producto = []\n",
    "for i in range(len(matriz1)):\n",
    "    fila = []\n",
    "    for j in range(len(matriz1[0])):\n",
    "        fila.append(matriz1[i][j] * matriz2[i][j])\n",
    "    producto.append(fila)\n",
    "\n",
    "print(producto)\n",
    "# Output: [[5, 12], [21, 32]]\n",
    "```"
   ]
  },
  {
   "cell_type": "markdown",
   "metadata": {},
   "source": [
    "##### Con NumPy\n",
    "\n",
    "```python\n",
    "import numpy as np\n",
    "\n",
    "matriz1 = np.array([\n",
    "    [1, 2],\n",
    "    [3, 4]\n",
    "])\n",
    "\n",
    "matriz2 = np.array([\n",
    "    [5, 6],\n",
    "    [7, 8]\n",
    "])\n",
    "\n",
    "producto = matriz1 * matriz2\n",
    "print(producto)\n",
    "\n",
    "\n",
    "```\n",
    "```\n",
    "\n",
    "Output:\n",
    "[[ 5 12]\n",
    "[21 32]]\n",
    "```\n"
   ]
  },
  {
   "cell_type": "markdown",
   "metadata": {},
   "source": [
    "#### Producto de Matrices (Multiplicación de Matrices)\n",
    "\n",
    "##### Con Listas de Listas\n",
    "\n",
    "```python\n",
    "matriz1 = [\n",
    "    [1, 2, 3],\n",
    "    [4, 5, 6]\n",
    "]\n",
    "\n",
    "matriz2 = [\n",
    "    [7, 8],\n",
    "    [9, 10],\n",
    "    [11, 12]\n",
    "]\n",
    "\n",
    "# Inicializar la matriz resultado con ceros\n",
    "resultado = [\n",
    "    [0, 0],\n",
    "    [0, 0]\n",
    "]\n",
    "\n",
    "# Realizar la multiplicación\n",
    "for i in range(len(matriz1)):\n",
    "    for j in range(len(matriz2[0])):\n",
    "        for k in range(len(matriz2)):\n",
    "            resultado[i][j] += matriz1[i][k] * matriz2[k][j]\n",
    "\n",
    "print(resultado)\n",
    "# Output: [[58, 64], [139, 154]]\n",
    "\n",
    "```"
   ]
  },
  {
   "cell_type": "markdown",
   "metadata": {},
   "source": [
    "##### Con NumPy\n",
    "\n",
    "```python\n",
    "import numpy as np\n",
    "\n",
    "matriz1 = np.array([\n",
    "    [1, 2, 3],\n",
    "    [4, 5, 6]\n",
    "])\n",
    "\n",
    "matriz2 = np.array([\n",
    "    [7, 8],\n",
    "    [9, 10],\n",
    "    [11, 12]\n",
    "])\n",
    "\n",
    "resultado = np.dot(matriz1, matriz2)\n",
    "print(resultado)\n",
    "\n",
    "```\n",
    "\n",
    "```\n",
    " Output:\n",
    " [[ 58  64]\n",
    "  [139 154]]\n",
    "```"
   ]
  },
  {
   "cell_type": "markdown",
   "metadata": {},
   "source": [
    "### 3.3. Transposición de Matrices\n",
    "\n",
    "#### Con Listas de Listas\n",
    "\n",
    "```python\n",
    "matriz = [\n",
    "    [1, 2, 3],\n",
    "    [4, 5, 6]\n",
    "# \n",
    "\n",
    "# Transponer la matriz\n",
    "transpuesta = []\n",
    "for j in range(len(matriz[0])):\n",
    "    fila = []\n",
    "    for i in range(len(matriz)):\n",
    "        fila.append(matriz[i][j])\n",
    "    transpuesta.append(fila)\n",
    "\n",
    "print(transpuesta)\n",
    "\n",
    "```\n",
    "\n",
    "```\n",
    "\n",
    "Output: [[1, 4], [2, 5], [3, 6]]\n",
    "```"
   ]
  },
  {
   "cell_type": "markdown",
   "metadata": {},
   "source": [
    "#### Con NumPy\n",
    "\n",
    "```python\n",
    "import numpy as np\n",
    "\n",
    "matriz = np.array([\n",
    "    [1, 2, 3],\n",
    "    [4, 5, 6]\n",
    "])\n",
    "\n",
    "transpuesta = matriz.T\n",
    "print(transpuesta)\n",
    "# Output:\n",
    "# [[1 4]\n",
    "#  [2 5]\n",
    "#  [3 6]]\n",
    "\n",
    "\n",
    "```"
   ]
  },
  {
   "cell_type": "markdown",
   "metadata": {},
   "source": [
    "---"
   ]
  },
  {
   "cell_type": "markdown",
   "metadata": {},
   "source": [
    "### 4. Uso de NumPy para Matrices\n",
    "\n",
    "#### 4.1. Creación y Manipulación de Matrices con NumPy\n",
    "\n",
    "NumPy proporciona funciones avanzadas para crear y manipular matrices de manera eficiente.\n",
    "\n",
    "```python\n",
    "import numpy as np\n",
    "\n",
    "# Crear una matriz de ceros de 3x3\n",
    "ceros = np.zeros((3, 3))\n",
    "print(\"Matriz de ceros:\\n\", ceros)\n",
    "\n",
    "# Crear una matriz de unos de 2x4\n",
    "unos = np.ones((2, 4))\n",
    "print(\"\\nMatriz de unos:\\n\", unos)\n",
    "\n",
    "# Crear una matriz de números aleatorios de 3x3\n",
    "aleatorios = np.random.rand(3, 3)\n",
    "print(\"\\nMatriz de números aleatorios:\\n\", aleatorios)\n",
    "```"
   ]
  },
  {
   "cell_type": "markdown",
   "metadata": {},
   "source": [
    "---"
   ]
  },
  {
   "cell_type": "markdown",
   "metadata": {},
   "source": [
    "### 5. Iteración sobre Matrices\n",
    "\n",
    "Puedes **iterar** sobre las filas y columnas de una matriz utilizando bucles `for`."
   ]
  },
  {
   "cell_type": "markdown",
   "metadata": {},
   "source": [
    "#### 5.1. Iterar sobre Filas\n",
    "\n",
    "##### Con Listas de Listas\n",
    "\n",
    "```python\n",
    "matriz = [\n",
    "    [1, 2, 3],\n",
    "    [4, 5, 6],\n",
    "    [7, 8, 9]\n",
    "]\n",
    "\n",
    "# Iterar sobre cada fila\n",
    "for fila in matriz:\n",
    "    print(fila)\n",
    "\n",
    "# Output:\n",
    "# [1, 2, 3]\n",
    "# [4, 5, 6]\n",
    "# [7, 8, 9]\n",
    "```"
   ]
  },
  {
   "cell_type": "code",
   "execution_count": null,
   "metadata": {},
   "outputs": [
    {
     "name": "stdout",
     "output_type": "stream",
     "text": [
      "[[1, 2, 3], [4, 5, 6], [7, 8, 9]]\n",
      "1\n",
      "2\n",
      "3\n",
      "4\n",
      "5\n",
      "6\n",
      "7\n",
      "8\n",
      "9\n"
     ]
    }
   ],
   "source": [
    "matriz = [\n",
    "    [1, 2, 3],\n",
    "    [4, 5, 6],\n",
    "    [7, 8, 9]\n",
    "]\n",
    "print(matriz)\n",
    "for fila in matriz:\n",
    "    # print(fila)\n",
    "    for elemento in fila:\n",
    "        print(elemento)"
   ]
  },
  {
   "cell_type": "code",
   "execution_count": 24,
   "metadata": {},
   "outputs": [
    {
     "name": "stdout",
     "output_type": "stream",
     "text": [
      "Fila -> 0\n",
      "0\n",
      "1\n",
      "2\n",
      "Fila -> 1\n",
      "0\n",
      "1\n",
      "2\n",
      "3\n",
      "4\n",
      "Fila -> 2\n",
      "0\n",
      "1\n",
      "2\n",
      "Fila -> 3\n",
      "0\n",
      "1\n",
      "2\n",
      "3\n"
     ]
    }
   ],
   "source": [
    "matriz = [\n",
    "    [1, 2, 3],\n",
    "    [4, 5, 6,11,2],\n",
    "    [7, 8, 9],\n",
    "    [7, 8, 9,4]\n",
    "]\n",
    "for f in range(len(matriz)):\n",
    "    print(f\"Fila -> {f}\" )\n",
    "    for c in range(len(matriz[f])):\n",
    "        print(c)"
   ]
  },
  {
   "cell_type": "markdown",
   "metadata": {},
   "source": [
    "#### Con NumPy\n",
    "\n",
    "```python\n",
    "\n",
    "import numpy as np\n",
    "\n",
    "matriz_np = np.array([\n",
    "    [1, 2, 3],\n",
    "    [4, 5, 6],\n",
    "    [7, 8, 9]\n",
    "])\n",
    "\n",
    "# Iterar sobre cada fila\n",
    "for fila in matriz_np:\n",
    "    print(fila)\n",
    "    \n",
    "```\n",
    "```\n",
    "\n",
    " Output:\n",
    " [1 2 3]\n",
    " [4 5 6]\n",
    " [7 8 9]\n",
    " \n",
    "```"
   ]
  },
  {
   "cell_type": "markdown",
   "metadata": {},
   "source": []
  },
  {
   "cell_type": "markdown",
   "metadata": {},
   "source": [
    "#### 5.2. Iterar sobre Elementos Individuales\n",
    "\n",
    "##### Con Listas de Listas\n",
    "\n",
    "```python\n",
    "matriz = [\n",
    "    [1, 2, 3],\n",
    "    [4, 5, 6],\n",
    "    [7, 8, 9]\n",
    "]\n",
    "\n",
    "# Iterar sobre cada elemento\n",
    "for i in range(len(matriz)):\n",
    "    for j in range(len(matriz[0])):\n",
    "        print(f\"Elemento en posición [{i}][{j}]: {matriz[i][j]}\")\n",
    "        \n",
    "        \n",
    "```\n"
   ]
  },
  {
   "cell_type": "markdown",
   "metadata": {},
   "source": [
    "#### Con NumPy\n",
    "\n",
    "```python\n",
    "import numpy as np\n",
    "\n",
    "matriz_np = np.array([\n",
    "    [1, 2, 3],\n",
    "    [4, 5, 6],\n",
    "    [7, 8, 9]\n",
    "])\n",
    "\n",
    "# Iterar sobre cada elemento\n",
    "for i in range(matriz_np.shape[0]):\n",
    "    for j in range(matriz_np.shape[1]):\n",
    "        print(f\"Elemento en posición [{i}][{j}]: {matriz_np[i, j]}\")\n",
    "        \n",
    "        \n",
    "```"
   ]
  },
  {
   "cell_type": "markdown",
   "metadata": {},
   "source": [
    "---"
   ]
  },
  {
   "cell_type": "markdown",
   "metadata": {},
   "source": [
    "### 6. Comprensión de Matrices (List Comprehensions)\n",
    "\n",
    "La **comprensión de matrices** es una forma concisa de crear matrices basadas en iteraciones y condiciones."
   ]
  },
  {
   "cell_type": "markdown",
   "metadata": {},
   "source": [
    "```python\n",
    "# Crear una matriz de 3x3 con ceros\n",
    "ceros = [[0 for _ in range(3)] for _ in range(3)]\n",
    "print(ceros)\n",
    "# Output: [[0, 0, 0], [0, 0, 0], [0, 0, 0]]\n",
    "\n",
    "# Crear una matriz de identidad 3x3\n",
    "identidad = [[1 if i == j else 0 for j in range(3)] for i in range(3)]\n",
    "print(identidad)\n",
    "# Output: [[1, 0, 0], [0, 1, 0], [0, 0, 1]]\n",
    "```"
   ]
  },
  {
   "cell_type": "markdown",
   "metadata": {},
   "source": [
    "---"
   ]
  },
  {
   "cell_type": "markdown",
   "metadata": {},
   "source": [
    "## **Conclusión**\n",
    "\n",
    "Las **matrices** son estructuras de datos fundamentales en Python para almacenar y manipular datos bidimensionales. Entender cómo trabajar con matrices utilizando listas de listas y NumPy es esencial para desarrollar programas eficientes y realizar análisis de datos complejos. La biblioteca NumPy, en particular, ofrece herramientas avanzadas que facilitan el manejo de matrices, mejorando significativamente la eficiencia y la funcionalidad de tus programas.\n",
    "\n",
    "**Recomendaciones para los Estudiantes:**\n",
    "\n",
    "- **Practicar la Creación de Matrices**: Intenta crear matrices de diferentes tamaños y tipos de datos para familiarizarte con su estructura.\n",
    "\n",
    "- **Realizar Operaciones Variadas**: Implementa operaciones básicas y avanzadas como suma, multiplicación, transposición y búsqueda de elementos para fortalecer tu comprensión.\n",
    "\n",
    "- **Explorar NumPy**: Profundiza en el uso de NumPy para aprovechar al máximo sus funcionalidades avanzadas en el manejo de matrices.\n",
    "\n",
    "- **Resolver Ejercicios Prácticos**: Completa los ejercicios propuestos y busca otros adicionales para aplicar tus conocimientos en situaciones reales.\n",
    "\n",
    "- **Leer la Documentación**: Consulta la documentación oficial de NumPy para conocer todas las funciones y métodos disponibles para el manejo de matrices.\n",
    "\n"
   ]
  }
 ],
 "metadata": {
  "kernelspec": {
   "display_name": "env-pro-py",
   "language": "python",
   "name": "python3"
  },
  "language_info": {
   "codemirror_mode": {
    "name": "ipython",
    "version": 3
   },
   "file_extension": ".py",
   "mimetype": "text/x-python",
   "name": "python",
   "nbconvert_exporter": "python",
   "pygments_lexer": "ipython3",
   "version": "3.12.4"
  }
 },
 "nbformat": 4,
 "nbformat_minor": 2
}
