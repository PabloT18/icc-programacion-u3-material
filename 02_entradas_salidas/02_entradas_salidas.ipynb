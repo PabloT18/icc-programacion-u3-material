{
    "cells": [
        {
            "cell_type": "markdown",
            "id": "10386c75",
            "metadata": {},
            "source": [
                "# Lenguanje de Programación\n",
                "### Universidad Politecnica Salesiana\n",
                "### Ingeniería en Ciencias de la Computación\n",
                "### Programación\n",
                "\n",
                "<img src=\"../assets/ups-icc.png\" alt=\"Logo Carrera\" style=\"height:75px;\"/>\n"
            ]
        },
        {
            "cell_type": "markdown",
            "id": "539c7cf2",
            "metadata": {},
            "source": [
                "---"
            ]
        },
        {
            "cell_type": "markdown",
            "id": "17834042",
            "metadata": {},
            "source": [
                "## Autores del Material\n",
                "- **Instructor**: Ing. Pablo Torres\n",
                "- **Contacto**: ptorresp@ups.edu.ec"
            ]
        },
        {
            "cell_type": "markdown",
            "id": "8f182f75",
            "metadata": {},
            "source": [
                "---"
            ]
        },
        {
            "cell_type": "markdown",
            "id": "301fb1fb",
            "metadata": {},
            "source": [
                "## A. Temas \n",
                "\n",
                "- Entrada de datos con la función input( )\n",
                "- Salida de datos con la función print( )\n",
                "- Formato al mensaje de salida con f-string \n",
                "- Conversión de datos de tipo int a tipo String con la función str( )\n",
                "- Conversión de datos de tipo String a tipo int con la función int( ) \n",
                "- Conversión de datos de tipo String a tipo float con la función float( )\n",
                "\n",
                "\n",
                "\n",
                "\n"
            ]
        },
        {
            "cell_type": "markdown",
            "id": "eefcdb43",
            "metadata": {},
            "source": [
                "---"
            ]
        },
        {
            "cell_type": "markdown",
            "id": "d4748d13",
            "metadata": {},
            "source": [
                "### 1. Funcion input()\n"
            ]
        },
        {
            "cell_type": "markdown",
            "id": "91e23f3b",
            "metadata": {},
            "source": [
                "\n",
                "#### Definición y Propósito\n",
                "**Definición**: La función input() en Python se utiliza para obtener datos del usuario a través del teclado durante la ejecución del programa.\n",
                "\n",
                "**Propósito**: Permite que el programa interactúe con el usuario, solicitando información que se puede utilizar para procesar datos, tomar decisiones o realizar cálculos.\n",
                "\n",
                "\n",
                "#### Ejemplo Básico en Python\n",
                "```python\n",
                "# Solicitar al usuario que ingrese su nombre\n",
                "nombre = input(\"Por favor, ingresa tu nombre: \")\n",
                "print(f\"Bienvenido, {nombre}!\")\n",
                "\n",
                "```"
            ]
        },
        {
            "cell_type": "code",
            "execution_count": 2,
            "id": "8c588d6c",
            "metadata": {},
            "outputs": [
                {
                    "name": "stdout",
                    "output_type": "stream",
                    "text": [
                        "Pablo\n"
                    ]
                }
            ],
            "source": [
                "nombre = input(\"¿Cual es tu nombre? \")\n",
                "print(nombre)"
            ]
        },
        {
            "cell_type": "markdown",
            "id": "58c94ff4",
            "metadata": {},
            "source": [
                "### 2. Salida de Datos con la Función print()"
            ]
        },
        {
            "cell_type": "markdown",
            "id": "cc37db00",
            "metadata": {},
            "source": [
                "\n",
                "#### Definición y Propósito\n",
                "\n",
                "**Definición**: La función print() en Python se utiliza para mostrar información en la consola o terminal.\n",
                "**Propósito**: Permite al programa comunicar resultados, mensajes de estado, o cualquier otra información relevante al usuario.\n",
                "\n",
                "\n",
                "#### Ejemplo Básico en Python\n",
                "```python\n",
                "# Solicitar al usuario que ingrese su nombre\n",
                "print(\"Hola mundo\")\n",
                "\n",
                "```"
            ]
        },
        {
            "cell_type": "code",
            "execution_count": 5,
            "id": "9447d64b",
            "metadata": {},
            "outputs": [
                {
                    "name": "stdout",
                    "output_type": "stream",
                    "text": [
                        "Hola mundo\n"
                    ]
                }
            ],
            "source": [
                "print(\"Hola mundo\")"
            ]
        },
        {
            "cell_type": "code",
            "execution_count": 2,
            "id": "6209abd7",
            "metadata": {},
            "outputs": [
                {
                    "name": "stdout",
                    "output_type": "stream",
                    "text": [
                        "UPS ICC Programación\n",
                        "UPS 30\n",
                        "UPS UPS UPS UPS UPS \n",
                        "UPS UPS UPS UPS UPS UPS UPS UPS \n"
                    ]
                }
            ],
            "source": [
                "# Operaciones con cadenas de texto\n",
                "print(\"UPS \" + \"ICC \" + \"Programación\")\n",
                "print(\"UPS \" + str(30))\n",
                "\n",
                "# Operaciones mixtas\n",
                "print(\"UPS \" * 5)\n",
                "print(\"UPS \" * (2 ** 3))"
            ]
        },
        {
            "cell_type": "markdown",
            "id": "74a4d42f",
            "metadata": {},
            "source": [
                "---"
            ]
        },
        {
            "cell_type": "markdown",
            "id": "6d23b19b",
            "metadata": {},
            "source": [
                "### 3. Formato al Mensaje de Salida con f-strings"
            ]
        },
        {
            "cell_type": "markdown",
            "id": "feabaa2f",
            "metadata": {},
            "source": [
                "#### Definición\n",
                "\n",
                "**Definición**: Las f-strings (formatted string literals) son una forma de formatear cadenas de texto de manera eficiente y legible en Python.\n",
                "**Propósito**: Facilitan la incorporación de variables y expresiones dentro de cadenas de texto, mejorando la legibilidad y reduciendo errores en el formateo.\n",
                "\n",
                "#### Ejemplo Básico en Python\n",
                "```python\n",
                "# Solicitar al usuario que ingrese su nombre\n",
                "nombre = \"pablo\"\n",
                "edad = 15\n",
                "print(f\"{nombre} tiene {edad} años\")\n",
                "\n",
                "```"
            ]
        },
        {
            "cell_type": "code",
            "execution_count": 6,
            "id": "979ceccc",
            "metadata": {},
            "outputs": [
                {
                    "name": "stdout",
                    "output_type": "stream",
                    "text": [
                        "pablo tiene 15 años\n"
                    ]
                }
            ],
            "source": [
                "nombre = \"pablo\"\n",
                "edad = 15\n",
                "print(f\"{nombre} tiene {edad} años\")"
            ]
        },
        {
            "cell_type": "markdown",
            "id": "39436a43",
            "metadata": {},
            "source": [
                "### 4. Conversión de Datos de Tipo int a Tipo str con la Función str()\n",
                "Cadenda de Entero a Cadena de Texto "
            ]
        },
        {
            "cell_type": "markdown",
            "id": "9484a66e",
            "metadata": {},
            "source": [
                "#### Definición y Propósito\n",
                "**Definición**: La función str() convierte un valor a una cadena de texto (str).\n",
                "\n",
                "**Propósito**: Permite combinar diferentes tipos de datos en cadenas de texto, especialmente útil al mostrar números junto con texto.\n",
                "\n",
                "\n",
                "#### Ejemplo Básico en Python\n",
                "```python\n",
                "# Variable de tipo int\n",
                "edad = 30\n",
                "\n",
                "# Convertir int a str\n",
                "edad_str = str(edad)\n",
                "\n",
                "# Combinar en una cadena de texto\n",
                "mensaje = \"Tienes \" + edad_str + \" años.\"\n",
                "print(mensaje)\n",
                "\n",
                "\n",
                "```"
            ]
        },
        {
            "cell_type": "code",
            "execution_count": 4,
            "id": "a3d62ed5",
            "metadata": {},
            "outputs": [
                {
                    "name": "stdout",
                    "output_type": "stream",
                    "text": [
                        "Tienes 30 años.\n"
                    ]
                }
            ],
            "source": [
                "# Variable de tipo int\n",
                "edad = 30\n",
                "\n",
                "# Convertir int a str\n",
                "edad_str = str(edad)\n",
                "\n",
                "# Combinar en una cadena de texto\n",
                "mensaje = \"Tienes \" + edad_str + \" años.\"\n",
                "print(mensaje)"
            ]
        },
        {
            "cell_type": "markdown",
            "id": "5e0930db",
            "metadata": {},
            "source": [
                "### 5. Conversión de Datos de Tipo str a Tipo int con la Función int()\n",
                "Cadenda de Texto a Entero "
            ]
        },
        {
            "cell_type": "markdown",
            "id": "ee82c9eb",
            "metadata": {},
            "source": [
                "#### Definición\n",
                "\n",
                "**Definición**: La función int() convierte una cadena de texto que representa un número en un entero (int).\n",
                "**Propósito**: Permite realizar operaciones aritméticas con datos ingresados como texto por el usuario.\n",
                "\n",
                "#### Ejemplo Básico en Python\n",
                "```python\n",
                "# Solicitar al usuario que ingrese un número\n",
                "numero_str = input(\"Ingresa un número entero: \")\n",
                "\n",
                "# Convertir str a int\n",
                "numero = int(numero_str)\n",
                "\n",
                "# Realizar una operación aritmética\n",
                "resultado = numero * 2\n",
                "print(f\"El doble de {numero} es {resultado}.\")\n",
                "\n",
                "\n",
                "```"
            ]
        },
        {
            "cell_type": "code",
            "execution_count": null,
            "id": "247f1f95",
            "metadata": {},
            "outputs": [
                {
                    "name": "stdout",
                    "output_type": "stream",
                    "text": [
                        "El doble de 5 es 10.\n"
                    ]
                }
            ],
            "source": [
                "# Solicitar al usuario que ingrese un número\n",
                "numero_str = input(\"Ingresa un número entero: \")\n",
                "\n",
                "# Convertir str a int\n",
                "numero = int(numero_str)\n",
                "\n",
                "# Realizar una operación aritmética\n",
                "resultado = numero * 2\n",
                "print(f\"El doble de {numero} es {resultado}.\")\n"
            ]
        },
        {
            "cell_type": "code",
            "execution_count": 17,
            "id": "ea471ed2",
            "metadata": {},
            "outputs": [
                {
                    "name": "stdout",
                    "output_type": "stream",
                    "text": [
                        "6.5\n"
                    ]
                }
            ],
            "source": [
                "numero_str2 = float(input(\"Ingrese un número\"))\n",
                "print(numero_str2+2)"
            ]
        },
        {
            "cell_type": "markdown",
            "id": "93366b27",
            "metadata": {},
            "source": [
                "### 6. Conversión de Datos de Tipo str a Tipo float con la Función float()"
            ]
        },
        {
            "cell_type": "markdown",
            "id": "e95218ff",
            "metadata": {},
            "source": [
                "#### Definición\n",
                "\n",
                "**Definición**: La función float() convierte una cadena de texto que representa un número decimal en un número de punto flotante (float).\n",
                "**Propósito**: Permite realizar operaciones aritméticas con números decimales ingresados como texto por el usuario.\n",
                "\n",
                "\n",
                "#### Ejemplo Básico en Python\n",
                "```python\n",
                "# Solicitar al usuario que ingrese un número decimal\n",
                "decimal_str = input(\"Ingresa un número decimal: \")\n",
                "\n",
                "# Convertir str a float\n",
                "decimal = float(decimal_str)\n",
                "\n",
                "# Realizar una operación aritmética\n",
                "resultado = decimal + 10.5\n",
                "print(f\"El resultado de sumar 10.5 a {decimal} es {resultado}.\")\n",
                "\n",
                "\n",
                "```"
            ]
        },
        {
            "cell_type": "code",
            "execution_count": 6,
            "id": "c470c23c",
            "metadata": {},
            "outputs": [
                {
                    "name": "stdout",
                    "output_type": "stream",
                    "text": [
                        "El resultado de sumar 10.5 a 4.5 es 15.0.\n"
                    ]
                }
            ],
            "source": [
                "# Solicitar al usuario que ingrese un número decimal\n",
                "decimal_str = input(\"Ingresa un número decimal: \")\n",
                "\n",
                "# Convertir str a float\n",
                "decimal = float(decimal_str)\n",
                "\n",
                "# Realizar una operación aritmética\n",
                "resultado = decimal + 10.5\n",
                "print(f\"El resultado de sumar 10.5 a {decimal} es {resultado}.\")\n"
            ]
        },
        {
            "cell_type": "markdown",
            "id": "ccf5f735",
            "metadata": {},
            "source": [
                "---"
            ]
        },
        {
            "cell_type": "markdown",
            "id": "dca3477e",
            "metadata": {},
            "source": [
                "##  B. Ejercicios Prácticos"
            ]
        },
        {
            "cell_type": "markdown",
            "id": "5c4feace",
            "metadata": {},
            "source": [
                "\n",
                "### Ejercicio 1: Calculadora Simple\n",
                "\n",
                "Cree un progrma que solicite al usuario dos numeros enteros y luego imprima su suma, resta, multiplicacion y division\n",
                "\n",
                "### Instrucciones:\n",
                "\n",
                "- Utilizar funcion input para ingresar los datos\n",
                "- Utilizar funcion int para convertir los datos\n",
                "- Utilizar funcion print con f-String para imprimir los resultatos:\n",
                "\n",
                "### Salida esperada:\n",
                "\n",
                "- Numero 1 = 5 \n",
                "- Numero 2 = 0\n",
                "- La suma es: 12\n",
                "....."
            ]
        },
        {
            "cell_type": "code",
            "execution_count": 7,
            "id": "81df9ccd",
            "metadata": {},
            "outputs": [
                {
                    "name": "stdout",
                    "output_type": "stream",
                    "text": [
                        "La suma de 10 y 5 es 15.\n",
                        "La resta de 10 y 5 es 5.\n",
                        "La multiplicación de 10 y 5 es 50.\n",
                        "La división de 10 y 5 es 2.0.\n"
                    ]
                }
            ],
            "source": [
                "# Solicitar al usuario que ingrese el primer número\n",
                "numero1_str = input(\"Ingresa el primer número entero: \")\n",
                "numero1 = int(numero1_str)\n",
                "\n",
                "# Solicitar al usuario que ingrese el segundo número\n",
                "numero2_str = input(\"Ingresa el segundo número entero: \")\n",
                "numero2 = int(numero2_str)\n",
                "\n",
                "# Realizar operaciones aritméticas\n",
                "suma = numero1 + numero2\n",
                "resta = numero1 - numero2\n",
                "multiplicacion = numero1 * numero2\n",
                "division = numero1 / numero2\n",
                "\n",
                "# Mostrar los resultados\n",
                "print(f\"La suma de {numero1} y {numero2} es {suma}.\")\n",
                "print(f\"La resta de {numero1} y {numero2} es {resta}.\")\n",
                "print(f\"La multiplicación de {numero1} y {numero2} es {multiplicacion}.\")\n",
                "print(f\"La división de {numero1} y {numero2} es {division}.\")\n"
            ]
        },
        {
            "cell_type": "markdown",
            "id": "6c2640ba",
            "metadata": {},
            "source": [
                "### Ejercicio 2: Conversion de Temperatura"
            ]
        },
        {
            "cell_type": "markdown",
            "id": "8209e0fb",
            "metadata": {},
            "source": [
                "Crea un programa que convierta una temperatura dada en grados Celcius a Fahrenheit\n",
                "\n",
                "#### Instrucciones:\n",
                "\n",
                "- Solicita al usuario que ingrese una temperatura en grados Celsius usando input().\n",
                "- Convierte la entrada a tipo float usando float().\n",
                "- Aplica la fórmula de conversión: Fahrenheit = (Celsius * 9/5) + 32.\n",
                "- Imprime el resultado utilizando print() con una f-string.\n"
            ]
        },
        {
            "cell_type": "code",
            "execution_count": 8,
            "id": "4a39c4ef",
            "metadata": {},
            "outputs": [
                {
                    "name": "stdout",
                    "output_type": "stream",
                    "text": [
                        "27.5°C equivalen a 81.5°F.\n"
                    ]
                }
            ],
            "source": [
                "# Solicitar al usuario que ingrese la temperatura en Celsius\n",
                "celsius_str = input(\"Ingresa la temperatura en grados Celsius: \")\n",
                "celsius = float(celsius_str)\n",
                "\n",
                "# Convertir Celsius a Fahrenheit\n",
                "fahrenheit = (celsius * 9/5) + 32\n",
                "\n",
                "# Mostrar el resultado\n",
                "print(f\"{celsius}°C equivalen a {fahrenheit}°F.\")\n"
            ]
        },
        {
            "cell_type": "markdown",
            "id": "b5c9ace2",
            "metadata": {},
            "source": [
                "### Ejercicio 3: Área de un Rectángulo"
            ]
        },
        {
            "cell_type": "markdown",
            "id": "0bf8965e",
            "metadata": {},
            "source": [
                "\n",
                "Descripción: Crea un programa que calcule el área de un rectángulo solicitando al usuario la base y la altura.\n",
                "\n",
                "Instrucciones:\n",
                "\n",
                "- Solicita al usuario que ingrese la base del rectángulo usando input().\n",
                "- Convierte la entrada a tipo float usando float().\n",
                "- Solicita al usuario que ingrese la altura del rectángulo.\n",
                "- Convierte la entrada a tipo float.\n",
                "- Calcula el área multiplicando la base por la altura.\n",
                "- Imprime el resultado utilizando print() con una f-string.\n"
            ]
        },
        {
            "cell_type": "code",
            "execution_count": 9,
            "id": "50e1a6a2",
            "metadata": {},
            "outputs": [
                {
                    "name": "stdout",
                    "output_type": "stream",
                    "text": [
                        "El área del rectángulo con base 10.0 y altura 5.5 es 55.0.\n"
                    ]
                }
            ],
            "source": [
                "# Solicitar al usuario que ingrese la base del rectángulo\n",
                "base_str = input(\"Ingresa la base del rectángulo: \")\n",
                "base = float(base_str)\n",
                "\n",
                "# Solicitar al usuario que ingrese la altura del rectángulo\n",
                "altura_str = input(\"Ingresa la altura del rectángulo: \")\n",
                "altura = float(altura_str)\n",
                "\n",
                "# Calcular el área del rectángulo\n",
                "area = base * altura\n",
                "\n",
                "# Mostrar el resultado\n",
                "print(f\"El área del rectángulo con base {base} y altura {altura} es {area}.\")\n"
            ]
        },
        {
            "cell_type": "markdown",
            "id": "df1dcffc",
            "metadata": {},
            "source": [
                "### Ejercicio 4: Promedio de Tres Números"
            ]
        },
        {
            "cell_type": "markdown",
            "id": "ac24536e",
            "metadata": {},
            "source": [
                "**Descripción**: Crea un programa que calcule el promedio de tres números ingresados por el usuario.\n",
                "\n",
                "**Instrucciones**:\n",
                "\n",
                "- Solicita al usuario que ingrese tres números utilizando input().\n",
                "- Convierte cada entrada a tipo float usando float().\n",
                "- Calcula el promedio sumando los tres números y dividiendo entre tres.\n",
                "- Imprime el promedio utilizando print() con una f-string."
            ]
        },
        {
            "cell_type": "code",
            "execution_count": 10,
            "id": "65627d45",
            "metadata": {},
            "outputs": [
                {
                    "name": "stdout",
                    "output_type": "stream",
                    "text": [
                        "El promedio de 9.9, 10.0 y 5.4 es 8.433333333333332.\n"
                    ]
                }
            ],
            "source": [
                "# Solicitar al usuario que ingrese tres números\n",
                "numero1_str = input(\"Ingresa el primer número: \")\n",
                "numero1 = float(numero1_str)\n",
                "\n",
                "numero2_str = input(\"Ingresa el segundo número: \")\n",
                "numero2 = float(numero2_str)\n",
                "\n",
                "numero3_str = input(\"Ingresa el tercer número: \")\n",
                "numero3 = float(numero3_str)\n",
                "\n",
                "# Calcular el promedio\n",
                "promedio = (numero1 + numero2 + numero3) / 3\n",
                "\n",
                "# Mostrar el resultado\n",
                "print(f\"El promedio de {numero1}, {numero2} y {numero3} es {promedio}.\")\n"
            ]
        },
        {
            "cell_type": "markdown",
            "id": "e1d3c91a",
            "metadata": {},
            "source": [
                "## **Resumen de Conceptos Clave**\n",
                "\n",
                "1. **Función `input()`**: Permite obtener datos del usuario durante la ejecución del programa.\n",
                "2. **Función `print()`**: Se utiliza para mostrar información en la consola.\n",
                "3. **f-strings**: Formatean cadenas de texto de manera eficiente, incorporando variables y expresiones.\n",
                "4. **Conversión de Tipos**:\n",
                "   - `str()`: Convierte números (int o float) a cadenas de texto.\n",
                "   - `int()`: Convierte cadenas de texto que representan números enteros a `int`.\n",
                "   - `float()`: Convierte cadenas de texto que representan números decimales a `float`.\n"
            ]
        },
        {
            "cell_type": "markdown",
            "id": "fa8bebfe",
            "metadata": {},
            "source": [
                "### Preguntas de Reflexión\n",
                "1. **¿Por qué es importante convertir tipos de datos al trabajar con entrada de usuario?**\n",
                "2. **¿Cuáles son las ventajas de usar f-strings sobre la concatenación de cadenas para formatear mensajes?**\n",
                "3. **¿En qué situaciones sería necesario convertir una cadena de texto a un número y viceversa?**\n",
                "\n",
                "---\n",
                "\n",
                "## Recursos Adicionales\n",
                "\n",
                "- [Documentación Oficial de Python - input()](https://docs.python.org/3/library/functions.html#input)\n",
                "- [Documentación Oficial de Python - print()](https://docs.python.org/3/library/functions.html#print)\n",
                "- [f-strings en Python](https://realpython.com/python-f-strings/)\n",
                "- [Conversión de tipos en Python](https://www.w3schools.com/python/python_casting.asp)\n",
                "\n",
                "---\n",
                "\n",
                "## Referencias\n",
                "\n",
                "1. Van Rossum, G. (1991). *Python Tutorial*. Python Software Foundation.\n",
                "2. Lutz, M. (2013). *Learning Python*. O'Reilly Media.\n",
                "3. Sweigart, A. (2015). *Automate the Boring Stuff with Python*. No Starch Press."
            ]
        }
    ],
    "metadata": {
        "kernelspec": {
            "display_name": "myenv",
            "language": "python",
            "name": "python3"
        },
        "language_info": {
            "codemirror_mode": {
                "name": "ipython",
                "version": 3
            },
            "file_extension": ".py",
            "mimetype": "text/x-python",
            "name": "python",
            "nbconvert_exporter": "python",
            "pygments_lexer": "ipython3",
            "version": "3.12.4"
        }
    },
    "nbformat": 4,
    "nbformat_minor": 5
}
