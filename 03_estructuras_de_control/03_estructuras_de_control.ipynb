{
    "cells": [
        {
            "cell_type": "markdown",
            "id": "10386c75",
            "metadata": {},
            "source": [
                "# Lenguanje de Programación\n",
                "### Universidad Politecnica Salesiana\n",
                "### Ingeniería en Ciencias de la Computación\n",
                "### Programación\n",
                "\n",
                "<img src=\"../assets/ups-icc.png\" alt=\"Logo Carrera\" style=\"height:75px;\"/>\n"
            ]
        },
        {
            "cell_type": "markdown",
            "id": "539c7cf2",
            "metadata": {},
            "source": [
                "---"
            ]
        },
        {
            "cell_type": "markdown",
            "id": "17834042",
            "metadata": {},
            "source": [
                "## Autores del Material\n",
                "- **Instructor**: Ing. Pablo Torres\n",
                "- **Contacto**: ptorresp@ups.edu.ec"
            ]
        },
        {
            "cell_type": "markdown",
            "id": "8f182f75",
            "metadata": {},
            "source": [
                "---"
            ]
        },
        {
            "cell_type": "markdown",
            "id": "301fb1fb",
            "metadata": {},
            "source": [
                "##  Temas \n",
                "Estructuras de Decisión en Python Estructuras de Decisión en Python\n",
                "\n",
                "- If\n",
                "- If ... else\n",
                "- If ... elif ... else\n",
                "\n",
                "\n",
                "### Descripción General\n",
                "En este tema, aprenderemos sobre las estructuras de decisión en Python, las cuales nos permiten controlar el flujo de ejecución de un programa en función de condiciones específicas. Exploraremos las estructuras `if`, `if..else` y `if..elif..else`, comprendiendo su sintaxis y aplicabilidad mediante ejemplos prácticos.\n",
                "\n",
                "### Objetivos de Aprendizaje\n",
                "- Comprender el uso de la estructura `if` en Python.\n",
                "- Implementar estructuras `if..else` para decisiones binarias.\n",
                "- Utilizar estructuras `if..elif..else` para manejar múltiples condiciones.\n",
                "- Aplicar las estructuras de decisión en la resolución de problemas prácticos.\n",
                "\n",
                "\n",
                "\n",
                "\n"
            ]
        },
        {
            "cell_type": "markdown",
            "id": "eefcdb43",
            "metadata": {},
            "source": [
                "---"
            ]
        },
        {
            "cell_type": "markdown",
            "id": "d4748d13",
            "metadata": {},
            "source": [
                "## A. Estructuras de Decisión en Python\n",
                "\n",
                "Las estructuras de decisión permiten que el programa tome diferentes caminos de ejecución basados en condiciones evaluadas como verdaderas o falsas."
            ]
        },
        {
            "cell_type": "markdown",
            "id": "91e23f3b",
            "metadata": {},
            "source": [
                "### 1.1. La Estructura `if`\n",
                "\n",
                "#### Definición y Propósito\n",
                "- **Definición**: La estructura `if` se utiliza para ejecutar un bloque de código solo si una condición específica se evalúa como verdadera.\n",
                "- **Propósito**: Permite que el programa tome decisiones basadas en condiciones dinámicas durante la ejecución."
            ]
        },
        {
            "cell_type": "markdown",
            "id": "640e4380",
            "metadata": {},
            "source": [
                "#### Ejemplo de Uso\n",
                "```python\n",
                "# Ejemplo de estructura if\n",
                "numero = 10\n",
                "\n",
                "if numero > 5:\n",
                "    print(\"El número es mayor que 5.\")\n",
                "```\n",
                "*En este ejemplo, el mensaje se imprimirá solo si el valor de `numero` es mayor que 5.*"
            ]
        },
        {
            "cell_type": "markdown",
            "id": "68a9a087",
            "metadata": {},
            "source": [
                "\n",
                "<img src=\"../assets/01-if.png\" alt=\"IF\" style=\"height:400px;\"/>\n"
            ]
        },
        {
            "cell_type": "markdown",
            "id": "58c94ff4",
            "metadata": {},
            "source": [
                "### 1.2. La Estructura `if..else`\n",
                "\n",
                "#### Definición y Propósito\n",
                "- **Definición**: La estructura `if..else` permite ejecutar un bloque de código si una condición es verdadera y otro bloque diferente si la condición es falsa.\n",
                "- **Propósito**: Facilita la toma de decisiones binarias, donde existen dos posibles caminos de ejecución."
            ]
        },
        {
            "cell_type": "markdown",
            "id": "01d5575a",
            "metadata": {},
            "source": [
                "#### Sintaxis\n",
                "```python\n",
                "if condición:\n",
                "    # Bloque de código si la condición es verdadera\n",
                "else:\n",
                "    # Bloque de código si la condición es falsa\n",
                "```"
            ]
        },
        {
            "cell_type": "markdown",
            "id": "2b17bf4a",
            "metadata": {},
            "source": [
                "#### Ejemplo de Uso\n",
                "```python\n",
                "# Ejemplo de estructura if..else\n",
                "edad = 18\n",
                "\n",
                "if edad >= 18:\n",
                "    print(\"Eres mayor de edad.\")\n",
                "else:\n",
                "    print(\"Eres menor de edad.\")\n",
                "```\n",
                "*En este ejemplo, se imprime un mensaje diferente dependiendo de si la edad es mayor o igual a 18.*"
            ]
        },
        {
            "cell_type": "markdown",
            "id": "b2665a04",
            "metadata": {},
            "source": [
                "<img src=\"../assets/02-if.png\" alt=\"IF\" style=\"height:400px;\"/>\n"
            ]
        },
        {
            "cell_type": "markdown",
            "id": "6d23b19b",
            "metadata": {},
            "source": [
                "### 1.3. La Estructura `if..elif..else`\n",
                "\n",
                "#### Definición y Propósito\n",
                "- **Definición**: La estructura `if..elif..else` se utiliza para manejar múltiples condiciones. Permite evaluar una serie de condiciones de manera secuencial hasta que una de ellas sea verdadera.\n",
                "- **Propósito**: Facilita la gestión de múltiples escenarios posibles dentro del flujo de ejecución del programa."
            ]
        },
        {
            "cell_type": "markdown",
            "id": "feabaa2f",
            "metadata": {},
            "source": [
                "#### Sintaxis\n",
                "```python\n",
                "if condición1:\n",
                "    # Bloque de código si condición1 es verdadera\n",
                "elif condición2:\n",
                "    # Bloque de código si condición2 es verdadera\n",
                "else:\n",
                "    # Bloque de código si ninguna condición anterior es verdadera\n",
                "    \n",
                "```"
            ]
        },
        {
            "cell_type": "markdown",
            "id": "f2f4d1da",
            "metadata": {},
            "source": [
                "#### Ejemplo de Uso\n",
                "```python\n",
                "# Ejemplo de estructura if..elif..else\n",
                "nota = 85\n",
                "\n",
                "if nota >= 90:\n",
                "    print(\"Excelente\")\n",
                "elif nota >= 80:\n",
                "    print(\"Muy bien\")\n",
                "elif nota >= 70:\n",
                "    print(\"Bien\")\n",
                "else:\n",
                "    print(\"Necesitas mejorar\")\n",
                "```\n",
                "*En este ejemplo, el mensaje que se imprime depende del rango en el que se encuentra la nota.*"
            ]
        },
        {
            "cell_type": "markdown",
            "id": "fe25f06e",
            "metadata": {},
            "source": [
                "<img src=\"../assets/03-if.png\" alt=\"IF\" style=\"height:200px;\"/>\n"
            ]
        },
        {
            "cell_type": "code",
            "execution_count": 1,
            "id": "e78f7b5a",
            "metadata": {},
            "outputs": [
                {
                    "name": "stdout",
                    "output_type": "stream",
                    "text": [
                        "Muy bien\n"
                    ]
                }
            ],
            "source": [
                "# Ejemplo de estructura if..elif..else\n",
                "nota = 85\n",
                "\n",
                "if nota >= 90:\n",
                "    print(\"Excelente\")\n",
                "elif nota >= 80:\n",
                "    print(\"Muy bien\")\n",
                "elif nota >= 70:\n",
                "    print(\"Bien\")\n",
                "else:\n",
                "    print(\"Necesitas mejorar\")"
            ]
        },
        {
            "cell_type": "markdown",
            "id": "ccf5f735",
            "metadata": {},
            "source": [
                "---"
            ]
        },
        {
            "cell_type": "markdown",
            "id": "dca3477e",
            "metadata": {},
            "source": [
                "##  B. Ejercicios Prácticos"
            ]
        },
        {
            "cell_type": "markdown",
            "id": "5c4feace",
            "metadata": {},
            "source": [
                "\n",
                "\n",
                "### Ejercicio 1: Determinar si un Número es Positivo, Negativo o Cero\n",
                "\n",
                "**Descripción**: Crea un programa que solicite al usuario que ingrese un número y determine si es positivo, negativo o cero.\n",
                "\n",
                "**Instrucciones**:\n",
                "1. Utiliza la función `input()` para solicitar al usuario que ingrese un número.\n",
                "2. Convierte la entrada a tipo `float` usando la función `float()`.\n",
                "3. Utiliza estructuras `if..elif..else` para determinar si el número es positivo, negativo o cero.\n",
                "4. Imprime el resultado utilizando `print()` con una f-string.\n",
                "\n",
                "**Código Base**:\n",
                "```python\n",
                "# Solicitar al usuario que ingrese un número\n",
                "numero_str = input(\"Ingresa un número: \")\n",
                "numero = float(numero_str)\n",
                "\n",
                "# Determinar si el número es positivo, negativo o cero\n",
                "if numero > 0:\n",
                "    print(f\"{numero} es un número positivo.\")\n",
                "elif numero < 0:\n",
                "    print(f\"{numero} es un número negativo.\")\n",
                "else:\n",
                "    print(f\"{numero} es cero.\")\n",
                "```"
            ]
        },
        {
            "cell_type": "code",
            "execution_count": 2,
            "id": "81df9ccd",
            "metadata": {},
            "outputs": [
                {
                    "name": "stdout",
                    "output_type": "stream",
                    "text": [
                        "10.0 es un número positivo.\n"
                    ]
                }
            ],
            "source": [
                "# Solicitar al usuario que ingrese un número\n",
                "numero_str = input(\"Ingresa un número: \")\n",
                "numero = float(numero_str)\n",
                "\n",
                "# Determinar si el número es positivo, negativo o cero\n",
                "if numero > 0:\n",
                "    print(f\"{numero} es un número positivo.\")\n",
                "elif numero < 0:\n",
                "    print(f\"{numero} es un número negativo.\")\n",
                "else:\n",
                "    print(f\"{numero} es cero.\")"
            ]
        },
        {
            "cell_type": "markdown",
            "id": "6c2640ba",
            "metadata": {},
            "source": [
                "### Ejercicio 2: Clasificar una Edad en Categorías\n",
                "\n",
                "**Descripción**: Crea un programa que solicite al usuario que ingrese su edad y la clasifique en una de las siguientes categorías:\n",
                "- Niño (0-12 años)\n",
                "- Adolescente (13-17 años)\n",
                "- Adulto (18-64 años)\n",
                "- Senior (65 años o más)\n",
                "\n",
                "**Instrucciones**:\n",
                "1. Utiliza `input()` para solicitar la edad del usuario.\n",
                "2. Convierte la entrada a tipo `int` usando la función `int()`.\n",
                "3. Utiliza estructuras `if..elif..else` para clasificar la edad.\n",
                "4. Imprime la categoría correspondiente utilizando `print()` con una f-string.\n",
                "\n",
                "**Código Base**:\n",
                "```python\n",
                "# Solicitar al usuario que ingrese su edad\n",
                "edad_str = input(\"Ingresa tu edad: \")\n",
                "edad = int(edad_str)\n",
                "\n",
                "# Clasificar la edad en categorías\n",
                "if edad >= 0 and edad <= 12:\n",
                "    categoria = \"Niño\"\n",
                "elif edad >= 13 and edad <= 17:\n",
                "    categoria = \"Adolescente\"\n",
                "elif edad >= 18 and edad <= 64:\n",
                "    categoria = \"Adulto\"\n",
                "elif edad >= 65:\n",
                "    categoria = \"Senior\"\n",
                "else:\n",
                "    categoria = \"Edad inválida\"\n",
                "\n",
                "# Mostrar la categoría\n",
                "print(f\"Tienes {edad} años, eres un(a) {categoria}.\")\n",
                "```"
            ]
        },
        {
            "cell_type": "code",
            "execution_count": 3,
            "id": "374fdeb0",
            "metadata": {},
            "outputs": [
                {
                    "name": "stdout",
                    "output_type": "stream",
                    "text": [
                        "Tienes 28 años, eres un(a) Adulto.\n"
                    ]
                }
            ],
            "source": [
                "# Solicitar al usuario que ingrese su edad\n",
                "edad_str = input(\"Ingresa tu edad: \")\n",
                "edad = int(edad_str)\n",
                "\n",
                "# Clasificar la edad en categorías\n",
                "if edad >= 0 and edad <= 12:\n",
                "    categoria = \"Niño\"\n",
                "elif edad >= 13 and edad <= 17:\n",
                "    categoria = \"Adolescente\"\n",
                "elif edad >= 18 and edad <= 64:\n",
                "    categoria = \"Adulto\"\n",
                "elif edad >= 65:\n",
                "    categoria = \"Senior\"\n",
                "else:\n",
                "    categoria = \"Edad inválida\"\n",
                "\n",
                "# Mostrar la categoría\n",
                "print(f\"Tienes {edad} años, eres un(a) {categoria}.\")"
            ]
        },
        {
            "cell_type": "markdown",
            "id": "417803e2",
            "metadata": {},
            "source": [
                "### Ejercicio 3: Calculadora de Notas\n",
                "\n",
                "**Descripción**: Crea un programa que solicite al usuario que ingrese una nota (0-100) y determine la calificación correspondiente:\n",
                "- A: 90-100\n",
                "- B: 80-89\n",
                "- C: 70-79\n",
                "- D: 60-69\n",
                "- F: 0-59\n",
                "\n",
                "**Instrucciones**:\n",
                "1. Utiliza `input()` para solicitar la nota del usuario.\n",
                "2. Convierte la entrada a tipo `int` usando la función `int()`.\n",
                "3. Utiliza estructuras `if..elif..else` para asignar la calificación.\n",
                "4. Imprime la calificación utilizando `print()` con una f-string.\n",
                "\n",
                "**Código Base**:\n",
                "```python\n",
                "# Solicitar al usuario que ingrese una nota\n",
                "nota_str = input(\"Ingresa tu nota (0-100): \")\n",
                "nota = int(nota_str)\n",
                "\n",
                "# Determinar la calificación\n",
                "if nota >= 90 and nota <= 100:\n",
                "    calificacion = \"A\"\n",
                "elif nota >= 80 and nota < 90:\n",
                "    calificacion = \"B\"\n",
                "elif nota >= 70 and nota < 80:\n",
                "    calificacion = \"C\"\n",
                "elif nota >= 60 and nota < 70:\n",
                "    calificacion = \"D\"\n",
                "elif nota >= 0 and nota < 60:\n",
                "    calificacion = \"F\"\n",
                "else:\n",
                "    calificacion = \"Nota inválida\"\n",
                "\n",
                "# Mostrar la calificación\n",
                "print(f\"Tu calificación es: {calificacion}\")\n",
                "```"
            ]
        },
        {
            "cell_type": "code",
            "execution_count": 5,
            "id": "983defe0",
            "metadata": {},
            "outputs": [
                {
                    "name": "stdout",
                    "output_type": "stream",
                    "text": [
                        "91\n",
                        "Tu calificación es: A\n"
                    ]
                }
            ],
            "source": [
                "# Solicitar al usuario que ingrese una nota\n",
                "nota_str = input(\"Ingresa tu nota (0-100): \")\n",
                "nota = int(nota_str)\n",
                "print(nota)\n",
                "# Determinar la calificación\n",
                "if nota >= 90 and nota <= 100:\n",
                "    calificacion = \"A\"\n",
                "elif nota >= 80 and nota < 90:\n",
                "    calificacion = \"B\"\n",
                "elif nota >= 70 and nota < 80:\n",
                "    calificacion = \"C\"\n",
                "elif nota >= 60 and nota < 70:\n",
                "    calificacion = \"D\"\n",
                "elif nota >= 0 and nota < 60:\n",
                "    calificacion = \"F\"\n",
                "else:\n",
                "    calificacion = \"Nota inválida\"\n",
                "\n",
                "# Mostrar la calificación\n",
                "print(f\"Tu calificación es: {calificacion}\")"
            ]
        },
        {
            "cell_type": "markdown",
            "id": "e1d3c91a",
            "metadata": {},
            "source": [
                "## C. Resumen de Conceptos Clave\n",
                "\n",
                "1. **Estructuras de Decisión**: Permiten controlar el flujo de ejecución de un programa basándose en condiciones evaluadas como verdaderas o falsas.\n",
                "2. **Estructura `if`**: Ejecuta un bloque de código solo si una condición específica es verdadera.\n",
                "3. **Estructura `if..else`**: Permite ejecutar un bloque de código si una condición es verdadera y otro bloque si es falsa.\n",
                "4. **Estructura `if..elif..else`**: Maneja múltiples condiciones de manera secuencial, ejecutando el bloque correspondiente a la primera condición verdadera.\n",
                "5. **f-strings**: Facilitan el formateo de cadenas de texto, permitiendo incorporar variables y expresiones dentro de las cadenas de manera legible y eficiente.\n",
                "6. **Conversión de Tipos**:\n",
                "   - `int()`: Convierte una cadena de texto a un entero.\n",
                "   - `float()`: Convierte una cadena de texto a un número de punto flotante.\n",
                "   - `str()`: Convierte un valor a una cadena de texto."
            ]
        },
        {
            "cell_type": "markdown",
            "id": "cc94709d",
            "metadata": {},
            "source": []
        },
        {
            "cell_type": "markdown",
            "id": "bc7812ea",
            "metadata": {},
            "source": [
                "## D. Recursos Adicionales\n",
                "\n",
                "- [Documentación Oficial de Python - Estructuras de Decisión](https://docs.python.org/3/tutorial/controlflow.html#conditional-statements)\n",
                "- [Tutorial de Estructuras de Decisión en Real Python](https://realpython.com/python-conditional-statements/)\n",
                "- [Ejemplos de Estructuras de Decisión en W3Schools](https://www.w3schools.com/python/python_conditions.asp)\n",
                "- [Curso de Python en Coursera](https://www.coursera.org/specializations/python)"
            ]
        },
        {
            "cell_type": "markdown",
            "id": "cfced48b",
            "metadata": {},
            "source": [
                "---\n",
                "\n",
                "## E. Referencias\n",
                "\n",
                "1. Van Rossum, G. (1991). *Python Tutorial*. Python Software Foundation.\n",
                "2. Lutz, M. (2013). *Learning Python*. O'Reilly Media.\n",
                "3. Sweigart, A. (2015). *Automate the Boring Stuff with Python*. No Starch Press.\n",
                "\n",
                "---"
            ]
        }
    ],
    "metadata": {
        "kernelspec": {
            "display_name": "myenv",
            "language": "python",
            "name": "python3"
        },
        "language_info": {
            "codemirror_mode": {
                "name": "ipython",
                "version": 3
            },
            "file_extension": ".py",
            "mimetype": "text/x-python",
            "name": "python",
            "nbconvert_exporter": "python",
            "pygments_lexer": "ipython3",
            "version": "3.12.4"
        }
    },
    "nbformat": 4,
    "nbformat_minor": 5
}
