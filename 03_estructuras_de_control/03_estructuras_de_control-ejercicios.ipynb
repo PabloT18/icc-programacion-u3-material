{
    "cells": [
        {
            "cell_type": "markdown",
            "id": "10386c75",
            "metadata": {},
            "source": [
                "# Lenguanje de Programación\n",
                "### Universidad Politecnica Salesiana\n",
                "### Ingeniería en Ciencias de la Computación\n",
                "### Programación\n",
                "\n",
                "<img src=\"../assets/ups-icc.png\" alt=\"Logo Carrera\" style=\"height:75px;\"/>\n"
            ]
        },
        {
            "cell_type": "markdown",
            "id": "539c7cf2",
            "metadata": {},
            "source": [
                "---"
            ]
        },
        {
            "cell_type": "markdown",
            "id": "17834042",
            "metadata": {},
            "source": [
                "## Autores del Material\n",
                "- **Instructor**: Ing. Pablo Torres\n",
                "- **Contacto**: ptorresp@ups.edu.ec"
            ]
        },
        {
            "cell_type": "markdown",
            "id": "8f182f75",
            "metadata": {},
            "source": [
                "---"
            ]
        },
        {
            "cell_type": "markdown",
            "id": "301fb1fb",
            "metadata": {},
            "source": [
                "##  Temas \n",
                "Estructuras de Decisión en Python Estructuras de Decisión en Python\n",
                "\n",
                "- If\n",
                "- If ... else\n",
                "- If ... elif ... else\n",
                "\n",
                "\n",
                "### Descripción General\n",
                "En este tema, aprenderemos sobre las estructuras de decisión en Python, las cuales nos permiten controlar el flujo de ejecución de un programa en función de condiciones específicas. Exploraremos las estructuras `if`, `if..else` y `if..elif..else`, comprendiendo su sintaxis y aplicabilidad mediante ejemplos prácticos.\n",
                "\n",
                "### Objetivos de Aprendizaje\n",
                "- Comprender el uso de la estructura `if` en Python.\n",
                "- Implementar estructuras `if..else` para decisiones binarias.\n",
                "- Utilizar estructuras `if..elif..else` para manejar múltiples condiciones.\n",
                "- Aplicar las estructuras de decisión en la resolución de problemas prácticos.\n",
                "\n",
                "\n",
                "\n",
                "\n"
            ]
        },
        {
            "cell_type": "markdown",
            "id": "eefcdb43",
            "metadata": {},
            "source": [
                "---"
            ]
        },
        {
            "cell_type": "markdown",
            "id": "d4748d13",
            "metadata": {},
            "source": [
                "## A. Estructuras de Decisión en Python\n",
                "\n",
                "Las estructuras de decisión permiten que el programa tome diferentes caminos de ejecución basados en condiciones evaluadas como verdaderas o falsas."
            ]
        },
        {
            "cell_type": "markdown",
            "id": "91e23f3b",
            "metadata": {},
            "source": [
                "### 1.1. La Estructura `if`\n",
                "\n",
                "#### Definición y Propósito\n",
                "- **Definición**: La estructura `if` se utiliza para ejecutar un bloque de código solo si una condición específica se evalúa como verdadera.\n",
                "- **Propósito**: Permite que el programa tome decisiones basadas en condiciones dinámicas durante la ejecución."
            ]
        },
        {
            "cell_type": "markdown",
            "id": "640e4380",
            "metadata": {},
            "source": [
                "#### Ejemplo de Uso\n",
                "```python\n",
                "# Ejemplo de estructura if\n",
                "numero = 10\n",
                "\n",
                "if numero > 5:\n",
                "    print(\"El número es mayor que 5.\")\n",
                "```\n",
                "*En este ejemplo, el mensaje se imprimirá solo si el valor de `numero` es mayor que 5.*"
            ]
        },
        {
            "cell_type": "markdown",
            "id": "58c94ff4",
            "metadata": {},
            "source": [
                "### 1.2. La Estructura `if..else`\n",
                "\n",
                "#### Definición y Propósito\n",
                "- **Definición**: La estructura `if..else` permite ejecutar un bloque de código si una condición es verdadera y otro bloque diferente si la condición es falsa.\n",
                "- **Propósito**: Facilita la toma de decisiones binarias, donde existen dos posibles caminos de ejecución."
            ]
        },
        {
            "cell_type": "markdown",
            "id": "01d5575a",
            "metadata": {},
            "source": [
                "#### Sintaxis\n",
                "```python\n",
                "if condición:\n",
                "    # Bloque de código si la condición es verdadera\n",
                "else:\n",
                "    # Bloque de código si la condición es falsa\n",
                "```"
            ]
        },
        {
            "cell_type": "markdown",
            "id": "2b17bf4a",
            "metadata": {},
            "source": [
                "#### Ejemplo de Uso\n",
                "```python\n",
                "# Ejemplo de estructura if..else\n",
                "edad = 18\n",
                "\n",
                "if edad >= 18:\n",
                "    print(\"Eres mayor de edad.\")\n",
                "else:\n",
                "    print(\"Eres menor de edad.\")\n",
                "```\n",
                "*En este ejemplo, se imprime un mensaje diferente dependiendo de si la edad es mayor o igual a 18.*"
            ]
        },
        {
            "cell_type": "markdown",
            "id": "6d23b19b",
            "metadata": {},
            "source": [
                "### 1.3. La Estructura `if..elif..else`\n",
                "\n",
                "#### Definición y Propósito\n",
                "- **Definición**: La estructura `if..elif..else` se utiliza para manejar múltiples condiciones. Permite evaluar una serie de condiciones de manera secuencial hasta que una de ellas sea verdadera.\n",
                "- **Propósito**: Facilita la gestión de múltiples escenarios posibles dentro del flujo de ejecución del programa."
            ]
        },
        {
            "cell_type": "markdown",
            "id": "feabaa2f",
            "metadata": {},
            "source": [
                "#### Sintaxis\n",
                "```python\n",
                "if condición1:\n",
                "    # Bloque de código si condición1 es verdadera\n",
                "elif condición2:\n",
                "    # Bloque de código si condición2 es verdadera\n",
                "else:\n",
                "    # Bloque de código si ninguna condición anterior es verdadera\n",
                "```"
            ]
        },
        {
            "cell_type": "markdown",
            "id": "f2f4d1da",
            "metadata": {},
            "source": [
                "#### Ejemplo de Uso\n",
                "```python\n",
                "# Ejemplo de estructura if..elif..else\n",
                "nota = 85\n",
                "\n",
                "if nota >= 90:\n",
                "    print(\"Excelente\")\n",
                "elif nota >= 80:\n",
                "    print(\"Muy bien\")\n",
                "elif nota >= 70:\n",
                "    print(\"Bien\")\n",
                "else:\n",
                "    print(\"Necesitas mejorar\")\n",
                "```\n",
                "*En este ejemplo, el mensaje que se imprime depende del rango en el que se encuentra la nota.*"
            ]
        },
        {
            "cell_type": "code",
            "execution_count": 1,
            "id": "e78f7b5a",
            "metadata": {},
            "outputs": [
                {
                    "name": "stdout",
                    "output_type": "stream",
                    "text": [
                        "Muy bien\n"
                    ]
                }
            ],
            "source": [
                "# Ejemplo de estructura if..elif..else\n",
                "nota = 85\n",
                "\n",
                "if nota >= 90:\n",
                "    print(\"Excelente\")\n",
                "elif nota >= 80:\n",
                "    print(\"Muy bien\")\n",
                "elif nota >= 70:\n",
                "    print(\"Bien\")\n",
                "else:\n",
                "    print(\"Necesitas mejorar\")"
            ]
        },
        {
            "cell_type": "markdown",
            "id": "ccf5f735",
            "metadata": {},
            "source": [
                "---"
            ]
        },
        {
            "cell_type": "markdown",
            "id": "dca3477e",
            "metadata": {},
            "source": [
                "##  B. Ejercicios Prácticos"
            ]
        },
        {
            "cell_type": "markdown",
            "id": "5c4feace",
            "metadata": {},
            "source": [
                "\n",
                "\n",
                "### Ejercicio 1: Determinar si un Número es Positivo, Negativo o Cero\n",
                "\n",
                "**Descripción**: Crea un programa que solicite al usuario que ingrese un número y determine si es positivo, negativo o cero.\n",
                "\n",
                "**Instrucciones**:\n",
                "1. Utiliza la función `input()` para solicitar al usuario que ingrese un número.\n",
                "2. Convierte la entrada a tipo `float` usando la función `float()`.\n",
                "3. Utiliza estructuras `if..elif..else` para determinar si el número es positivo, negativo o cero.\n",
                "4. Imprime el resultado utilizando `print()` con una f-string.\n",
                "\n"
            ]
        },
        {
            "cell_type": "markdown",
            "id": "6c2640ba",
            "metadata": {},
            "source": [
                "### Ejercicio 2: Clasificar una Edad en Categorías\n",
                "\n",
                "**Descripción**: Crea un programa que solicite al usuario que ingrese su edad y la clasifique en una de las siguientes categorías:\n",
                "- Niño (0-12 años)\n",
                "- Adolescente (13-17 años)\n",
                "- Adulto (18-64 años)\n",
                "- Senior (65 años o más)\n",
                "\n",
                "**Instrucciones**:\n",
                "1. Utiliza `input()` para solicitar la edad del usuario.\n",
                "2. Convierte la entrada a tipo `int` usando la función `int()`.\n",
                "3. Utiliza estructuras `if..elif..else` para clasificar la edad.\n",
                "4. Imprime la categoría correspondiente utilizando `print()` con una f-string.\n",
                "\n"
            ]
        },
        {
            "cell_type": "markdown",
            "id": "417803e2",
            "metadata": {},
            "source": [
                "### Ejercicio 3: Calculadora de Notas\n",
                "\n",
                "**Descripción**: Crea un programa que solicite al usuario que ingrese una nota (0-100) y determine la calificación correspondiente:\n",
                "- A: 90-100\n",
                "- B: 80-89\n",
                "- C: 70-79\n",
                "- D: 60-69\n",
                "- F: 0-59\n",
                "\n",
                "**Instrucciones**:\n",
                "1. Utiliza `input()` para solicitar la nota del usuario.\n",
                "2. Convierte la entrada a tipo `int` usando la función `int()`.\n",
                "3. Utiliza estructuras `if..elif..else` para asignar la calificación.\n",
                "4. Imprime la calificación utilizando `print()` con una f-string.\n",
                "\n"
            ]
        },
        {
            "cell_type": "markdown",
            "id": "f9245fac",
            "metadata": {},
            "source": [
                "### Ejercicio 4: Verificación de Múltiplos y Pares\n",
                "\n",
                "\n",
                "**Descripción**:  Crea un programa que solicite al usuario que ingrese un número y determine si el número es múltiplo de 3 o 5 y si es par. Luego imprime el resultado de si cumple ambas condiciones o no.\n",
                "\n",
                "**Instrucciones**:\n",
                "- Utiliza input() para solicitar un número al usuario.\n",
                "- Convierte la entrada a tipo int usando la función int().\n",
                "- Utiliza estructuras if..elif..else con condiciones largas que puedan ser simplificadas.\n",
                "- Imprime el resultado utilizando print() con una f-string."
            ]
        },
        {
            "cell_type": "markdown",
            "id": "a1dec945",
            "metadata": {},
            "source": [
                "### Ejercicio 5. Sistema de Verificación de Acceso Complejo\n",
                "\n",
                "Descripción: Crea un programa que simule un sistema de verificación de acceso basado en tres condiciones: ser mayor de 18 años, tener una tarjeta válida y haber ingresado correctamente un PIN. El acceso se otorga si:\n",
                "\n",
                "La persona es mayor de 18 años y tiene una tarjeta válida, o\n",
                "La persona es menor de 18 años, pero tiene tanto una tarjeta válida como un PIN correcto, o\n",
                "La persona tiene más de 65 años, y no se requiere ni tarjeta ni PIN.\n",
                "El programa debe solicitar la edad, si la tarjeta es válida (True o False), y si el PIN es correcto (True o False).\n",
                "\n",
                "#### Instrucciones:\n",
                "\n",
                "- Solicita al usuario ingresar su edad, si tiene tarjeta válida, y si su PIN es correcto.\n",
                "- Utiliza estructuras if..elif..else para evaluar las condiciones complejas.\n",
                "- Aplica las leyes del álgebra de Boole para optimizar las condiciones.\n",
                "- Imprime si el acceso es otorgado o denegado.\n",
                "\n",
                "\n",
                "Ejemplo de ingresar un condicion, se puede pedir que ingrese T o F y lo comparamos con una condicion.\n",
                "\n",
                "**Código Ejemplo Input Boolean**:\n",
                "```python\n",
                "tarjeta_valida_str = input(\"¿Tienes tarjeta válida? (T/F): \")\n",
                "tarjeta_valida = tarjeta_valida_str() == \"T\"\n",
                "```"
            ]
        },
        {
            "cell_type": "code",
            "execution_count": 5,
            "id": "f03fcc0c",
            "metadata": {},
            "outputs": [
                {
                    "name": "stdout",
                    "output_type": "stream",
                    "text": [
                        "ValorIngredo T\n",
                        "True\n"
                    ]
                }
            ],
            "source": [
                "tarjeta_valida_str = input(\"¿Tienes tarjeta válida? (T/F): \")\n",
                "print(f\"Valor Ingresado {tarjeta_valida_str}\")\n",
                "tarjeta_valida = tarjeta_valida_str == \"T\"\n",
                "print(tarjeta_valida)"
            ]
        },
        {
            "cell_type": "markdown",
            "id": "e1d3c91a",
            "metadata": {},
            "source": [
                "## C. Resumen de Conceptos Clave\n",
                "\n",
                "1. **Estructuras de Decisión**: Permiten controlar el flujo de ejecución de un programa basándose en condiciones evaluadas como verdaderas o falsas.\n",
                "2. **Estructura `if`**: Ejecuta un bloque de código solo si una condición específica es verdadera.\n",
                "3. **Estructura `if..else`**: Permite ejecutar un bloque de código si una condición es verdadera y otro bloque si es falsa.\n",
                "4. **Estructura `if..elif..else`**: Maneja múltiples condiciones de manera secuencial, ejecutando el bloque correspondiente a la primera condición verdadera.\n",
                "5. **f-strings**: Facilitan el formateo de cadenas de texto, permitiendo incorporar variables y expresiones dentro de las cadenas de manera legible y eficiente.\n",
                "6. **Conversión de Tipos**:\n",
                "   - `int()`: Convierte una cadena de texto a un entero.\n",
                "   - `float()`: Convierte una cadena de texto a un número de punto flotante.\n",
                "   - `str()`: Convierte un valor a una cadena de texto."
            ]
        },
        {
            "cell_type": "markdown",
            "id": "cc94709d",
            "metadata": {},
            "source": []
        },
        {
            "cell_type": "markdown",
            "id": "bc7812ea",
            "metadata": {},
            "source": [
                "## D. Recursos Adicionales\n",
                "\n",
                "- [Documentación Oficial de Python - Estructuras de Decisión](https://docs.python.org/3/tutorial/controlflow.html#conditional-statements)\n",
                "- [Tutorial de Estructuras de Decisión en Real Python](https://realpython.com/python-conditional-statements/)\n",
                "- [Ejemplos de Estructuras de Decisión en W3Schools](https://www.w3schools.com/python/python_conditions.asp)\n",
                "- [Curso de Python en Coursera](https://www.coursera.org/specializations/python)"
            ]
        },
        {
            "cell_type": "markdown",
            "id": "cfced48b",
            "metadata": {},
            "source": [
                "---\n",
                "\n",
                "## E. Referencias\n",
                "\n",
                "1. Van Rossum, G. (1991). *Python Tutorial*. Python Software Foundation.\n",
                "2. Lutz, M. (2013). *Learning Python*. O'Reilly Media.\n",
                "3. Sweigart, A. (2015). *Automate the Boring Stuff with Python*. No Starch Press.\n",
                "\n",
                "---"
            ]
        }
    ],
    "metadata": {
        "kernelspec": {
            "display_name": "myenv",
            "language": "python",
            "name": "python3"
        },
        "language_info": {
            "codemirror_mode": {
                "name": "ipython",
                "version": 3
            },
            "file_extension": ".py",
            "mimetype": "text/x-python",
            "name": "python",
            "nbconvert_exporter": "python",
            "pygments_lexer": "ipython3",
            "version": "3.12.4"
        }
    },
    "nbformat": 4,
    "nbformat_minor": 5
}
