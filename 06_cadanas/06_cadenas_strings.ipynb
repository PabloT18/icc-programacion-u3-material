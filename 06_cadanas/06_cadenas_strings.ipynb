{
 "cells": [
  {
   "cell_type": "markdown",
   "id": "10386c75",
   "metadata": {},
   "source": [
    "# Lenguanjes de Programación\n",
    "### Universidad Politecnica Salesiana\n",
    "### Ingeniería en Ciencias de la Computación\n",
    "### Programación\n",
    "\n",
    "<img src=\"../assets/ups-icc.png\" alt=\"Logo Carrera\" style=\"height:75px;\"/>\n"
   ]
  },
  {
   "cell_type": "markdown",
   "id": "539c7cf2",
   "metadata": {},
   "source": [
    "---"
   ]
  },
  {
   "cell_type": "markdown",
   "id": "17834042",
   "metadata": {},
   "source": [
    "## Autores del Material\n",
    "- **Instructor**: Ing. Pablo Torres\n",
    "- **Contacto**: ptorresp@ups.edu.ec"
   ]
  },
  {
   "cell_type": "markdown",
   "id": "8f182f75",
   "metadata": {},
   "source": [
    "---"
   ]
  },
  {
   "cell_type": "markdown",
   "id": "49c8b8e9",
   "metadata": {},
   "source": [
    "## A. TEMA: Cadenas de Texto en Python"
   ]
  },
  {
   "cell_type": "markdown",
   "id": "a94be3f8",
   "metadata": {},
   "source": [
    "\n",
    "### 1. Introducción a las Cadenas de Texto\n",
    "\n",
    "Las **cadenas de texto** son secuencias de caracteres que se utilizan para representar y manipular texto en Python. Se definen encerrando los caracteres entre comillas simples (`' '`) o dobles (`\" \"`).\n",
    "\n",
    "#### 1.1. Creación de Cadenas\n",
    "\n",
    "Puedes crear cadenas de texto de varias maneras:\n",
    "\n",
    "```python\n",
    "# Usando comillas simples\n",
    "cadena1 = 'Hola, mundo!'\n",
    "\n",
    "# Usando comillas dobles\n",
    "cadena2 = \"Bienvenidos a Python.\"\n",
    "\n",
    "# Usando comillas triples para cadenas multilínea\n",
    "cadena3 = \"\"\"Esta es una cadena\n",
    "de texto que abarca\n",
    "varias líneas.\"\"\"\n",
    "```"
   ]
  },
  {
   "cell_type": "code",
   "execution_count": 1,
   "id": "5d817086",
   "metadata": {},
   "outputs": [
    {
     "name": "stdout",
     "output_type": "stream",
     "text": [
      "Esta es una cadena\n",
      "de texto que abarca\n",
      "varias líneas.\n"
     ]
    }
   ],
   "source": [
    "cadena3 = \"\"\"Esta es una cadena\n",
    "de texto que abarca\n",
    "varias líneas.\"\"\"\n",
    "print(cadena3)"
   ]
  },
  {
   "cell_type": "markdown",
   "id": "525a57f4",
   "metadata": {},
   "source": [
    "#### 1.2. Acceso a Caracteres en una Cadena\n",
    "\n",
    "Cada carácter en una cadena tiene un índice, comenzando desde `0`. Puedes acceder a caracteres individuales usando corchetes `[]`.\n",
    "\n",
    "```python\n",
    "cadena = \"Python\"\n",
    "\n",
    "# Primer carácter\n",
    "print(cadena[0])  # Output: P\n",
    "\n",
    "# Último carácter\n",
    "print(cadena[-1])  # Output: n\n",
    "```"
   ]
  },
  {
   "cell_type": "code",
   "execution_count": 5,
   "id": "84c17dc2",
   "metadata": {},
   "outputs": [
    {
     "name": "stdout",
     "output_type": "stream",
     "text": [
      "y\n",
      "P\n"
     ]
    }
   ],
   "source": [
    "cadena = \"Python Pro\"\n",
    "cartacter = cadena[1]\n",
    "# Primer carácter\n",
    "print(cartacter)  # Output: P\n",
    "\n",
    "# Último carácter\n",
    "print(cadena[-3])  # Output: n\n"
   ]
  },
  {
   "cell_type": "markdown",
   "id": "1d2d74f8",
   "metadata": {},
   "source": [
    "#### 1.3. Concatenación de Cadenas\n",
    "\n",
    "La **concatenación** es el proceso de unir dos o más cadenas en una sola.\n",
    "\n",
    "```python\n",
    "saludo = \"Hola\"\n",
    "nombre = \"Ana\"\n",
    "mensaje = saludo + \", \" + nombre + \"!\"\n",
    "print(mensaje)  # Output: Hola, Ana!\n",
    "```\n",
    "\n",
    "También puedes utilizar el operador `+=` para añadir contenido a una cadena existente.\n",
    "\n",
    "```python\n",
    "mensaje += \" ¿Cómo estás?\"\n",
    "print(mensaje)  # Output: Hola, Ana! ¿Cómo estás?\n",
    "```"
   ]
  },
  {
   "cell_type": "code",
   "execution_count": 15,
   "id": "61706f70",
   "metadata": {},
   "outputs": [
    {
     "name": "stdout",
     "output_type": "stream",
     "text": [
      "Hola1000Ana!543\n",
      "1000\n"
     ]
    }
   ],
   "source": [
    "saludo = \"Hola\"\n",
    "nombre = \"Ana\"\n",
    "numero = 543\n",
    "mensaje = saludo + \"1000\" + nombre + \"!\"+str(numero)\n",
    "print(mensaje)  # Output: Hola, Ana!\n",
    "\n",
    "mensaje = \"1000\"\n",
    "print(mensaje)  # "
   ]
  },
  {
   "cell_type": "markdown",
   "id": "9f8c86e9",
   "metadata": {},
   "source": [
    "---"
   ]
  },
  {
   "cell_type": "code",
   "execution_count": 20,
   "id": "854a1f8e",
   "metadata": {},
   "outputs": [
    {
     "name": "stdout",
     "output_type": "stream",
     "text": [
      "Python es genial!\n",
      "PYTHON ES GENIAL!\n",
      "Python es genial!\n",
      "python es genial!\n"
     ]
    }
   ],
   "source": [
    "texto = \"Python es genial!\"\n",
    "texto_mayus = texto.upper()\n",
    "print(texto)\n",
    "print(texto_mayus)  # Output: PYTHON ES GENIAL!\n",
    "\n",
    "# Convertir a minúsculas\n",
    "texto_minus = texto.lower()\n",
    "print(texto)\n",
    "print(texto_minus)  # Output: python es genial"
   ]
  },
  {
   "cell_type": "code",
   "execution_count": 27,
   "id": "9d4a8cf0",
   "metadata": {},
   "outputs": [
    {
     "name": "stdout",
     "output_type": "stream",
     "text": [
      "Python es un lenguaje\n",
      "Python es un lenguaje\n"
     ]
    }
   ],
   "source": [
    "oracion = 'python es un lenguaje'\n",
    "primera = oracion[0].upper()\n",
    "print(primera + oracion[1:]) \n",
    "\n",
    "print(oracion.capitalize())\n",
    "\n"
   ]
  },
  {
   "cell_type": "code",
   "execution_count": 33,
   "id": "d171956d",
   "metadata": {},
   "outputs": [
    {
     "name": "stdout",
     "output_type": "stream",
     "text": [
      " \n",
      " \n"
     ]
    }
   ],
   "source": [
    "texto = \"     Hola, Mundo!     \"\n",
    "print(texto[0])\n",
    "texto_sin_espacios = texto.strip()\n",
    "print(texto[0])\n"
   ]
  },
  {
   "cell_type": "code",
   "execution_count": 34,
   "id": "290d1bfb",
   "metadata": {},
   "outputs": [
    {
     "name": "stdout",
     "output_type": "stream",
     "text": [
      "     HOLA, MUNDO!     \n",
      "     hola, mundo!     \n"
     ]
    }
   ],
   "source": [
    "texto_mayus = texto.upper()\n",
    "print(texto_mayus)  # Output: PYTHON ES GENIAL!\n",
    "\n",
    "# Convertir a minúsculas\n",
    "texto_minus = texto.lower()\n",
    "print(texto_minus)  # Output: python es genial"
   ]
  },
  {
   "cell_type": "code",
   "execution_count": 41,
   "id": "88df1887",
   "metadata": {},
   "outputs": [
    {
     "name": "stdout",
     "output_type": "stream",
     "text": [
      "Me gusta programación. programación es divertido Python.\n"
     ]
    }
   ],
   "source": [
    "texto = \"Me gusta Python. Python es divertido Python.\"\n",
    "\n",
    "# Reemplazar 'Python' por 'programación'\n",
    "nuevo_texto = texto.replace(\"Python\", \"programación\",2)\n",
    "print(nuevo_texto)  # Output: Me gusta programación. programación es divertido."
   ]
  },
  {
   "cell_type": "markdown",
   "id": "93986080",
   "metadata": {},
   "source": [
    "\n",
    "### 2. Métodos para Manipular Cadenas\n",
    "\n",
    "Python proporciona una variedad de **métodos incorporados** para facilitar la manipulación de cadenas de texto.\n",
    "\n",
    "#### 2.1. Convertir a Mayúsculas y Minúsculas\n",
    "\n",
    "```python\n",
    "texto = \"Python es Genial!\"\n",
    "\n",
    "# Convertir a mayúsculas\n",
    "texto_mayus = texto.upper()\n",
    "print(texto_mayus)  # Output: PYTHON ES GENIAL!\n",
    "\n",
    "# Convertir a minúsculas\n",
    "texto_minus = texto.lower()\n",
    "print(texto_minus)  # Output: python es genial!\n",
    "\n",
    "# Capitalizar la primera letra de cada palabra\n",
    "texto_capitalizado = texto.title()\n",
    "print(texto_capitalizado)  # Output: Python Es Genial!\n",
    "```\n",
    "\n",
    "#### 2.2. Eliminar Espacios en Blanco\n",
    "\n",
    "```python\n",
    "texto = \"   Hola, mundo!   \"\n",
    "\n",
    "# Eliminar espacios al inicio y al final\n",
    "texto_limpio = texto.strip()\n",
    "print(f\"'{texto_limpio}'\")  # Output: 'Hola, mundo!'\n",
    "```\n",
    "\n",
    "#### 2.3. Reemplazar Subcadenas\n",
    "\n",
    "```python\n",
    "texto = \"Me gusta Python. Python es divertido.\"\n",
    "\n",
    "# Reemplazar 'Python' por 'programación'\n",
    "nuevo_texto = texto.replace(\"Python\", \"programación\")\n",
    "print(nuevo_texto)  # Output: Me gusta programación. programación es divertido.\n",
    "```\n",
    "\n",
    "#### 2.4. Dividir y Unir Cadenas\n",
    "\n",
    "```python\n",
    "texto = \"Manzana, Banana, Cereza\"\n",
    "\n",
    "# Dividir la cadena en una lista\n",
    "frutas = texto.split(\", \")\n",
    "print(frutas)  # Output: ['Manzana', 'Banana', 'Cereza']\n",
    "\n",
    "# Unir una lista en una cadena\n",
    "frutas_unidas = \" y \".join(frutas)\n",
    "print(frutas_unidas)  # Output: Manzana y Banana y Cereza\n",
    "```\n"
   ]
  },
  {
   "cell_type": "markdown",
   "id": "32669340",
   "metadata": {},
   "source": [
    "---"
   ]
  },
  {
   "cell_type": "code",
   "execution_count": 56,
   "id": "fa497639",
   "metadata": {},
   "outputs": [
    {
     "name": "stdout",
     "output_type": "stream",
     "text": [
      "P\n",
      "y\n",
      "T\n",
      "h\n",
      "O\n",
      "n\n",
      "T\n",
      "T\n",
      "T\n",
      "T\n"
     ]
    }
   ],
   "source": [
    "texto = 'Pythontttt'\n",
    "for caracter in texto:\n",
    "    pos = texto.index(caracter)\n",
    "    if pos % 2 == 0:\n",
    "        print(caracter.upper())\n",
    "    else:\n",
    "        print(caracter.lower())\n",
    "\n",
    "\n"
   ]
  },
  {
   "cell_type": "markdown",
   "id": "3333d8d4",
   "metadata": {},
   "source": [
    "\n",
    "### 3. Iteración sobre Caracteres en una Cadena\n",
    "\n",
    "Puedes **iterar** sobre cada carácter en una cadena utilizando bucles como `for`.\n",
    "\n",
    "```python\n",
    "texto = \"Python\"\n",
    "\n",
    "# Iterar sobre cada carácter\n",
    "for caracter in texto:\n",
    "    print(caracter)\n",
    "```\n",
    "\n",
    "**Output**:\n",
    "```\n",
    "P\n",
    "y\n",
    "t\n",
    "h\n",
    "o\n",
    "n\n",
    "```"
   ]
  },
  {
   "cell_type": "code",
   "execution_count": null,
   "id": "06341d27",
   "metadata": {},
   "outputs": [
    {
     "name": "stdout",
     "output_type": "stream",
     "text": [
      "12\n"
     ]
    }
   ],
   "source": [
    "texto = \"Hola, mundo!\"\n",
    "\n",
    "print(texto.index(texto[-1])+1)"
   ]
  },
  {
   "cell_type": "markdown",
   "id": "5b4bcbfb",
   "metadata": {},
   "source": [
    "---"
   ]
  },
  {
   "cell_type": "markdown",
   "id": "3e0f919a",
   "metadata": {},
   "source": [
    "\n",
    "### 4. Contar Caracteres en una Cadena\n",
    "\n",
    "#### 4.1. Contar el Número Total de Caracteres\n",
    "\n",
    "```python\n",
    "texto = \"Hola, mundo!\"\n",
    "\n",
    "# Contar caracteres\n",
    "numero_caracteres = len(texto)\n",
    "print(f\"El texto tiene {numero_caracteres} caracteres.\")  # Output: El texto tiene 12 caracteres.\n",
    "```\n",
    "\n",
    "#### 4.2. Contar Ocurrencias de un Carácter Específico\n",
    "\n",
    "```python\n",
    "texto = \"Python es genial. Python es poderoso.\"\n",
    "\n",
    "# Contar cuántas veces aparece 'Python'\n",
    "contador_python = texto.count(\"Python\")\n",
    "print(f\"'Python' aparece {contador_python} veces.\")  # Output: 'Python' aparece 2 veces.\n",
    "```"
   ]
  },
  {
   "cell_type": "code",
   "execution_count": null,
   "id": "d94898b2",
   "metadata": {},
   "outputs": [
    {
     "name": "stdout",
     "output_type": "stream",
     "text": [
      "3\n"
     ]
    }
   ],
   "source": [
    "## Contar caracteres\n",
    "caracter = input(\"Ingrese un caracter\")\n",
    "texto = \"Hola, mundo, Hola, mundo, Hola, mundo!\"\n",
    "contador = 0\n",
    "for c in texto:\n",
    "    if c == caracter:\n",
    "        contador += 1\n",
    "print(contador)\n"
   ]
  },
  {
   "cell_type": "markdown",
   "id": "f1d1a4d7",
   "metadata": {},
   "source": [
    "---"
   ]
  },
  {
   "cell_type": "code",
   "execution_count": null,
   "id": "3bd214d7",
   "metadata": {},
   "outputs": [],
   "source": [
    "## Cree una funion que cuente los catacteres\n",
    "## de una cadena de texto segun el caracter\n",
    "## que llegue como argumento.\n",
    "def contar_caracteres(texto, caracter):\n",
    "    contador = 0\n",
    "    for c in texto:\n",
    "        if c == caracter:\n",
    "            contador += 1\n",
    "    return contador"
   ]
  },
  {
   "cell_type": "code",
   "execution_count": 9,
   "id": "400e6977",
   "metadata": {},
   "outputs": [
    {
     "name": "stdout",
     "output_type": "stream",
     "text": [
      "0\n",
      "4\n"
     ]
    }
   ],
   "source": [
    "# caracter = input(\"Ingrese un caracter\")\n",
    "texto = \"Hola, mundo Hola, Hola, mundo, Hola, mundo!\"\n",
    "print(contar_caracteres(texto, 'Hola'))\n",
    "print(texto.count(\"Hola\"))\n"
   ]
  },
  {
   "cell_type": "markdown",
   "id": "c59c0e5c",
   "metadata": {},
   "source": [
    "### 5. Formateo de Cadenas\n",
    "\n",
    "El **formateo** permite insertar valores en una cadena de manera elegante y legible.\n",
    "\n",
    "#### 5.1. Usando f-strings (Recomendado en Python 3.6+)\n",
    "\n",
    "```python\n",
    "nombre = \"Carlos\"\n",
    "edad = 28\n",
    "mensaje = f\"Me llamo {nombre} y tengo {edad} años.\"\n",
    "print(mensaje)  # Output: Me llamo Carlos y tengo 28 años.\n",
    "```\n",
    "\n",
    "#### 5.2. Usando el Método `format()`\n",
    "\n",
    "```python\n",
    "nombre = \"Ana\"\n",
    "edad = 22\n",
    "mensaje = \"Me llamo {} y tengo {} años.\".format(nombre, edad)\n",
    "print(mensaje)  # Output: Me llamo Ana y tengo 22 años.\n",
    "```\n",
    "\n",
    "#### 5.3. Usando Operador `%`\n",
    "\n",
    "```python\n",
    "nombre = \"Luis\"\n",
    "edad = 35\n",
    "mensaje = \"Me llamo %s y tengo %d años.\" % (nombre, edad)\n",
    "print(mensaje)  # Output: Me llamo Luis y tengo 35 años.\n",
    "```\n",
    "\n"
   ]
  },
  {
   "cell_type": "markdown",
   "id": "3114fa30",
   "metadata": {},
   "source": [
    "---\n",
    "---"
   ]
  },
  {
   "cell_type": "code",
   "execution_count": 18,
   "id": "36a7f3aa",
   "metadata": {},
   "outputs": [
    {
     "name": "stdout",
     "output_type": "stream",
     "text": [
      "odnum aloH\n",
      "10\n"
     ]
    }
   ],
   "source": [
    "def invertir_cadena(texto):\n",
    "    texto_invertido = \"\"\n",
    "    for c in texto:\n",
    "        texto_invertido = c + texto_invertido\n",
    "    return texto_invertido\n",
    "\n",
    "cadena_invertida = invertir_cadena(\"Hola mundo\")\n",
    "print(cadena_invertida)\n",
    "\n",
    "texto=\"Hola mundo\"\n",
    "tamanio = len(texto)\n",
    "print(tamanio)"
   ]
  },
  {
   "cell_type": "code",
   "execution_count": null,
   "id": "180d5ac1",
   "metadata": {},
   "outputs": [],
   "source": [
    "def count_voc(texto):\n",
    "    cant_a = texto.count(\"a\")\n",
    "    cant_e = texto.count(\"e\")\n",
    "    cant_i = texto.count(\"i\")\n",
    "    cant_o = texto.count(\"o\")\n",
    "    cant_u = texto.count(\"u\")\n",
    "    return cant_a+ cant_e+ cant_i+ cant_o+ cant_u"
   ]
  },
  {
   "cell_type": "code",
   "execution_count": null,
   "id": "c3a5f50a",
   "metadata": {},
   "outputs": [],
   "source": [
    "def count_voc(texto):\n",
    "    cont= 0\n",
    "    for c in texto:\n",
    "        if c =='a' or  c== 'A'or c =='e' or c =='i' or c =='o' or c =='u':\n",
    "            cont += 1\n",
    "    return cont"
   ]
  },
  {
   "cell_type": "code",
   "execution_count": 26,
   "id": "8c20a059",
   "metadata": {},
   "outputs": [
    {
     "name": "stdout",
     "output_type": "stream",
     "text": [
      "Hola-mundo-Hola-mundo-Hola-mundo\n"
     ]
    }
   ],
   "source": [
    "def replace_spaces(texto):\n",
    "    texto_guiones = texto.replace(\" \", \"-\") \n",
    "    return texto_guiones\n",
    "cadena = \"Hola mundo Hola mundo Hola mundo\"\n",
    "print(replace_spaces(cadena))"
   ]
  },
  {
   "cell_type": "code",
   "execution_count": 27,
   "id": "9dfc45d4",
   "metadata": {},
   "outputs": [
    {
     "name": "stdout",
     "output_type": "stream",
     "text": [
      "True\n"
     ]
    }
   ],
   "source": [
    "print('a'.islower())"
   ]
  },
  {
   "cell_type": "code",
   "execution_count": 34,
   "id": "56840e50",
   "metadata": {},
   "outputs": [
    {
     "name": "stdout",
     "output_type": "stream",
     "text": [
      "HHHH\n",
      "ggggg\n"
     ]
    }
   ],
   "source": [
    "def ejercicio_5(texto): \n",
    "    inicial = texto[0]\n",
    "    es_mayuscula = inicial.isupper()\n",
    "    if not es_mayuscula:\n",
    "        return inicial.upper() * len(texto)\n",
    "    else:\n",
    "        return inicial.lower() * len(texto)\n",
    "print(ejercicio_5(\"hola\"))\n",
    "print(ejercicio_5(\"Gatos\"))\n"
   ]
  },
  {
   "cell_type": "markdown",
   "id": "966e3700",
   "metadata": {},
   "source": [
    "\n",
    "### Ejercicio 5: Función para escribir una cada de texto con la primera letra de la cadena invertida si es mayuscula que sea minuscula la cantidad de veces que indique el tamaño de la cadena \n",
    "\n",
    "\n",
    "**Ejemplo**: \n",
    "\n",
    "cadena = \"Hola mundo\"\n",
    "\n",
    "resultado = \"hhhhhhhhhhh\""
   ]
  },
  {
   "cell_type": "markdown",
   "id": "5fd416c6",
   "metadata": {},
   "source": [
    "## B. Ejercicios Prácticos\n"
   ]
  },
  {
   "cell_type": "markdown",
   "id": "0de19a19",
   "metadata": {},
   "source": [
    "\n",
    "A continuación, se presentan **5 ejercicios** que te permitirán practicar y consolidar tu comprensión sobre las cadenas de texto en Python.\n",
    "\n",
    "### Ejercicio 1: Función para Invertir una Cadena\n",
    "\n",
    "**Descripción**: Crea una función que invierta una cadena de texto proporcionada por el usuario.\n",
    "\n",
    "**Instrucciones**:\n",
    "1. Define una función llamada `invertir_cadena` que reciba una cadena de texto.\n",
    "2. Utiliza for para crear una cadena invertir.\n",
    "3. Devuelve la cadena invertida.\n",
    "4. Llama a la función con una palabra de tu elección y muestra el resultado.\n",
    "\n",
    "**Solución**:\n",
    "```python\n",
    "def invertir_cadena(cadena):\n",
    "    \"\"\"\n",
    "    Invierte una cadena de texto.\n",
    "    \"\"\"\n",
    "    return cadena[::-1]\n",
    "\n",
    "# Ejemplo de uso\n",
    "palabra = \"Python\"\n",
    "palabra_invertida = invertir_cadena(palabra)\n",
    "print(f\"La palabra invertida es: {palabra_invertida}\")  # Output: nohtyP\n",
    "```\n",
    "\n",
    "---\n",
    "\n",
    "### Ejercicio 2: Función para Contar Vocales en una Cadena\n",
    "\n",
    "**Descripción**: Crea una función que cuente el número de vocales en una cadena de texto proporcionada por el usuario.\n",
    "\n",
    "**Instrucciones**:\n",
    "1. Define una función llamada `contar_vocales` que reciba una cadena de texto.\n",
    "2. Itera sobre cada carácter de la cadena y cuenta las vocales (`a`, `e`, `i`, `o`, `u`, tanto mayúsculas como minúsculas).\n",
    "3. Devuelve el número total de vocales encontradas.\n",
    "4. Llama a la función con una frase de tu elección y muestra el resultado.\n",
    "\n",
    "**Solución**:\n",
    "```python\n",
    "def contar_vocales(cadena):\n",
    "    \"\"\"\n",
    "    Cuenta el número de vocales en una cadena de texto.\n",
    "    \"\"\"\n",
    "    vocales = \"aeiouAEIOU\"\n",
    "    contador = 0\n",
    "    for caracter in cadena:\n",
    "        if caracter in vocales:\n",
    "            contador += 1\n",
    "    return contador\n",
    "\n",
    "# Ejemplo de uso\n",
    "frase = \"Python es un lenguaje de programación versátil.\"\n",
    "cantidad_vocales = contar_vocales(frase)\n",
    "print(f\"La frase tiene {cantidad_vocales} vocales.\")  # Output: La frase tiene 17 vocales.\n",
    "```\n",
    "\n",
    "---\n",
    "\n",
    "### Ejercicio 3: Función para Verificar si una Cadena Contiene una Subcadena\n",
    "\n",
    "**Descripción**: Crea una función que verifique si una cadena de texto contiene una subcadena específica.\n",
    "\n",
    "**Instrucciones**:\n",
    "1. Define una función llamada `contiene_subcadena` que reciba dos cadenas de texto: `cadena_principal` y `subcadena`.\n",
    "2. Utiliza el operador `in` para verificar si `subcadena` está en `cadena_principal`.\n",
    "3. Devuelve `True` si está presente y `False` en caso contrario.\n",
    "4. Llama a la función con diferentes ejemplos y muestra los resultados.\n",
    "\n",
    "**Solución**:\n",
    "```python\n",
    "def contiene_subcadena(cadena_principal, subcadena):\n",
    "    \"\"\"\n",
    "    Verifica si 'subcadena' está presente en 'cadena_principal'.\n",
    "    \"\"\"\n",
    "    return subcadena in cadena_principal\n",
    "\n",
    "# Ejemplos de uso\n",
    "cadena = \"El aprendizaje de Python es divertido.\"\n",
    "print(contiene_subcadena(cadena, \"Python\"))  # Output: True\n",
    "print(contiene_subcadena(cadena, \"Java\"))    # Output: False\n",
    "```\n",
    "\n",
    "---\n",
    "\n",
    "### Ejercicio 4: Función para Reemplazar Espacios por Guiones en una Cadena\n",
    "\n",
    "**Descripción**: Crea una función que reemplace todos los espacios en una cadena de texto por guiones (`-`).\n",
    "\n",
    "**Instrucciones**:\n",
    "1. Define una función llamada `reemplazar_espacios` que reciba una cadena de texto.\n",
    "2. Utiliza el método `replace()` para sustituir los espacios por guiones.\n",
    "3. Devuelve la cadena modificada.\n",
    "4. Llama a la función con una frase de tu elección y muestra el resultado.\n",
    "\n",
    "**Solución**:\n",
    "```python\n",
    "def reemplazar_espacios(cadena):\n",
    "    \"\"\"\n",
    "    Reemplaza todos los espacios en una cadena por guiones.\n",
    "    \"\"\"\n",
    "    return cadena.replace(\" \", \"-\")\n",
    "\n",
    "# Ejemplo de uso\n",
    "frase = \"Aprender Python es emocionante\"\n",
    "frase_modificada = reemplazar_espacios(frase)\n",
    "print(frase_modificada)  # Output: Aprender-Python-es-emocionante\n",
    "```\n",
    "\n",
    "---\n",
    "\n",
    "### Ejercicio 5: Función para Capitalizar la Primera Letra de Cada Palabra\n",
    "\n",
    "**Descripción**: Crea una función que capitalice la primera letra de cada palabra en una cadena de texto.\n",
    "\n",
    "**Instrucciones**:\n",
    "1. Define una función llamada `capitalizar_palabras` que reciba una cadena de texto.\n",
    "2. Utiliza el método `title()` para capitalizar la primera letra de cada palabra.\n",
    "3. Devuelve la cadena modificada.\n",
    "4. Llama a la función con una frase de tu elección y muestra el resultado.\n",
    "\n",
    "**Solución**:\n",
    "```python\n",
    "def capitalizar_palabras(cadena):\n",
    "    \"\"\"\n",
    "    Capitaliza la primera letra de cada palabra en una cadena de texto.\n",
    "    \"\"\"\n",
    "    return cadena.title()\n",
    "\n",
    "# Ejemplo de uso\n",
    "frase = \"python es un lenguaje versátil\"\n",
    "frase_capitalizada = capitalizar_palabras(frase)\n",
    "print(frase_capitalizada)  # Output: Python Es Un Lenguaje Versátil\n",
    "```\n"
   ]
  },
  {
   "cell_type": "markdown",
   "id": "ae105a54",
   "metadata": {},
   "source": [
    "---\n",
    "---"
   ]
  },
  {
   "cell_type": "markdown",
   "id": "f27bb9a3",
   "metadata": {},
   "source": [
    "## C. Resumen de Conceptos Clave\n"
   ]
  },
  {
   "cell_type": "markdown",
   "id": "51de290f",
   "metadata": {},
   "source": [
    "\n",
    "1. **Cadenas de Texto (Strings)**: Secuencias de caracteres utilizadas para representar y manipular texto.\n",
    "2. **Creación de Cadenas**: Se pueden definir usando comillas simples, dobles o triples.\n",
    "3. **Concatenación**: Unir dos o más cadenas utilizando el operador `+` o métodos como `join()`.\n",
    "4. **Métodos de Formateo**: Convertir cadenas a mayúsculas (`upper()`), minúsculas (`lower()`), capitalizar (`title()`), entre otros.\n",
    "5. **Eliminar Espacios**: Usar `strip()` para eliminar espacios al inicio y al final.\n",
    "6. **Reemplazar Subcadenas**: Usar `replace()` para sustituir partes de una cadena.\n",
    "7. **Dividir y Unir**: Usar `split()` para dividir cadenas en listas y `join()` para unir listas en cadenas.\n",
    "8. **Iteración**: Usar bucles `for` para recorrer cada carácter de una cadena.\n",
    "9. **Contar Caracteres**: Usar `len()` para contar el total y `count()` para contar ocurrencias específicas.\n",
    "10. **Formateo de Cadenas**: Insertar variables en cadenas utilizando f-strings, `format()` o el operador `%`.\n",
    "11. **Indexación y Slicing**: Acceder a caracteres individuales y subcadenas mediante índices."
   ]
  },
  {
   "cell_type": "markdown",
   "id": "73a3b36e",
   "metadata": {},
   "source": [
    "---\n",
    "---"
   ]
  },
  {
   "cell_type": "markdown",
   "id": "bc7812ea",
   "metadata": {},
   "source": [
    "## D. Recursos Adicionales\n",
    "\n",
    "- [Documentación Oficial de Python - Estructuras de Decisión](https://docs.python.org/3/tutorial/controlflow.html#conditional-statements)\n",
    "- [Tutorial de Estructuras de Decisión en Real Python](https://realpython.com/python-conditional-statements/)\n",
    "- [Ejemplos de Estructuras de Decisión en W3Schools](https://www.w3schools.com/python/python_conditions.asp)\n"
   ]
  },
  {
   "cell_type": "markdown",
   "id": "b3f762c9",
   "metadata": {},
   "source": [
    "---\n",
    "---"
   ]
  },
  {
   "cell_type": "markdown",
   "id": "cfced48b",
   "metadata": {},
   "source": [
    "\n",
    "\n",
    "## E. Referencias\n",
    "\n",
    "1. Van Rossum, G. (1991). *Python Tutorial*. Python Software Foundation.\n",
    "2. Lutz, M. (2013). *Learning Python*. O'Reilly Media.\n",
    "3. Sweigart, A. (2015). *Automate the Boring Stuff with Python*. No Starch Press.\n",
    "\n",
    "---"
   ]
  }
 ],
 "metadata": {
  "kernelspec": {
   "display_name": "myenv",
   "language": "python",
   "name": "python3"
  },
  "language_info": {
   "codemirror_mode": {
    "name": "ipython",
    "version": 3
   },
   "file_extension": ".py",
   "mimetype": "text/x-python",
   "name": "python",
   "nbconvert_exporter": "python",
   "pygments_lexer": "ipython3",
   "version": "3.12.4"
  }
 },
 "nbformat": 4,
 "nbformat_minor": 5
}
