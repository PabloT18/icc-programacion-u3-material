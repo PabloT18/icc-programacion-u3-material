{
 "cells": [
  {
   "cell_type": "markdown",
   "id": "10386c75",
   "metadata": {},
   "source": [
    "# Lenguanjes de Programación\n",
    "### Universidad Politecnica Salesiana\n",
    "### Ingeniería en Ciencias de la Computación\n",
    "### Programación\n",
    "\n",
    "<img src=\"../assets/ups-icc.png\" alt=\"Logo Carrera\" style=\"height:75px;\"/>\n"
   ]
  },
  {
   "cell_type": "markdown",
   "id": "539c7cf2",
   "metadata": {},
   "source": [
    "---"
   ]
  },
  {
   "cell_type": "markdown",
   "id": "17834042",
   "metadata": {},
   "source": [
    "## Autores del Material\n",
    "- **Instructor**: Ing. Pablo Torres\n",
    "- **Contacto**: ptorresp@ups.edu.ec\n"
   ]
  },
  {
   "cell_type": "markdown",
   "id": "8f182f75",
   "metadata": {},
   "source": [
    "---"
   ]
  },
  {
   "cell_type": "markdown",
   "id": "49c8b8e9",
   "metadata": {},
   "source": [
    "## A. TEMA: Loops y Arreglos(Listas) \n",
    "\n",
    "\n",
    "### Descripción General\n",
    "En este tema, aprenderemos sobre los **arreglos**, conocidos como **listas** en Python. Las listas son estructuras de datos fundamentales que permiten almacenar colecciones de elementos ordenados y modificables. Exploraremos cómo crear listas, acceder a sus elementos, realizar operaciones básicas, y utilizar métodos incorporados para manipular y gestionar datos de manera eficiente.\n",
    "\n",
    "### Objetivos de Aprendizaje\n",
    "- Comprender qué son las listas en Python y sus características principales.\n",
    "- Aprender a crear y asignar listas a variables.\n",
    "- Acceder y modificar elementos de una lista utilizando índices.\n",
    "- Realizar operaciones básicas con listas, como concatenación y repetición.\n",
    "- Utilizar métodos incorporados para agregar, eliminar y modificar elementos en una lista.\n",
    "- Iterar sobre los elementos de una lista utilizando bucles.\n",
    "- Aplicar buenas prácticas en el manejo de listas para escribir código eficiente y legible."
   ]
  },
  {
   "cell_type": "markdown",
   "id": "fe4ca70d",
   "metadata": {},
   "source": [
    "## B. Ejercicios Prácticos\n"
   ]
  },
  {
   "cell_type": "markdown",
   "id": "408d5113",
   "metadata": {},
   "source": [
    "\n",
    "### Ejercicio 1 \n",
    "\n",
    "**Descripción**: Iterar Sobre Colores Grandes\n",
    "\n",
    "**Instrucciones**:\n",
    "\n",
    "Itera sobre los elementos de colores e imprime el elemento en cada iteración solo si el elemento es mayor que 50. Entonces, la salida de tu programa sería:\n",
    "\n",
    "\n",
    "**Output**:\n",
    "```\n",
    "98\n",
    "54\n",
    "54"
   ]
  },
  {
   "cell_type": "code",
   "execution_count": null,
   "metadata": {},
   "outputs": [],
   "source": [
    "colors = [11, 34, 98, 43, 45, 54, 54]\n"
   ]
  },
  {
   "cell_type": "markdown",
   "id": "580007ce",
   "metadata": {},
   "source": [
    "\n",
    "### Ejercicio 2\n",
    "\n",
    "**Descripción**: Iterar Sobre Colores Enteros\n",
    "\n",
    "**Instrucciones**:\n",
    "Itera sobre los elementos de colores e imprime el elemento en cada iteración solo si el elemento es un número entero. Entonces, la salida de tu programa sería:\n",
    "\n",
    "\n",
    "\n",
    "**Output**:\n",
    "```\n",
    "11\n",
    "43\n",
    "54\n",
    "54\n",
    "```\n"
   ]
  },
  {
   "cell_type": "code",
   "execution_count": null,
   "id": "18bd984e",
   "metadata": {},
   "outputs": [],
   "source": [
    "colors = [11, 34.1, 98.2, 43, 45.1, 54, 54]\n"
   ]
  },
  {
   "cell_type": "markdown",
   "id": "6a7e5281",
   "metadata": {},
   "source": [
    "\n",
    "### Ejercicio 3\n",
    "\n",
    "**Descripción**: Iterar Sobre Colores Enteros y Grandes\n",
    "\n",
    "**Instrucciones**:\n",
    "Itera sobre los elementos de colores e imprime el elemento en cada iteración solo si el elemento es un número entero y es mayor que 50. Entonces, la salida de tu programa sería:\n",
    "\n",
    "\n",
    "**Output**:\n",
    "```\n",
    "54\n",
    "54\n",
    "```\n"
   ]
  },
  {
   "cell_type": "code",
   "execution_count": null,
   "id": "407d3dcc",
   "metadata": {},
   "outputs": [
    {
     "name": "stdout",
     "output_type": "stream",
     "text": [
      "54\n",
      "54\n"
     ]
    }
   ],
   "source": [
    "colors = [11, 34.1, 98.2, 43, 45.1, 54, 54]\n",
    "\n"
   ]
  },
  {
   "cell_type": "markdown",
   "id": "425c6aef",
   "metadata": {},
   "source": [
    "\n",
    "### Ejercicio 4\n",
    "\n",
    "**Descripción**: Bucle For Sobre una Función\n",
    "\n",
    "**Instrucciones**:\n",
    "Un bucle for también se puede usar para ejecutar una función varias veces. Crea una funcion celsius_a_kelvin que calcula la conversion y despues itera el listado de temperaturas para ejecutar la funcion:\n",
    "\n",
    "\n",
    "**Output**:\n",
    "```\n",
    "282.25\n",
    "281.95\n",
    "3.0\n",
    "```\n"
   ]
  },
  {
   "cell_type": "code",
   "execution_count": null,
   "id": "95b9bea1",
   "metadata": {},
   "outputs": [
    {
     "name": "stdout",
     "output_type": "stream",
     "text": [
      "282.25\n",
      "281.95\n",
      "3.0\n"
     ]
    }
   ],
   "source": [
    "temeperaturas=[9.1, 8.8, -270.15]\n",
    "\n"
   ]
  },
  {
   "cell_type": "markdown",
   "id": "8abda80b",
   "metadata": {},
   "source": [
    "### Ejercicio 5\n",
    "\n",
    "**Descripción**: Filtrar y Sumar Números Pares\n",
    "\n",
    "**Instrucciones**:\n",
    "Itera sobre los elementos de la lista `numeros` y filtra solo los números pares. Luego, suma estos números y muestra el resultado. Entonces, la salida de tu programa sería:\n",
    "\n",
    "**Output**:\n",
    "```\n",
    "30\n",
    "```\n"
   ]
  },
  {
   "cell_type": "code",
   "execution_count": null,
   "id": "1a7fa779",
   "metadata": {},
   "outputs": [
    {
     "name": "stdout",
     "output_type": "stream",
     "text": [
      "30\n"
     ]
    }
   ],
   "source": [
    "numeros = [1, 2, 3, 4, 5, 6, 7, 8, 9, 10]\n",
    "\n"
   ]
  },
  {
   "cell_type": "markdown",
   "id": "669a3ae7",
   "metadata": {},
   "source": [
    "### Ejercicio 6\n",
    "\n",
    "**Descripción**: Filtrar y Calcular Promedio de Números Impares\n",
    "\n",
    "**Instrucciones**:\n",
    "1. Crea una función llamada `filtrar_impares` que reciba una lista de números y devuelva una nueva lista que contenga solo los números impares.\n",
    "2. Crea una función llamada `calcular_promedio` que reciba una lista de números y devuelva el promedio de esos números.\n",
    "3. Utiliza las funciones `filtrar_impares` y `calcular_promedio` para filtrar los números impares de la lista `numeros` y calcular su promedio.\n",
    "4. Imprime la lista de números impares y el promedio calculado.\n",
    "\n",
    "**Output**:\n",
    "```\n",
    "Números impares: [1, 3, 5, 7, 9]\n",
    "Promedio de números impares: 5.0\n",
    "```\n"
   ]
  },
  {
   "cell_type": "code",
   "execution_count": null,
   "id": "3986cc1d",
   "metadata": {},
   "outputs": [
    {
     "name": "stdout",
     "output_type": "stream",
     "text": [
      "Números impares: [1, 3, 5, 7, 9]\n",
      "Promedio de números impares: 5.0\n"
     ]
    }
   ],
   "source": [
    "numeros = [1, 2, 3, 4, 5, 6, 7, 8, 9, 10]\n"
   ]
  },
  {
   "cell_type": "markdown",
   "id": "c54bdaf0",
   "metadata": {},
   "source": [
    "### Ejercicio 7\n",
    "\n",
    "**Descripción**: Contar Tipos de Datos en una Lista\n",
    "\n",
    "**Instrucciones**:\n",
    "Dada una lista que contiene elementos de varios tipos de datos, escribe un metodo contar_elementos que cuente cuántos elementos de cada tipo (int, str, bool, list) hay en la lista. La salida de tu programa debe mostrar el conteo de cada tipo de dato.\n",
    "\n",
    "**Output**:\n",
    "```\n",
    "Booleanos: 2\n",
    "Enteros: 3\n",
    "Cadenas: 2\n",
    "Listas: 1\n",
    "```python\n"
   ]
  },
  {
   "cell_type": "code",
   "execution_count": null,
   "id": "916d6449",
   "metadata": {},
   "outputs": [
    {
     "name": "stdout",
     "output_type": "stream",
     "text": [
      "Booleanos: 2\n",
      "Enteros: 3\n",
      "Cadenas: 2\n",
      "Listas: 1\n"
     ]
    }
   ],
   "source": [
    "elementos = [1, \"hola\", True, [1, True, \"2\"], 2, \"mundo\", False, 3]\n",
    "\n"
   ]
  },
  {
   "cell_type": "markdown",
   "id": "2de2a53c",
   "metadata": {},
   "source": [
    "### Ejercicio 8\n",
    "\n",
    "**Descripción**: Revisión de Argumentos de Métodos\n",
    "\n",
    "**Instrucciones**:\n",
    "1. Crea una lista llamada `frutas` que contenga los siguientes elementos: `'manzana'`, `'banana'`, `'cereza'`, `'durazno'`.\n",
    "2. Define una función llamada `agregar_fruta` que reciba dos argumentos: una lista y una fruta. La función debe agregar la fruta a la lista.\n",
    "3. Define una función llamada `eliminar_fruta` que reciba dos argumentos: una lista y una fruta. La función debe eliminar la fruta de la lista si está presente.\n",
    "4. Define una función llamada `mostrar_frutas` que reciba una lista como argumento y la imprima.\n",
    "5. Utiliza las funciones `agregar_fruta`, `eliminar_fruta` y `mostrar_frutas` para modificar y mostrar la lista `frutas`.\n",
    "\n",
    "**Output**:\n",
    "```\n",
    "Lista original: ['manzana', 'banana', 'cereza', 'durazno']\n",
    "Lista después de agregar 'kiwi': ['manzana', 'banana', 'cereza', 'durazno', 'kiwi']\n",
    "Lista después de eliminar 'banana': ['manzana', 'cereza', 'durazno', 'kiwi']\n",
    "```"
   ]
  },
  {
   "cell_type": "markdown",
   "id": "f27bb9a3",
   "metadata": {},
   "source": [
    "## C. Resumen de Conceptos Clave\n"
   ]
  },
  {
   "cell_type": "markdown",
   "id": "51de290f",
   "metadata": {},
   "source": [
    "\n",
    "1. **Listas**: Colecciones ordenadas y mutables que pueden contener elementos de diferentes tipos.\n",
    "2. **Creación de Listas**: Definidas utilizando corchetes `[]` y elementos separados por comas.\n",
    "3. **Acceso y Modificación**: Acceder a elementos mediante índices y modificarlos directamente.\n",
    "4. **Operaciones Básicas**: Concatenación (`+`), repetición (`*`), y slicing para obtener sublistas.\n",
    "5. **Métodos Comunes**: `append()`, `insert()`, `remove()`, `pop()`, `clear()`, `index()`, `count()`, `sort()`, y `reverse()`.\n",
    "6. **Iteración**: Utilizar bucles `for` para recorrer elementos o índices.\n",
    "7. **Comprensión de Listas**: Crear listas de manera concisa y eficiente utilizando expresiones dentro de una estructura de lista.\n",
    "8. **Mutabilidad**: Las listas pueden ser modificadas después de su creación.\n",
    "\n",
    "\n",
    "### Conceptos Clave de Manejo de Loops y Arreglos\n",
    "\n",
    "1. **Bucle For**: Utilizado para iterar sobre una secuencia (lista, tupla, diccionario, conjunto o cadena).\n",
    "2. **Bucle While**: Repite un"
   ]
  },
  {
   "cell_type": "markdown",
   "id": "73a3b36e",
   "metadata": {},
   "source": [
    "---\n",
    "---"
   ]
  },
  {
   "cell_type": "markdown",
   "id": "bc7812ea",
   "metadata": {},
   "source": [
    "## D. Recursos Adicionales\n",
    "\n",
    "- [Documentación Oficial de Python - Estructuras de Decisión](https://docs.python.org/3/tutorial/controlflow.html#conditional-statements)\n",
    "- [Tutorial de Estructuras de Decisión en Real Python](https://realpython.com/python-conditional-statements/)\n",
    "- [Ejemplos de Estructuras de Decisión en W3Schools](https://www.w3schools.com/python/python_conditions.asp)\n"
   ]
  },
  {
   "cell_type": "markdown",
   "id": "b3f762c9",
   "metadata": {},
   "source": [
    "---\n",
    "---"
   ]
  },
  {
   "cell_type": "markdown",
   "id": "cfced48b",
   "metadata": {},
   "source": [
    "\n",
    "\n",
    "## E. Referencias\n",
    "\n",
    "1. Van Rossum, G. (1991). *Python Tutorial*. Python Software Foundation.\n",
    "2. Lutz, M. (2013). *Learning Python*. O'Reilly Media.\n",
    "3. Sweigart, A. (2015). *Automate the Boring Stuff with Python*. No Starch Press.\n",
    "\n",
    "---"
   ]
  }
 ],
 "metadata": {
  "kernelspec": {
   "display_name": "myenv",
   "language": "python",
   "name": "python3"
  },
  "language_info": {
   "codemirror_mode": {
    "name": "ipython",
    "version": 3
   },
   "file_extension": ".py",
   "mimetype": "text/x-python",
   "name": "python",
   "nbconvert_exporter": "python",
   "pygments_lexer": "ipython3",
   "version": "3.12.4"
  }
 },
 "nbformat": 4,
 "nbformat_minor": 5
}
