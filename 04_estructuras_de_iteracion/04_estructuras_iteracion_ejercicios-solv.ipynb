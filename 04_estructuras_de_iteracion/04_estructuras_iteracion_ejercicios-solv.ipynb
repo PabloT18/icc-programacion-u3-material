{
 "cells": [
  {
   "cell_type": "markdown",
   "id": "3dbd657e",
   "metadata": {},
   "source": [
    "# Lenguanje de Programación\n",
    "### Universidad Politecnica Salesiana\n",
    "### Ingeniería en Ciencias de la Computación\n",
    "### Programación\n",
    "\n",
    "<img src=\"../assets/ups-icc.png\" alt=\"Logo Carrera\" style=\"height:75px;\"/>\n"
   ]
  },
  {
   "cell_type": "markdown",
   "id": "fc553a95",
   "metadata": {},
   "source": [
    "---"
   ]
  },
  {
   "cell_type": "markdown",
   "id": "91b62eff",
   "metadata": {},
   "source": [
    "## Autores del Material\n",
    "- **Instructor**: Ing. Pablo Torres\n",
    "- **Contacto**: ptorresp@ups.edu.ec"
   ]
  },
  {
   "cell_type": "markdown",
   "id": "819ef9c1",
   "metadata": {},
   "source": [
    "---"
   ]
  },
  {
   "cell_type": "markdown",
   "metadata": {},
   "source": [
    "##  Ejercicios Prácticos\n",
    "\n",
    "---"
   ]
  },
  {
   "cell_type": "markdown",
   "id": "72edbc2e",
   "metadata": {},
   "source": [
    "### Ejercicio A: Sumar Números Hasta que el Usuario Ingrese 0\n",
    "\n",
    "**Descripción**: Crea un programa que continúe sumando números ingresados por el usuario hasta que este ingrese `0`. Al finalizar, muestra la suma total.\n",
    "\n",
    "**Instrucciones**:\n",
    "1. Utiliza la función `input()` para solicitar al usuario que ingrese un número.\n",
    "2. Convierte la entrada a tipo `int` usando la función `int()`.\n",
    "3. Utiliza un ciclo `while` que continúe ejecutándose mientras el número ingresado no sea `0`.\n",
    "4. Suma los números ingresados en cada iteración.\n",
    "5. Al finalizar, imprime la suma total.\n"
   ]
  },
  {
   "cell_type": "markdown",
   "id": "19085001",
   "metadata": {},
   "source": [
    "---"
   ]
  },
  {
   "cell_type": "markdown",
   "id": "bda19f98",
   "metadata": {},
   "source": [
    "### Ejercicio B: Adivinar un Número\n",
    "\n",
    "**Descripción**: Crea un juego donde el programa genera un número aleatorio entre 1 y 100, y el usuario debe adivinarlo. El programa indicará si el número ingresado es mayor o menor que el número objetivo hasta que el usuario lo adivine.\n",
    "\n",
    "**Instrucciones**:\n",
    "1. Importa el módulo `random` para generar números aleatorios.\n",
    "2. Genera un número aleatorio entre 1 y 100.\n",
    "3. Utiliza un ciclo `while` que continúe hasta que el usuario adivine el número.\n",
    "4. En cada iteración, solicita al usuario que ingrese un número.\n",
    "5. Compara el número ingresado con el número objetivo e indica si es mayor o menor.\n",
    "\n",
    "**Código Base**:\n",
    "```python\n",
    "import random\n",
    "\n",
    "# Generar un número aleatorio entre 1 y 100\n",
    "numero_objetivo = random.randint(1, 100)\n",
    "\n",
    "# Inicializar la variable para el ciclo\n",
    "adivinado = False\n",
    "\n",
    "print(\"¡Bienvenido al juego de adivinar el número!\")\n",
    "print(\"He seleccionado un número entre 1 y 100. ¡Intenta adivinarlo!\")\n",
    "\n",
    "\n",
    "```"
   ]
  },
  {
   "cell_type": "markdown",
   "id": "3881f473",
   "metadata": {},
   "source": [
    "---"
   ]
  },
  {
   "cell_type": "markdown",
   "id": "45a0ec3b",
   "metadata": {},
   "source": [
    "### Ejercicio C: Calcular el Factorial de un Número\n",
    "\n",
    "**Descripción**: Crea un programa que calcule el factorial de un número ingresado por el usuario utilizando un ciclo `while`.\n",
    "\n",
    "**Instrucciones**:\n",
    "1. Utiliza la función `input()` para solicitar al usuario que ingrese un número entero positivo.\n",
    "2. Convierte la entrada a tipo `int` usando la función `int()`.\n",
    "3. Utiliza un ciclo `while` para calcular el factorial.\n",
    "4. Muestra el resultado final.\n"
   ]
  },
  {
   "cell_type": "markdown",
   "id": "284f529c",
   "metadata": {},
   "source": [
    "### Ejercicio D: Generar una Secuencia de Números hasta un Límite\n",
    "\n",
    "**Descripción**: Crea un programa que genere y muestre una secuencia de números comenzando desde 1 hasta un límite especificado por el usuario utilizando un ciclo `while`.\n",
    "\n",
    "**Instrucciones**:\n",
    "1. Utiliza la función `input()` para solicitar al usuario que ingrese el límite superior.\n",
    "2. Convierte la entrada a tipo `int` usando la función `int()`.\n",
    "3. Utiliza un ciclo `while` para generar la secuencia.\n",
    "4. Imprime cada número en la secuencia.\n",
    "\n"
   ]
  },
  {
   "cell_type": "markdown",
   "id": "a82d905e",
   "metadata": {},
   "source": [
    "---\n",
    "---"
   ]
  },
  {
   "cell_type": "markdown",
   "metadata": {},
   "source": [
    "### Ejercicio 1: Imprimir Números Pares hasta un Límite\n",
    "\n",
    "**Descripción**: Crea un programa que imprima todos los números pares desde 0 hasta un número ingresado por el usuario.\n",
    "\n",
    "**Instrucciones**:\n",
    "1. Utiliza la función `input()` para solicitar al usuario que ingrese el límite superior.\n",
    "2. Convierte la entrada a tipo `int` usando la función `int()`.\n",
    "3. Utiliza un ciclo `for` con `range()` que incremente de 2 en 2.\n",
    "4. Imprime cada número en cada iteración.\n"
   ]
  },
  {
   "cell_type": "markdown",
   "metadata": {},
   "source": [
    "---"
   ]
  },
  {
   "cell_type": "markdown",
   "metadata": {},
   "source": [
    "### Ejercicio 2: Imprimir Números Impares en Rango Específico\n",
    "\n",
    "**Descripción**: Crea un programa que imprima todos los números impares entre dos números ingresados por el usuario.\n",
    "\n",
    "**Instrucciones**:\n",
    "1. Solicita al usuario que ingrese el número de inicio y el número de fin.\n",
    "2. Convierte las entradas a tipo `int`.\n",
    "3. Utiliza un ciclo `for` con `range()` que incremente de 2 en 2, ajustando el inicio para que sea impar.\n",
    "4. Imprime cada número en cada iteración.\n",
    "\n",
    "\n"
   ]
  },
  {
   "cell_type": "markdown",
   "metadata": {},
   "source": [
    "---"
   ]
  },
  {
   "cell_type": "markdown",
   "metadata": {},
   "source": [
    "### Ejercicio 3: Generar una Lista de Múltiplos de 3\n",
    "\n",
    "**Descripción**: Crea un programa que genere y muestre una lista de los primeros `n` múltiplos de 3, donde `n` es ingresado por el usuario.\n",
    "\n",
    "**Instrucciones**:\n",
    "1. Utiliza `input()` para solicitar al usuario que ingrese el valor de `n`.\n",
    "2. Convierte la entrada a tipo `int`.\n",
    "3. Utiliza un ciclo `for` con `range()` para generar los múltiplos.\n",
    "4. Almacena los múltiplos en una lista y muestra la lista al final.\n"
   ]
  },
  {
   "cell_type": "markdown",
   "metadata": {},
   "source": [
    "---"
   ]
  },
  {
   "cell_type": "markdown",
   "metadata": {},
   "source": [
    "### Ejercicio 4: Sumar Números en un Rango con Pasos de 3\n",
    "\n",
    "**Descripción**: Crea un programa que sume todos los números en un rango especificado por el usuario, incrementando de 3 en 3.\n",
    "\n",
    "**Instrucciones**:\n",
    "1. Solicita al usuario que ingrese el inicio y el fin del rango.\n",
    "2. Convierte las entradas a tipo `int`.\n",
    "3. Utiliza `range()` con paso de 3 para iterar y sumar los números.\n",
    "4. Muestra el resultado de la suma.\n",
    "\n",
    "\n"
   ]
  },
  {
   "cell_type": "markdown",
   "metadata": {},
   "source": [
    "---"
   ]
  },
  {
   "cell_type": "markdown",
   "metadata": {},
   "source": [
    "### Ejercicio 5: Contar en Orden Descendente con Paso de 2\n",
    "\n",
    "**Descripción**: Crea un programa que cuente hacia atrás desde un número ingresado por el usuario hasta 0, decrementando de 2 en 2.\n",
    "\n",
    "**Instrucciones**:\n",
    "1. Utiliza `input()` para solicitar al usuario que ingrese el número inicial.\n",
    "2. Convierte la entrada a tipo `int`.\n",
    "3. Utiliza un ciclo `for` con `range()` que decrementa de 2 en 2.\n",
    "4. Imprime cada número en cada iteración.\n"
   ]
  },
  {
   "cell_type": "markdown",
   "metadata": {},
   "source": [
    "---"
   ]
  },
  {
   "cell_type": "markdown",
   "metadata": {},
   "source": [
    "### Ejercicio 6: Generar una Tabla de Multiplicar con Paso de 3\n",
    "\n",
    "**Descripción**: Crea un programa que genere la tabla de multiplicar de un número ingresado por el usuario, mostrando los primeros `n` múltiplos con incrementos de 3.\n",
    "\n",
    "**Instrucciones**:\n",
    "1. Solicita al usuario que ingrese el número para la tabla y el número de múltiplos.\n",
    "2. Convierte las entradas a tipo `int`.\n",
    "3. Utiliza un ciclo `for` con `range()` que incremente de 3 en 3.\n",
    "4. Imprime cada múltiplo en cada iteración.\n",
    "\n"
   ]
  },
  {
   "cell_type": "markdown",
   "metadata": {},
   "source": [
    "---"
   ]
  },
  {
   "cell_type": "markdown",
   "metadata": {},
   "source": [
    "### Ejercicio 7: Imprimir una Secuencia de Números con Paso Variable\n",
    "\n",
    "**Descripción**: Crea un programa que imprima una secuencia de números desde `a` hasta `b` con un paso especificado por el usuario.\n",
    "\n",
    "**Instrucciones**:\n",
    "1. Solicita al usuario que ingrese el valor de `a`, `b` y el paso.\n",
    "2. Convierte las entradas a tipo `int`.\n",
    "3. Utiliza `range(a, b + 1, paso)` para iterar.\n",
    "4. Imprime cada número en cada iteración.\n",
    "\n"
   ]
  },
  {
   "cell_type": "markdown",
   "metadata": {},
   "source": [
    "---"
   ]
  },
  {
   "cell_type": "markdown",
   "metadata": {},
   "source": [
    "### Ejercicio 8: Generar una Lista de Números en Rango con Paso de 3\n",
    "\n",
    "**Descripción**: Crea un programa que genere una lista de números desde 0 hasta un límite especificado, incrementando de 3 en 3.\n",
    "\n",
    "**Instrucciones**:\n",
    "1. Utiliza `input()` para solicitar al usuario que ingrese el límite.\n",
    "2. Convierte la entrada a tipo `int`.\n",
    "3. Utiliza un ciclo `for` con `range()` que incremente de 3 en 3.\n",
    "4. Almacena los números en una lista y muestra la lista al final.\n"
   ]
  },
  {
   "cell_type": "markdown",
   "metadata": {},
   "source": [
    "---"
   ]
  },
  {
   "cell_type": "markdown",
   "metadata": {},
   "source": [
    "### Ejercicio 9: Calcular el Promedio de Números en un Rango con Paso de 2\n",
    "\n",
    "**Descripción**: Crea un programa que calcule el promedio de los números en un rango especificado por el usuario, incrementando de 2 en 2.\n",
    "\n",
    "**Instrucciones**:\n",
    "1. Solicita al usuario que ingrese el inicio y el fin del rango.\n",
    "2. Convierte las entradas a tipo `int`.\n",
    "3. Utiliza `range()` con paso de 2 para iterar y sumar los números.\n",
    "4. Calcula el promedio y muestra el resultado.\n"
   ]
  },
  {
   "cell_type": "markdown",
   "metadata": {},
   "source": [
    "---"
   ]
  },
  {
   "cell_type": "markdown",
   "metadata": {},
   "source": [
    "### Ejercicio 10: Imprimir Números en Secuencia Descendente con Paso de 3\n",
    "\n",
    "**Descripción**: Crea un programa que imprima números en secuencia descendente desde un número ingresado por el usuario hasta 0, decrementando de 3 en 3.\n",
    "\n",
    "**Instrucciones**:\n",
    "1. Utiliza `input()` para solicitar al usuario que ingrese el número inicial.\n",
    "2. Convierte la entrada a tipo `int`.\n",
    "3. Utiliza un ciclo `for` con `range()` que decrementa de 3 en 3.\n",
    "4. Imprime cada número en cada iteración.\n",
    "\n"
   ]
  }
 ],
 "metadata": {
  "kernelspec": {
   "display_name": "myenv",
   "language": "python",
   "name": "python3"
  },
  "language_info": {
   "codemirror_mode": {
    "name": "ipython",
    "version": 3
   },
   "file_extension": ".py",
   "mimetype": "text/x-python",
   "name": "python",
   "nbconvert_exporter": "python",
   "pygments_lexer": "ipython3",
   "version": "3.12.4"
  }
 },
 "nbformat": 4,
 "nbformat_minor": 5
}
