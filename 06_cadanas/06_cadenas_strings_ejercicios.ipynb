{
 "cells": [
  {
   "cell_type": "markdown",
   "id": "10386c75",
   "metadata": {},
   "source": [
    "# Lenguanjes de Programación\n",
    "### Universidad Politecnica Salesiana\n",
    "### Ingeniería en Ciencias de la Computación\n",
    "### Programación\n",
    "\n",
    "<img src=\"../assets/ups-icc.png\" alt=\"Logo Carrera\" style=\"height:75px;\"/>\n"
   ]
  },
  {
   "cell_type": "markdown",
   "id": "539c7cf2",
   "metadata": {},
   "source": [
    "---"
   ]
  },
  {
   "cell_type": "markdown",
   "id": "17834042",
   "metadata": {},
   "source": [
    "## Autores del Material\n",
    "- **Estudiantes**:\n"
   ]
  },
  {
   "cell_type": "markdown",
   "id": "8f182f75",
   "metadata": {},
   "source": [
    "---"
   ]
  },
  {
   "cell_type": "markdown",
   "id": "49c8b8e9",
   "metadata": {},
   "source": [
    "## A. TEMA: Cadenas de Texto en Python Ejercicios"
   ]
  },
  {
   "cell_type": "markdown",
   "id": "9b53355e",
   "metadata": {},
   "source": []
  },
  {
   "cell_type": "markdown",
   "id": "9c078541",
   "metadata": {},
   "source": [
    "### Ejercicio 1\n",
    "\n",
    "**Descripción**: Crea una función que cuente el número de letras mayúsculas y minúsculas en una cadena de texto proporcionada por el usuario.\n",
    "\n",
    "**Instrucciones**:\n",
    "1. Define una función llamada `contar_mayusculas_minusculas` que reciba una cadena de texto.\n",
    "2. Itera sobre cada carácter de la cadena y determina si es una letra mayúscula o minúscula.\n",
    "3. Cuenta el número de mayúsculas y minúsculas.\n",
    "4. Devuelve un diccionario con el conteo de cada una.\n",
    "5. Llama a la función con diferentes cadenas y muestra los resultados.\n"
   ]
  },
  {
   "cell_type": "markdown",
   "id": "204ab3aa",
   "metadata": {},
   "source": [
    "**Output**:\n",
    "\n",
    "- Frase: \"Python Es Genial!\"\n",
    "- Mayúsculas: 3, Minúsculas: 11\n",
    "\n",
    "\n",
    "\n",
    "- Frase: \"123 ABC abc!\"\n",
    "- Mayúsculas: 3, Minúsculas: 3"
   ]
  },
  {
   "cell_type": "markdown",
   "id": "41ffcb96",
   "metadata": {},
   "source": [
    "\n",
    "### **Ejercicio 2: Función para Contar Vocales en una Cadena**\n",
    "\n",
    "**Descripción**: Crea una función que cuente el número de vocales en una cadena de texto proporcionada por el usuario.\n",
    "\n",
    "**Instrucciones**:\n",
    "1. Define una función llamada `contar_vocales` que reciba una cadena de texto.\n",
    "2. Itera sobre cada carácter de la cadena y verifica si es una vocal (`a`, `e`, `i`, `o`, `u`, tanto mayúsculas como minúsculas).\n",
    "3. Cuenta el número total de vocales.\n",
    "4. Devuelve el conteo.\n",
    "5. Llama a la función con diferentes cadenas y muestra los resultados.\n",
    "\n",
    "**Output**:\n",
    "```\n",
    "La frase \"Python es divertido.\" tiene 6 vocales.\n",
    "```"
   ]
  },
  {
   "cell_type": "markdown",
   "id": "3c434115",
   "metadata": {},
   "source": [
    "### **Ejercicio 3: Función para Contar Caracteres Específicos**\n",
    "\n",
    "**Descripción**: Crea una función que cuente cuántas veces aparece un carácter específico en una cadena de texto.\n",
    "\n",
    "**Instrucciones**:\n",
    "1. Define una función llamada `contar_caracter` que reciba una cadena de texto y un carácter.\n",
    "2. Itera sobre cada carácter de la cadena y cuenta las ocurrencias del carácter especificado.\n",
    "3. Devuelve el conteo.\n",
    "4. Llama a la función con diferentes cadenas y caracteres, y muestra los resultados.\n",
    "\n",
    "\n",
    "**Output**:\n",
    "```\n",
    "Frase: \"Python es divertido.\"\n",
    "Caracter 'o' aparece 2 veces.\n",
    "\n",
    "Frase: \"Aprender Python es útil.\"\n",
    "Caracter 'e' aparece 3 veces.\n",
    "```\n"
   ]
  },
  {
   "cell_type": "markdown",
   "id": "1649e43d",
   "metadata": {},
   "source": [
    "### **Ejercicio 4: Función para Contar Palabras en una Cadena**\n",
    "\n",
    "**Descripción**: Crea una función que cuente el número de palabras en una cadena de texto. Considera que las palabras están separadas por espacios.\n",
    "\n",
    "**Instrucciones**:\n",
    "1. Define una función llamada `contar_palabras` que reciba una cadena de texto.\n",
    "2. Inicializa un contador de palabras.\n",
    "3. Itera sobre cada carácter de la cadena:\n",
    "    - Incrementa el contador cada vez que encuentres un espacio seguido de un carácter no espacio.\n",
    "4. Considera que la primera palabra no está precedida por un espacio.\n",
    "5. Devuelve el conteo de palabras.\n",
    "\n",
    "\n",
    "**Output**:\n",
    "```\n",
    "La frase \"Python es divertido.\" tiene 3 palabras.\n",
    "La frase \"Aprender Python es útil.\" tiene 4 palabras.\n",
    "La frase \"¡Hola Mundo!\" tiene 2 palabras.\n",
    "La frase \"Este es un ejemplo.\" tiene 4 palabras.\n",
    "La frase \"\" tiene 0 palabras.\n",
    "```\n"
   ]
  },
  {
   "cell_type": "markdown",
   "id": "2b124653",
   "metadata": {},
   "source": [
    "### **Ejercicio 5: Función para Verificar si una Cadena Contiene Solo Letras**\n",
    "\n",
    "**Descripción**: Crea una función que verifique si una cadena de texto contiene solo letras (sin números ni caracteres especiales).\n",
    "\n",
    "**Instrucciones**:\n",
    "1. Define una función llamada `solo_letras` que reciba una cadena de texto.\n",
    "2. Itera sobre cada carácter de la cadena y verifica si es una letra utilizando métodos de string.\n",
    "3. Si todos los caracteres son letras, devuelve `True`; de lo contrario, `False`.\n",
    "4. Llama a la función con diferentes cadenas y muestra los resultados.\n",
    "\n",
    "\n",
    "Uso de la fucnion `isalpha()`\n",
    "\n",
    "```python\n",
    "caracter = 'a'\n",
    "isLetra = caracter.isalpha() # TRUE\n",
    "print(isLetra)\n",
    "caracter2 = '1'\n",
    "isLetra2 = caracter2.isalpha() # FALSE\n",
    "print(isLetra2)\n",
    "```\n",
    "```\n",
    "TRUE\n",
    "FALSE\n",
    "```\n",
    "\n",
    "**Output**:\n",
    "```\n",
    "¿La frase \"Python\" contiene solo letras? Sí\n",
    "¿La frase \"HolaMundo\" contiene solo letras? Sí\n",
    "¿La frase \"Python3\" contiene solo letras? No\n",
    "¿La frase \"¡Hola Mundo!\" contiene solo letras? No\n",
    "¿La frase \"EsteEjemplo\" contiene solo letras? Sí\n",
    "¿La frase \"\" contiene solo letras? No\n",
    "```"
   ]
  },
  {
   "cell_type": "markdown",
   "id": "ae105a54",
   "metadata": {},
   "source": [
    "---\n",
    "---"
   ]
  },
  {
   "cell_type": "markdown",
   "id": "f27bb9a3",
   "metadata": {},
   "source": [
    "## C. Resumen de Conceptos Clave\n"
   ]
  },
  {
   "cell_type": "markdown",
   "id": "51de290f",
   "metadata": {},
   "source": [
    "\n",
    "1. **Cadenas de Texto (Strings)**: Secuencias de caracteres utilizadas para representar y manipular texto.\n",
    "2. **Creación de Cadenas**: Se pueden definir usando comillas simples, dobles o triples.\n",
    "3. **Concatenación**: Unir dos o más cadenas utilizando el operador `+` o métodos como `join()`.\n",
    "4. **Métodos de Formateo**: Convertir cadenas a mayúsculas (`upper()`), minúsculas (`lower()`), capitalizar (`title()`), entre otros.\n",
    "5. **Eliminar Espacios**: Usar `strip()` para eliminar espacios al inicio y al final.\n",
    "6. **Reemplazar Subcadenas**: Usar `replace()` para sustituir partes de una cadena.\n",
    "7. **Dividir y Unir**: Usar `split()` para dividir cadenas en listas y `join()` para unir listas en cadenas.\n",
    "8. **Iteración**: Usar bucles `for` para recorrer cada carácter de una cadena.\n",
    "9. **Contar Caracteres**: Usar `len()` para contar el total y `count()` para contar ocurrencias específicas.\n",
    "10. **Formateo de Cadenas**: Insertar variables en cadenas utilizando f-strings, `format()` o el operador `%`.\n",
    "11. **Indexación y Slicing**: Acceder a caracteres individuales y subcadenas mediante índices."
   ]
  },
  {
   "cell_type": "markdown",
   "id": "73a3b36e",
   "metadata": {},
   "source": [
    "---\n",
    "---"
   ]
  },
  {
   "cell_type": "markdown",
   "id": "bc7812ea",
   "metadata": {},
   "source": [
    "## D. Recursos Adicionales\n",
    "\n",
    "- [Documentación Oficial de Python - Estructuras de Decisión](https://docs.python.org/3/tutorial/controlflow.html#conditional-statements)\n",
    "- [Tutorial de Estructuras de Decisión en Real Python](https://realpython.com/python-conditional-statements/)\n",
    "- [Ejemplos de Estructuras de Decisión en W3Schools](https://www.w3schools.com/python/python_conditions.asp)\n"
   ]
  },
  {
   "cell_type": "markdown",
   "id": "b3f762c9",
   "metadata": {},
   "source": [
    "---\n",
    "---"
   ]
  },
  {
   "cell_type": "markdown",
   "id": "cfced48b",
   "metadata": {},
   "source": [
    "\n",
    "\n",
    "## E. Referencias\n",
    "\n",
    "1. Van Rossum, G. (1991). *Python Tutorial*. Python Software Foundation.\n",
    "2. Lutz, M. (2013). *Learning Python*. O'Reilly Media.\n",
    "3. Sweigart, A. (2015). *Automate the Boring Stuff with Python*. No Starch Press.\n",
    "\n",
    "---"
   ]
  }
 ],
 "metadata": {
  "kernelspec": {
   "display_name": "myenv",
   "language": "python",
   "name": "python3"
  },
  "language_info": {
   "codemirror_mode": {
    "name": "ipython",
    "version": 3
   },
   "file_extension": ".py",
   "mimetype": "text/x-python",
   "name": "python",
   "nbconvert_exporter": "python",
   "pygments_lexer": "ipython3",
   "version": "3.12.4"
  }
 },
 "nbformat": 4,
 "nbformat_minor": 5
}
