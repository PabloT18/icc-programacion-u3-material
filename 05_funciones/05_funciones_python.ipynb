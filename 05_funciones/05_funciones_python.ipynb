{
 "cells": [
  {
   "cell_type": "markdown",
   "id": "10386c75",
   "metadata": {},
   "source": [
    "# Lenguanjes de Programación\n",
    "### Universidad Politecnica Salesiana\n",
    "### Ingeniería en Ciencias de la Computación\n",
    "### Programación\n",
    "\n",
    "<img src=\"../assets/ups-icc.png\" alt=\"Logo Carrera\" style=\"height:75px;\"/>\n"
   ]
  },
  {
   "cell_type": "markdown",
   "id": "539c7cf2",
   "metadata": {},
   "source": [
    "---"
   ]
  },
  {
   "cell_type": "markdown",
   "id": "17834042",
   "metadata": {},
   "source": [
    "## Autores del Material\n",
    "- **Instructor**: Ing. Pablo Torres\n",
    "- **Contacto**: ptorresp@ups.edu.ec"
   ]
  },
  {
   "cell_type": "markdown",
   "id": "8f182f75",
   "metadata": {},
   "source": [
    "---"
   ]
  },
  {
   "cell_type": "markdown",
   "id": "301fb1fb",
   "metadata": {},
   "source": [
    "##  Practica Autonma  \n",
    "**Funciones en Python**\n",
    "\n",
    "### Descripción General\n",
    "Requisitos del Sistema\n",
    "\n",
    "El sistema simula una aplicación de perfil ambiental en la que los usuarios ingresan datos sobre sus hábitos para obtener un \"perfil ecológico.\" Según la frecuencia de ciertas actividades y prácticas, los usuarios recibirán recomendaciones personalizadas para mejorar su impacto ambiental. Los usuarios ingresarán su nombre, edad, ciudad, y luego se les pedirá información adicional basada en su categoría de hábitos ecológicos. Esta categoría se define en función de tres datos de entrada clave:\n",
    "\n",
    "Frecuencia de reciclaje (reciclaje_frecuencia): un número entero que representa la frecuencia en días en la que reciclan.\n",
    "Tipo de transporte habitual (tipo_transporte): una cadena de texto que especifica su medio de transporte principal, como \"publico\", \"auto\", o \"bici\".\n",
    "Tipo de dieta (tipo_dieta): una cadena de texto que describe su dieta (por ejemplo, \"carnivora\", \"vegetariana\", o \"vegana\").\n",
    "\n",
    "\n",
    "### Objetivos de Aprendizaje\n",
    "- Crear funciones en Python que permitan categorizar a una persona en función de sus respuestas sobre prácticas ecológicas y generar un perfil con recomendaciones personalizadas. El perfil se muestra al final de la interacción."
   ]
  },
  {
   "cell_type": "markdown",
   "id": "eefcdb43",
   "metadata": {},
   "source": [
    "---"
   ]
  },
  {
   "cell_type": "markdown",
   "id": "d4748d13",
   "metadata": {},
   "source": [
    "## 1. Introducción a las Funciones\n",
    "\n",
    "Las funciones son bloques de código que realizan tareas específicas y pueden ser reutilizados en diferentes partes de un programa. Ayudan a organizar el código, mejorar la legibilidad y facilitar el mantenimiento.\n",
    "\n",
    "### 1.1. Definición y Propósito\n",
    "\n",
    "- **Definición**: Una función es un bloque de código que se ejecuta solo cuando es llamada. Puede recibir entradas, conocidas como parámetros, y puede devolver una salida.\n",
    "- **Propósito**: Facilitar la reutilización del código, mejorar la organización y reducir la redundancia.\n",
    "\n",
    "### 1.2. Sintaxis de una Función\n",
    "\n",
    "La sintaxis básica para definir una función en Python utiliza la palabra clave `def`, seguida del nombre de la función y paréntesis que pueden contener parámetros.\n",
    "\n",
    "```python\n",
    "def nombre_de_la_funcion(parametros):\n",
    "    \"\"\"\n",
    "    Docstring opcional que describe la función.\n",
    "    \"\"\"\n",
    "    # Bloque de código\n",
    "    return valor_de_retorno\n",
    "```"
   ]
  },
  {
   "cell_type": "markdown",
   "id": "a94be3f8",
   "metadata": {},
   "source": [
    "### 1.3. Parámetros y Argumentos\n",
    "\n",
    "- **Parámetros**: Variables que se definen dentro de los paréntesis en la definición de la función.\n",
    "- **Argumentos**: Valores que se pasan a la función cuando se llama.\n",
    "\n",
    "**Ejemplo**:\n",
    "```python\n",
    "def saludar(nombre):\n",
    "    print(f\"Hola, {nombre}!\")\n",
    "\n",
    "saludar(\"Ana\")  # Llamada a la función con el argumento \"Ana\"\n",
    "```"
   ]
  },
  {
   "cell_type": "code",
   "execution_count": 1,
   "id": "3e645ad4",
   "metadata": {},
   "outputs": [
    {
     "name": "stdout",
     "output_type": "stream",
     "text": [
      "Hola Pablo\n"
     ]
    }
   ],
   "source": [
    "def saludar(nombre):\n",
    "    print(f\"Hola {nombre}\")\n",
    "\n",
    "\n",
    "saludar(\"Pablo\")"
   ]
  },
  {
   "cell_type": "code",
   "execution_count": 28,
   "id": "eff5885b",
   "metadata": {},
   "outputs": [
    {
     "name": "stdout",
     "output_type": "stream",
     "text": [
      "Hola True\n",
      "Hola True\n"
     ]
    }
   ],
   "source": [
    "def saludar(nombre):\n",
    "    print(f\"Hola {nombre}\")\n",
    "    print(f\"Hola {nombre}\")\n",
    "\n",
    "for i in range(3):\n",
    "    if i %2 ==0:\n",
    "        nombre_tres = \"Pablo\"\n",
    "        saludar(nombre_tres)\n",
    "    else:\n",
    "        nombre_tres = \"Pablo\" + str(i)\n",
    "        saludar(nombre_tres)\n"
   ]
  },
  {
   "cell_type": "code",
   "execution_count": null,
   "id": "256815b0",
   "metadata": {},
   "outputs": [
    {
     "name": "stdout",
     "output_type": "stream",
     "text": [
      "Hola Deste otro bloque\n",
      "Hola Deste otro bloque\n"
     ]
    }
   ],
   "source": [
    "saludar(\"Deste otro bloque\")"
   ]
  },
  {
   "cell_type": "code",
   "execution_count": null,
   "id": "735e933f",
   "metadata": {},
   "outputs": [],
   "source": [
    "def saludar():\n",
    "    print(f\"Hola \")\n",
    "\n",
    "saludar()"
   ]
  },
  {
   "cell_type": "markdown",
   "id": "3f2513e3",
   "metadata": {},
   "source": [
    "### 1.4. Valor de Retorno\n",
    "\n",
    "Las funciones pueden devolver valores utilizando la palabra clave `return`. Si una función no tiene una declaración `return`, devuelve `None` por defecto.\n",
    "\n",
    "**Ejemplo**:\n",
    "```python\n",
    "def sumar(a, b):\n",
    "    return a + b\n",
    "\n",
    "resultado = sumar(5, 3)\n",
    "print(resultado)  # Output: 8\n",
    "```"
   ]
  },
  {
   "cell_type": "code",
   "execution_count": 36,
   "id": "dff54344",
   "metadata": {},
   "outputs": [
    {
     "name": "stdout",
     "output_type": "stream",
     "text": [
      "8\n",
      "9\n"
     ]
    }
   ],
   "source": [
    "a = 5\n",
    "b =3\n",
    "def sumar(a, b):\n",
    "    res=a + b\n",
    "    return res\n",
    "\n",
    "resultado = sumar(a,a-1)\n",
    "print(a+b)\n",
    "print(resultado)"
   ]
  },
  {
   "cell_type": "markdown",
   "id": "339b762a",
   "metadata": {},
   "source": [
    "### 1.5. Ejemplos Básicos de Funciones\n",
    "\n",
    "**Función sin parámetros ni retorno**:\n",
    "```python\n",
    "def imprimir_mensaje():\n",
    "    print(\"Esta es una función sin parámetros ni retorno.\")\n",
    "\n",
    "imprimir_mensaje()\n",
    "```\n",
    "\n",
    "**Función con múltiples parámetros**:\n",
    "```python\n",
    "def multiplicar(a, b):\n",
    "    return a * b\n",
    "\n",
    "producto = multiplicar(4, 5)\n",
    "print(producto)  # Output: 20\n",
    "```"
   ]
  },
  {
   "cell_type": "markdown",
   "id": "c97637bc",
   "metadata": {},
   "source": [
    "---"
   ]
  },
  {
   "cell_type": "markdown",
   "id": "dca3477e",
   "metadata": {},
   "source": [
    "##  B. Ejercicios Prácticos"
   ]
  },
  {
   "cell_type": "markdown",
   "id": "9f4ef012",
   "metadata": {},
   "source": [
    "### Ejercicio 1: Función para Calcular el Área de un Círculo\n",
    "\n",
    "**Descripción**: Crea una función que calcule el área de un círculo dado su radio.\n",
    "\n",
    "**Instrucciones**:\n",
    "1. Define una función llamada `area_circulo` que reciba el radio como parámetro.\n",
    "2. Calcula el área utilizando la fórmula: Área = π * radio².\n",
    "3. Devuelve el valor del área.\n",
    "4. Llama a la función con un radio de tu elección y muestra el resultado.\n",
    "\n",
    "```python\n",
    "import math\n",
    "\n",
    "def area_circulo(radio):\n",
    "    \"\"\"\n",
    "    Calcula el área de un círculo dado su radio.\n",
    "    \"\"\"\n",
    "    area = math.pi * radio ** 2\n",
    "    return area\n",
    "\n",
    "# Ejemplo de uso\n",
    "radio = 5\n",
    "resultado = area_circulo(radio)\n",
    "print(f\"El área del círculo con radio {radio} es: {resultado:.2f}\")\n",
    "```"
   ]
  },
  {
   "cell_type": "code",
   "execution_count": 40,
   "id": "5e14d18b",
   "metadata": {},
   "outputs": [],
   "source": [
    "def area_circulo(radio):\n",
    "    return radio**2 * 3.14"
   ]
  },
  {
   "cell_type": "code",
   "execution_count": 41,
   "id": "3f8ee495",
   "metadata": {},
   "outputs": [
    {
     "name": "stdout",
     "output_type": "stream",
     "text": [
      "el resultado es = 78.5\n"
     ]
    }
   ],
   "source": [
    "radio = int(input(\"Ingrese el radio\"))\n",
    "resultado = area_circulo(radio)\n",
    "print(f\"el resultado es = {resultado}\")"
   ]
  },
  {
   "cell_type": "markdown",
   "id": "e1d3c91a",
   "metadata": {},
   "source": [
    "## C. Resumen de Conceptos Clave\n",
    "\n",
    "\n",
    "1. **Funciones**: Bloques de código reutilizables que realizan tareas específicas.\n",
    "2. **Definición de Funciones**: Se utilizan la palabra clave `def` seguida del nombre de la función y paréntesis que pueden contener parámetros.\n",
    "3. **Parámetros y Argumentos**: Parámetros son variables definidas en la función; argumentos son los valores pasados a la función al llamarla.\n",
    "4. **Valor de Retorno**: Las funciones pueden devolver valores utilizando la palabra clave `return`.\n",
    "5. **Funciones con Múltiples Parámetros**: Las funciones pueden aceptar múltiples parámetros para realizar operaciones más complejas.\n",
    "6. **Funciones con Parámetros por Defecto**: Permiten asignar valores por defecto a los parámetros, haciendo opcional su especificación al llamar a la función.\n",
    "7. **Funciones Lambda**: Funciones anónimas de una sola línea que se utilizan para operaciones simples.\n",
    "8. **Documentación de Funciones**: Las docstrings (`\"\"\" \"\"\"`) se utilizan para documentar la funcionalidad de las funciones.\n",
    "9. **Alcance de las Variables (Scope)**: Las variables definidas dentro de una función son locales y no afectan al resto del programa.\n",
    "10. **Modularización y Reutilización de Código**: Las funciones facilitan la división del código en módulos más manejables y reutilizables.\n",
    "11. **Importación de Módulos y Funciones**: Permite utilizar funciones definidas en otros archivos o módulos, promoviendo la reutilización del código."
   ]
  },
  {
   "cell_type": "markdown",
   "id": "bc7812ea",
   "metadata": {},
   "source": [
    "## D. Recursos Adicionales\n",
    "\n",
    "- [Documentación Oficial de Python - Estructuras de Decisión](https://docs.python.org/3/tutorial/controlflow.html#conditional-statements)\n",
    "- [Tutorial de Estructuras de Decisión en Real Python](https://realpython.com/python-conditional-statements/)\n",
    "- [Ejemplos de Estructuras de Decisión en W3Schools](https://www.w3schools.com/python/python_conditions.asp)\n"
   ]
  },
  {
   "cell_type": "markdown",
   "id": "cfced48b",
   "metadata": {},
   "source": [
    "---\n",
    "\n",
    "## E. Referencias\n",
    "\n",
    "1. Van Rossum, G. (1991). *Python Tutorial*. Python Software Foundation.\n",
    "2. Lutz, M. (2013). *Learning Python*. O'Reilly Media.\n",
    "3. Sweigart, A. (2015). *Automate the Boring Stuff with Python*. No Starch Press.\n",
    "\n",
    "---"
   ]
  }
 ],
 "metadata": {
  "kernelspec": {
   "display_name": "env-pro-py",
   "language": "python",
   "name": "python3"
  },
  "language_info": {
   "codemirror_mode": {
    "name": "ipython",
    "version": 3
   },
   "file_extension": ".py",
   "mimetype": "text/x-python",
   "name": "python",
   "nbconvert_exporter": "python",
   "pygments_lexer": "ipython3",
   "version": "3.12.4"
  }
 },
 "nbformat": 4,
 "nbformat_minor": 5
}
